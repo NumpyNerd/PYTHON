{
  "nbformat": 4,
  "nbformat_minor": 0,
  "metadata": {
    "colab": {
      "provenance": []
    },
    "kernelspec": {
      "name": "python3",
      "display_name": "Python 3"
    },
    "language_info": {
      "name": "python"
    }
  },
  "cells": [
    {
      "cell_type": "markdown",
      "source": [
        "**Statements**\n",
        "\n",
        "---\n",
        "\n",
        "* Part 1: if statement, elif statement, else\n",
        "* Part 2: The combine statement of if, else, and elif\n",
        "* Part 3: Table Condition\n",
        "* Part 4: And / Or Condition\n",
        "* Part 5: Function in conditional statements\n",
        "* Part 6: Nested Condition\n",
        "* Part 7: Loop / While Loop\n",
        "* Part 8: Nested Loop\n",
        "* Part 9: Count Function\n",
        "* Part 10: Return vs Print\n",
        "* Part 11: Exercise\n",
        "\n"
      ],
      "metadata": {
        "id": "53XTS-G98za-"
      }
    },
    {
      "cell_type": "markdown",
      "source": [
        "**if statement, elif statement, else**\n",
        "\n",
        "---\n",
        "\n"
      ],
      "metadata": {
        "id": "OkpI6eJXTVHh"
      }
    },
    {
      "cell_type": "markdown",
      "source": [
        "**The 'if' statement**\n",
        "\n",
        "---\n",
        "\n"
      ],
      "metadata": {
        "id": "IaT9ZmFwOdjN"
      }
    },
    {
      "cell_type": "code",
      "source": [
        "country = 'Malaysia'\n",
        "\n",
        "if country == 'Malaysia':#True\n",
        "  print('Country is Malaysia')"
      ],
      "metadata": {
        "colab": {
          "base_uri": "https://localhost:8080/"
        },
        "id": "3nyTckjQSYQz",
        "outputId": "a1ed7e49-e875-4c42-82ca-8d81b5eac5c0"
      },
      "execution_count": null,
      "outputs": [
        {
          "output_type": "stream",
          "name": "stdout",
          "text": [
            "Country is Malaysia\n"
          ]
        }
      ]
    },
    {
      "cell_type": "code",
      "source": [
        "country = 'Malaysia'\n",
        "\n",
        "if country == 'Singapore':#False\n",
        "  print('Country is Singapore')"
      ],
      "metadata": {
        "id": "h1-yqzRwUBtD"
      },
      "execution_count": null,
      "outputs": []
    },
    {
      "cell_type": "markdown",
      "source": [
        "**The 'else' statement**\n",
        "\n",
        "---\n",
        "\n"
      ],
      "metadata": {
        "id": "ElssHhQVOlcW"
      }
    },
    {
      "cell_type": "code",
      "source": [
        "country = 'Malaysia'\n",
        "\n",
        "if country == 'Singapore':#False\n",
        "  print('Country is Singapore')\n",
        "\n",
        "else:\n",
        "    print('Country is Malaysia')"
      ],
      "metadata": {
        "colab": {
          "base_uri": "https://localhost:8080/"
        },
        "id": "3hwsuJX2UZ9d",
        "outputId": "b00c810d-e560-4255-e65d-e2bc8d1081cf"
      },
      "execution_count": null,
      "outputs": [
        {
          "output_type": "stream",
          "name": "stdout",
          "text": [
            "Country is Malaysia\n"
          ]
        }
      ]
    },
    {
      "cell_type": "markdown",
      "source": [
        "**The 'elif' statement**\n",
        "\n",
        "---\n",
        "\n"
      ],
      "metadata": {
        "id": "djJsPX71Or8R"
      }
    },
    {
      "cell_type": "code",
      "source": [
        "country = 'Malaysia'\n",
        "\n",
        "if country == 'Singapore':#False\n",
        "  print('Country is Singapore')\n",
        "\n",
        "elif country == 'Thailand':#False\n",
        "  print('Country is Thailand')\n",
        "\n",
        "else:\n",
        "    print('Country is Malaysia')"
      ],
      "metadata": {
        "colab": {
          "base_uri": "https://localhost:8080/"
        },
        "id": "W52hrctoUvtS",
        "outputId": "e939d6d2-4625-461d-b7b7-3cef6e53ae02"
      },
      "execution_count": null,
      "outputs": [
        {
          "output_type": "stream",
          "name": "stdout",
          "text": [
            "Country is Malaysia\n"
          ]
        }
      ]
    },
    {
      "cell_type": "markdown",
      "source": [
        "**The combine statement of if, else, and elif**\n",
        "\n",
        "---\n",
        "\n",
        "* The if-elif-else ladder is used when you have multiple conditions to check in sequence.\n",
        "\n",
        "* Only one block of code will be executed, and as soon as a true condition is found, the subsequent elif and else statements are not checked.\n",
        "\n",
        "\n",
        "* Example:\n",
        "\n",
        "if condition1:\n",
        "    # Code to execute if condition1 is true\n",
        "elif condition2:\n",
        "    # Code to execute if condition1 is false and condition2 is true\n",
        "elif condition3:\n",
        "    # Code to execute if condition1 and condition2 are false and condition3 is true\n",
        "else:\n",
        "    # Code to execute if all the above conditions are false"
      ],
      "metadata": {
        "id": "OyZiHHEXPPPl"
      }
    },
    {
      "cell_type": "code",
      "source": [
        "country = 'Malaysia'\n",
        "\n",
        "if country == 'Singapore':#False\n",
        "  print('Country is Singapore')\n",
        "\n",
        "elif country == 'Thailand':#False\n",
        "  print('Country is Thailand')\n",
        "\n",
        "elif country != 'Singapore':\n",
        "  print('Country is unknown')\n",
        "\n",
        "else:\n",
        "    print('Country is Malaysia')"
      ],
      "metadata": {
        "colab": {
          "base_uri": "https://localhost:8080/"
        },
        "id": "jckHnmJBVXbB",
        "outputId": "372dcd4c-faec-4733-939e-b210b46f55d7"
      },
      "execution_count": null,
      "outputs": [
        {
          "output_type": "stream",
          "name": "stdout",
          "text": [
            "Country is unknown\n"
          ]
        }
      ]
    },
    {
      "cell_type": "markdown",
      "source": [
        "The table condition:\n",
        "\n",
        "\n",
        "'and' and 'or' are used to combine multiple conditions in a single if, elif, or else statement."
      ],
      "metadata": {
        "id": "fe-7zIfyOxVn"
      }
    },
    {
      "cell_type": "markdown",
      "source": [
        "<img src=\"https://s3-api.us-geo.objectstorage.softlayer.net/cf-courses-data/CognitiveClass/PY0101EN/Chapter%203/Images/CondsTable.png\" width=\"650\" />"
      ],
      "metadata": {
        "id": "YXHAjWy_Wjrv"
      }
    },
    {
      "cell_type": "markdown",
      "source": [
        "**AND / OR condition**\n",
        "\n",
        "---\n",
        "\n"
      ],
      "metadata": {
        "id": "AtMobCGVPwor"
      }
    },
    {
      "cell_type": "code",
      "source": [
        "country = 'Malaysia'\n",
        "year = 2024\n",
        "\n",
        "if country == 'Malaysia' and year == 2020:#false\n",
        "  print('Country is Malaysia and year is 2020')"
      ],
      "metadata": {
        "id": "1jjod9DVV-1I"
      },
      "execution_count": null,
      "outputs": []
    },
    {
      "cell_type": "code",
      "source": [
        "country = 'Malaysia'\n",
        "year = 2024\n",
        "\n",
        "if country == 'Malaysia' or year == 2020:#false\n",
        "  print('Country is Malaysia and year is 2020')"
      ],
      "metadata": {
        "colab": {
          "base_uri": "https://localhost:8080/"
        },
        "id": "4rg2tfGrXK4I",
        "outputId": "9bd934a5-4853-4910-dd7e-9852731d5c2d"
      },
      "execution_count": null,
      "outputs": [
        {
          "output_type": "stream",
          "name": "stdout",
          "text": [
            "Country is Malaysia and year is 2020\n"
          ]
        }
      ]
    },
    {
      "cell_type": "markdown",
      "source": [
        "Note:\n",
        "\n",
        "!= symbol in Python is the \" not equal to \"\n",
        "\n",
        "\n",
        "\n",
        "* It is used to compare two values to check if they are different from each other\n",
        "* If the values are not equal, the operator returns True; otherwise, it returns False.\n",
        "\n",
        "== symbol is the \" is it true \""
      ],
      "metadata": {
        "id": "Rr-90mpj4-o6"
      }
    },
    {
      "cell_type": "code",
      "source": [
        "country = 'Malaysia'\n",
        "year = 2024\n",
        "\n",
        "if country == 'Malaysia' and year == 2020:#False\n",
        "  print('Country is Malaysia and year is 2020')\n",
        "\n",
        "elif country == 'Malaysia' and year > 2020:#True\n",
        "  print('Country is Malaysia and year is earlier than 2020')"
      ],
      "metadata": {
        "colab": {
          "base_uri": "https://localhost:8080/"
        },
        "id": "izP9A30cXmAY",
        "outputId": "b5d24f97-3f15-4663-a534-7c5aa99e104c"
      },
      "execution_count": null,
      "outputs": [
        {
          "output_type": "stream",
          "name": "stdout",
          "text": [
            "Country is Malaysia and year is earlier than 2020\n"
          ]
        }
      ]
    },
    {
      "cell_type": "code",
      "source": [
        "#write a code for finding the even and odd numbers\n",
        "\n",
        "even = [1,2,3,5,6,7,9]\n",
        "odd = [1,3,5,7,9]\n",
        "\n",
        "if even == [1,2,3,5,6,7,9] and odd == [1,3,5,7,9]:\n",
        "  print('even and odd are equal')"
      ],
      "metadata": {
        "id": "Kdh2QfLLfbRN",
        "colab": {
          "base_uri": "https://localhost:8080/"
        },
        "outputId": "ba9bf267-6aff-4f8a-d6dd-20ec94f6b141"
      },
      "execution_count": null,
      "outputs": [
        {
          "output_type": "stream",
          "name": "stdout",
          "text": [
            "even and odd are equal\n"
          ]
        }
      ]
    },
    {
      "cell_type": "code",
      "source": [
        "#write a code for finding the even and odd numbers\n",
        "\n",
        "n1 = 10%2\n",
        "n2 = 5%3\n",
        "\n",
        "if n1 == 0:\n",
        "  print('n1 is even')\n",
        "else:\n",
        "  print('n1 is odd')\n",
        "\n",
        "if n2 == 0:\n",
        "  print('n2 is even')\n",
        "else:\n",
        "  print('n2 is odd')"
      ],
      "metadata": {
        "colab": {
          "base_uri": "https://localhost:8080/"
        },
        "id": "yF4VPVT0g8P0",
        "outputId": "ba256e31-627c-436c-f900-0a91c457f4ab"
      },
      "execution_count": null,
      "outputs": [
        {
          "output_type": "stream",
          "name": "stdout",
          "text": [
            "n1 is even\n",
            "n2 is odd\n"
          ]
        }
      ]
    },
    {
      "cell_type": "code",
      "source": [
        "num = 11\n",
        "if num%2 == 0:\n",
        "  print('num is even')\n",
        "\n",
        "else:\n",
        "  print('num is odd')"
      ],
      "metadata": {
        "colab": {
          "base_uri": "https://localhost:8080/"
        },
        "id": "8s73r7Rihfmr",
        "outputId": "e0ba74df-da1d-4aa4-c431-bf17c2cfb725"
      },
      "execution_count": null,
      "outputs": [
        {
          "output_type": "stream",
          "name": "stdout",
          "text": [
            "num is odd\n"
          ]
        }
      ]
    },
    {
      "cell_type": "markdown",
      "source": [
        "**Function in conditional statements**\n",
        "\n",
        "---\n",
        "\n"
      ],
      "metadata": {
        "id": "oGDujcE-QSxP"
      }
    },
    {
      "cell_type": "code",
      "source": [
        "input_num = input('Enter a number')\n",
        "\n",
        "input_num = int(input_num)\n",
        "\n",
        "if input_num%2 == 0:\n",
        "  print('The number is even')\n",
        "\n",
        "else:\n",
        "  print('The number is odd')"
      ],
      "metadata": {
        "colab": {
          "base_uri": "https://localhost:8080/"
        },
        "id": "NfZiMKkmiJuF",
        "outputId": "f4ca21dd-2017-45f8-a575-277a686c07e6"
      },
      "execution_count": null,
      "outputs": [
        {
          "output_type": "stream",
          "name": "stdout",
          "text": [
            "Enter a number6\n",
            "The number is even\n"
          ]
        }
      ]
    },
    {
      "cell_type": "markdown",
      "source": [
        "**Nested Condition**\n",
        "\n",
        "---\n",
        "\n",
        "Nested Statements: Allows for more complex conditions by nesting if, elif, and else statements within each other"
      ],
      "metadata": {
        "id": "SJJwqPfLQaeT"
      }
    },
    {
      "cell_type": "code",
      "source": [
        "#nested if,elif, else\n",
        "\n",
        "price = 1000\n",
        "car = 'Proton'\n",
        "\n",
        "if price > 500:#True\n",
        "  if price == 700:#False\n",
        "    print('The price is more than 700')\n",
        "\n",
        "  else:\n",
        "    if price == 100 or car == 'Proton':\n",
        "      print('Car is Proton')\n",
        "\n",
        "    else:\n",
        "      print('Price and Car are unknown')"
      ],
      "metadata": {
        "colab": {
          "base_uri": "https://localhost:8080/"
        },
        "id": "ceF8SMHHixKR",
        "outputId": "361f8ef7-997a-4d82-ac36-3b3237e2f1e4"
      },
      "execution_count": null,
      "outputs": [
        {
          "output_type": "stream",
          "name": "stdout",
          "text": [
            "Car is Proton\n"
          ]
        }
      ]
    },
    {
      "cell_type": "code",
      "source": [
        "#nested if,elif, else\n",
        "\n",
        "price = 1000\n",
        "car = 'Proton'\n",
        "\n",
        "if price > 500:\n",
        "  if price == 700:\n",
        "    print('The price is more than 700')\n",
        "\n",
        "  else:\n",
        "    if price == 100 or car == 'Proton':\n",
        "      print('Car is Proton')\n",
        "\n",
        "    else:\n",
        "      print('Price and Car are unknown')"
      ],
      "metadata": {
        "colab": {
          "base_uri": "https://localhost:8080/"
        },
        "id": "SsUSY138kET1",
        "outputId": "6bf8a1e6-fa97-4411-ee16-1cc30389cdd8"
      },
      "execution_count": null,
      "outputs": [
        {
          "output_type": "stream",
          "name": "stdout",
          "text": [
            "Car is Proton\n"
          ]
        }
      ]
    },
    {
      "cell_type": "markdown",
      "source": [
        "Note:\n",
        "\n",
        "* Make sure the indentation (empty space) is correct\n",
        "* you will have syntax error if there is indentation wrong\n",
        "* Make sure it lies inside since it is nested statements"
      ],
      "metadata": {
        "id": "XRfKC7Gm5sj_"
      }
    },
    {
      "cell_type": "code",
      "source": [
        "price = 200\n",
        "house = 'bungalow'\n",
        "\n",
        "if price > 500:#false\n",
        "  if price == 200:#true\n",
        "    print('Price is 200')\n",
        "\n",
        "  else:\n",
        "    if house != 'bungalow':\n",
        "      if house == 'bungalow':\n",
        "         print('House is bungalow')\n",
        "\n",
        "      elif house != 'villa':\n",
        "         print('House is villa')\n",
        "\n",
        "    else:\n",
        "      print('House is unknown')"
      ],
      "metadata": {
        "id": "UI6oOuoDlhdg"
      },
      "execution_count": null,
      "outputs": []
    },
    {
      "cell_type": "markdown",
      "source": [
        "**Loop Function**\n",
        "\n",
        "---\n",
        "\n"
      ],
      "metadata": {
        "id": "fPumL5KdQfH_"
      }
    },
    {
      "cell_type": "markdown",
      "source": [
        "**Loops and while loops**\n",
        "\n",
        "Using a loop makes it much more practical and efficient to perform repetitive tasks like printing the elements of a list"
      ],
      "metadata": {
        "id": "3JPCVH6voivg"
      }
    },
    {
      "cell_type": "markdown",
      "source": [
        "**Below is an example of not the best way to write a code**\n",
        "\n",
        "* Repeating the code might increase risk of error\n",
        "* When the same code is repeated in multiple places, maintaining and updating the code becomes more challenging."
      ],
      "metadata": {
        "id": "RBPf-sg66Pk7"
      }
    },
    {
      "cell_type": "code",
      "source": [
        "list_num = [100, 200, 300, 400, 500]\n",
        "\n",
        "print (list_num[0])\n",
        "print (list_num[1])\n",
        "print (list_num[2])\n",
        "print (list_num[3])\n",
        "print (list_num[4])"
      ],
      "metadata": {
        "colab": {
          "base_uri": "https://localhost:8080/"
        },
        "id": "r0XpZssgoZ7K",
        "outputId": "b46d2928-7f3a-4ec8-a3e3-79096567ded8"
      },
      "execution_count": null,
      "outputs": [
        {
          "output_type": "stream",
          "name": "stdout",
          "text": [
            "100\n",
            "200\n",
            "300\n",
            "400\n",
            "500\n"
          ]
        }
      ]
    },
    {
      "cell_type": "markdown",
      "source": [
        "**For loop**"
      ],
      "metadata": {
        "id": "tgGsleqYpAP4"
      }
    },
    {
      "cell_type": "code",
      "source": [
        "list_num"
      ],
      "metadata": {
        "colab": {
          "base_uri": "https://localhost:8080/"
        },
        "id": "A396OHS9o-UM",
        "outputId": "5763f800-8af1-493c-ba4a-7b0c4c478cfc"
      },
      "execution_count": null,
      "outputs": [
        {
          "output_type": "execute_result",
          "data": {
            "text/plain": [
              "[100, 200, 300, 400, 500]"
            ]
          },
          "metadata": {},
          "execution_count": 73
        }
      ]
    },
    {
      "cell_type": "markdown",
      "source": [
        "Note:\n",
        "\n",
        "* we use a statement"
      ],
      "metadata": {
        "id": "IfsXEQb46ZHX"
      }
    },
    {
      "cell_type": "code",
      "source": [
        "for i in list_num:#100 #200\n",
        "  print(i)"
      ],
      "metadata": {
        "colab": {
          "base_uri": "https://localhost:8080/"
        },
        "id": "6YF3uU8WpFiX",
        "outputId": "2019f256-5943-4412-bfa4-0bf761535c4b"
      },
      "execution_count": null,
      "outputs": [
        {
          "output_type": "stream",
          "name": "stdout",
          "text": [
            "100\n",
            "200\n",
            "300\n",
            "400\n",
            "500\n"
          ]
        }
      ]
    },
    {
      "cell_type": "markdown",
      "source": [
        "**Loop in range**"
      ],
      "metadata": {
        "id": "OSTXeyKG6gK-"
      }
    },
    {
      "cell_type": "code",
      "source": [
        "for num in range(1,10):\n",
        "  print (num)"
      ],
      "metadata": {
        "colab": {
          "base_uri": "https://localhost:8080/"
        },
        "id": "D0BVpdRjpw2z",
        "outputId": "418510ed-da7b-4a43-c1ef-e17241588127"
      },
      "execution_count": null,
      "outputs": [
        {
          "output_type": "stream",
          "name": "stdout",
          "text": [
            "1\n",
            "2\n",
            "3\n",
            "4\n",
            "5\n",
            "6\n",
            "7\n",
            "8\n",
            "9\n"
          ]
        }
      ]
    },
    {
      "cell_type": "code",
      "source": [
        "numbers = [1,2,3,4,5,6]\n",
        "\n",
        "#write a code to print numbers below 5\n",
        "\n",
        "for num in numbers:\n",
        "  if num < 5:\n",
        "    print(num)\n"
      ],
      "metadata": {
        "colab": {
          "base_uri": "https://localhost:8080/"
        },
        "id": "q7G1cdCmqgtP",
        "outputId": "b868ca88-6ec4-4c3d-e7a0-1965b92df64a"
      },
      "execution_count": null,
      "outputs": [
        {
          "output_type": "stream",
          "name": "stdout",
          "text": [
            "1\n",
            "2\n",
            "3\n",
            "4\n"
          ]
        }
      ]
    },
    {
      "cell_type": "code",
      "source": [
        "for num in numbers:\n",
        "  if num > 5:\n",
        "    print(num)"
      ],
      "metadata": {
        "colab": {
          "base_uri": "https://localhost:8080/"
        },
        "id": "5j4MxweFrbyD",
        "outputId": "cf2e7444-6de5-44fc-ace8-b315fb0f954e"
      },
      "execution_count": null,
      "outputs": [
        {
          "output_type": "stream",
          "name": "stdout",
          "text": [
            "6\n"
          ]
        }
      ]
    },
    {
      "cell_type": "code",
      "source": [
        "numbers = (1,2,3,4,5,6)\n",
        "\n",
        "for num in numbers:\n",
        "  if num < 5:\n",
        "    print(num)"
      ],
      "metadata": {
        "colab": {
          "base_uri": "https://localhost:8080/"
        },
        "id": "r3N3Ugv8tDxi",
        "outputId": "3ef2a01c-3430-43b8-d068-27fba9e56fe8"
      },
      "execution_count": null,
      "outputs": [
        {
          "output_type": "stream",
          "name": "stdout",
          "text": [
            "1\n",
            "2\n",
            "3\n",
            "4\n"
          ]
        }
      ]
    },
    {
      "cell_type": "code",
      "source": [
        "numbers = {1:'a',2:'b',3:'c',4:'d',5:'e',6:'f'}\n",
        "\n",
        "for num in numbers:\n",
        "  if num < 5:\n",
        "    print(num)"
      ],
      "metadata": {
        "colab": {
          "base_uri": "https://localhost:8080/"
        },
        "id": "EiSY5SeIuNCH",
        "outputId": "a62fe42f-cd98-46b5-a47d-79db1a7d6f93"
      },
      "execution_count": null,
      "outputs": [
        {
          "output_type": "stream",
          "name": "stdout",
          "text": [
            "1\n",
            "2\n",
            "3\n",
            "4\n"
          ]
        }
      ]
    },
    {
      "cell_type": "code",
      "source": [
        "numbers1 = [-1,2,1,3,5,4,0]\n",
        "\n",
        "for num in numbers1:\n",
        "  if num < 5:\n",
        "    print(num)"
      ],
      "metadata": {
        "colab": {
          "base_uri": "https://localhost:8080/"
        },
        "id": "wlWQVG6mubFD",
        "outputId": "5b93260d-9f1b-4890-e517-62b6694d6bb8"
      },
      "execution_count": null,
      "outputs": [
        {
          "output_type": "stream",
          "name": "stdout",
          "text": [
            "-1\n",
            "2\n",
            "1\n",
            "3\n",
            "4\n",
            "0\n"
          ]
        }
      ]
    },
    {
      "cell_type": "code",
      "source": [
        "d1"
      ],
      "metadata": {
        "colab": {
          "base_uri": "https://localhost:8080/"
        },
        "id": "qj1A7K1_CE7i",
        "outputId": "7b48b756-aa88-4362-8fc8-3b5c38ecbae1"
      },
      "execution_count": null,
      "outputs": [
        {
          "output_type": "execute_result",
          "data": {
            "text/plain": [
              "{'AI': -10, 8.8: ['ML', 'DL']}"
            ]
          },
          "metadata": {},
          "execution_count": 86
        }
      ]
    },
    {
      "cell_type": "code",
      "source": [
        "for num in d1.values():\n",
        "    print(num)"
      ],
      "metadata": {
        "colab": {
          "base_uri": "https://localhost:8080/"
        },
        "id": "IM-vx8HLClnj",
        "outputId": "fca4ef34-0caf-4cfc-aecb-6874b0f860a2"
      },
      "execution_count": null,
      "outputs": [
        {
          "output_type": "stream",
          "name": "stdout",
          "text": [
            "-10\n",
            "['ML', 'DL']\n"
          ]
        }
      ]
    },
    {
      "cell_type": "code",
      "source": [
        "for num in d1.items():\n",
        "  print(num)"
      ],
      "metadata": {
        "colab": {
          "base_uri": "https://localhost:8080/"
        },
        "id": "A6InZJwNC-FG",
        "outputId": "951d9ba0-dbd7-4523-cca6-fc315702a8b9"
      },
      "execution_count": null,
      "outputs": [
        {
          "output_type": "stream",
          "name": "stdout",
          "text": [
            "('AI', -10)\n",
            "(8.8, ['ML', 'DL'])\n"
          ]
        }
      ]
    },
    {
      "cell_type": "code",
      "source": [
        "for num in d1.keys():\n",
        "  print(num)"
      ],
      "metadata": {
        "colab": {
          "base_uri": "https://localhost:8080/"
        },
        "id": "Y1yv78BeDocr",
        "outputId": "f288eeda-bedd-41e6-bc0f-62af31f5c75b"
      },
      "execution_count": null,
      "outputs": [
        {
          "output_type": "stream",
          "name": "stdout",
          "text": [
            "AI\n",
            "8.8\n"
          ]
        }
      ]
    },
    {
      "cell_type": "markdown",
      "source": [
        "**While Loop**"
      ],
      "metadata": {
        "id": "NVqLMergEQhQ"
      }
    },
    {
      "cell_type": "code",
      "source": [
        "numbers = (1,2,3,4,5,6)\n",
        "\n",
        "#write a code to print all numbers below 5 by using while loop\n",
        "\n",
        "i = 0 #1\n",
        "num = None #checking the condition #1 #2\n",
        "\n",
        "while(num!=5):#True\n",
        "  num = numbers [i]\n",
        "  i = i + 1\n",
        "  print(num)"
      ],
      "metadata": {
        "colab": {
          "base_uri": "https://localhost:8080/"
        },
        "id": "YKHot7IdD2FW",
        "outputId": "999fda81-a2d8-4642-c22f-c6cff3256b26"
      },
      "execution_count": null,
      "outputs": [
        {
          "output_type": "stream",
          "name": "stdout",
          "text": [
            "1\n",
            "2\n",
            "3\n",
            "4\n",
            "5\n"
          ]
        }
      ]
    },
    {
      "cell_type": "code",
      "source": [
        "numbers = (1,2,3,4,5,6)\n",
        "\n",
        "#write a code to print all numbers below 4 by using while loop\n",
        "\n",
        "i = 0 #1 #2 #3\n",
        "num = None #1 #2 #3\n",
        "\n",
        "while(num!=3):#True #True #True #False\n",
        "  num = numbers [i]\n",
        "  i = i + 1\n",
        "  print(num)"
      ],
      "metadata": {
        "colab": {
          "base_uri": "https://localhost:8080/"
        },
        "id": "YtnjpqHPFf10",
        "outputId": "e6e1040d-5f10-4acb-c545-72bce2915955"
      },
      "execution_count": null,
      "outputs": [
        {
          "output_type": "stream",
          "name": "stdout",
          "text": [
            "1\n",
            "2\n",
            "3\n"
          ]
        }
      ]
    },
    {
      "cell_type": "markdown",
      "source": [
        "**Nested Loop**\n",
        "\n",
        "---\n",
        "\n",
        "\n",
        "For loop to run inside a loop\n"
      ],
      "metadata": {
        "id": "EjEeZABQQ3I0"
      }
    },
    {
      "cell_type": "code",
      "source": [
        "#nested loops\n",
        "\n",
        "names = ['Mohammed', 'Noor', 'Chyrel']\n",
        "\n",
        "for a in names:\n",
        "  print(a)\n",
        "\n",
        "  for b in (a):\n",
        "    print(b)\n",
        "\n",
        "  print ('')"
      ],
      "metadata": {
        "colab": {
          "base_uri": "https://localhost:8080/"
        },
        "id": "TgMXNo0-Jrn1",
        "outputId": "697a514f-5392-4581-e5fe-33dbb787a713"
      },
      "execution_count": null,
      "outputs": [
        {
          "output_type": "stream",
          "name": "stdout",
          "text": [
            "Mohammed\n",
            "M\n",
            "o\n",
            "h\n",
            "a\n",
            "m\n",
            "m\n",
            "e\n",
            "d\n",
            "\n",
            "Noor\n",
            "N\n",
            "o\n",
            "o\n",
            "r\n",
            "\n",
            "Chyrel\n",
            "C\n",
            "h\n",
            "y\n",
            "r\n",
            "e\n",
            "l\n",
            "\n"
          ]
        }
      ]
    },
    {
      "cell_type": "code",
      "source": [
        "#write a code to print only the even numbers in range of numbers 20\n",
        "\n",
        "for i in range(21):\n",
        "  if i%2 == 0:\n",
        "    print(i)"
      ],
      "metadata": {
        "colab": {
          "base_uri": "https://localhost:8080/"
        },
        "id": "xmU8JHxFMadl",
        "outputId": "f75df24a-3ed1-482b-e2e1-fadd8f8df3c9"
      },
      "execution_count": null,
      "outputs": [
        {
          "output_type": "stream",
          "name": "stdout",
          "text": [
            "0\n",
            "2\n",
            "4\n",
            "6\n",
            "8\n",
            "10\n",
            "12\n",
            "14\n",
            "16\n",
            "18\n",
            "20\n"
          ]
        }
      ]
    },
    {
      "cell_type": "code",
      "source": [
        "#create a list of those even numbers\n",
        "\n",
        "for i in range(21):\n",
        "  if i%2 == 0:\n",
        "    print(i)\n"
      ],
      "metadata": {
        "colab": {
          "base_uri": "https://localhost:8080/"
        },
        "id": "Nl0uh8GLN2x2",
        "outputId": "c35fb999-f3ae-4f2a-d31a-88480bea3d92"
      },
      "execution_count": null,
      "outputs": [
        {
          "output_type": "stream",
          "name": "stdout",
          "text": [
            "0\n",
            "2\n",
            "4\n",
            "6\n",
            "8\n",
            "10\n",
            "12\n",
            "14\n",
            "16\n",
            "18\n",
            "20\n"
          ]
        }
      ]
    },
    {
      "cell_type": "code",
      "source": [
        "even_numbers = []\n",
        "for i in range(21):\n",
        "  if i%2 == 0:\n",
        "    print(i)\n",
        "\n",
        "    even_numbers.append(i)\n",
        "\n",
        "print(even_numbers)"
      ],
      "metadata": {
        "colab": {
          "base_uri": "https://localhost:8080/"
        },
        "id": "Oq46MOfBOVKH",
        "outputId": "36a2a68a-4f95-40ef-acff-e860f1e5cadb"
      },
      "execution_count": null,
      "outputs": [
        {
          "output_type": "stream",
          "name": "stdout",
          "text": [
            "0\n",
            "2\n",
            "4\n",
            "6\n",
            "8\n",
            "10\n",
            "12\n",
            "14\n",
            "16\n",
            "18\n",
            "20\n",
            "[0, 2, 4, 6, 8, 10, 12, 14, 16, 18, 20]\n"
          ]
        }
      ]
    },
    {
      "cell_type": "markdown",
      "source": [
        "Observe the positon of the 'print' command and how it can affect the outcome"
      ],
      "metadata": {
        "id": "kDU3Pd3q61Pt"
      }
    },
    {
      "cell_type": "code",
      "source": [
        "#create a list of those even numbers in the range of 20\n",
        "\n",
        "list_even= []\n",
        "\n",
        "for i in range(21):\n",
        "  if i %2 == 0:\n",
        "    list_even.append(i)\n",
        "\n",
        "  print (list_even) #The print code is within the nested loop"
      ],
      "metadata": {
        "colab": {
          "base_uri": "https://localhost:8080/"
        },
        "id": "wnISjfZoRDgE",
        "outputId": "e62b6fd7-0d78-4218-a926-d8143d160652"
      },
      "execution_count": null,
      "outputs": [
        {
          "output_type": "stream",
          "name": "stdout",
          "text": [
            "[0]\n",
            "[0]\n",
            "[0, 2]\n",
            "[0, 2]\n",
            "[0, 2, 4]\n",
            "[0, 2, 4]\n",
            "[0, 2, 4, 6]\n",
            "[0, 2, 4, 6]\n",
            "[0, 2, 4, 6, 8]\n",
            "[0, 2, 4, 6, 8]\n",
            "[0, 2, 4, 6, 8, 10]\n",
            "[0, 2, 4, 6, 8, 10]\n",
            "[0, 2, 4, 6, 8, 10, 12]\n",
            "[0, 2, 4, 6, 8, 10, 12]\n",
            "[0, 2, 4, 6, 8, 10, 12, 14]\n",
            "[0, 2, 4, 6, 8, 10, 12, 14]\n",
            "[0, 2, 4, 6, 8, 10, 12, 14, 16]\n",
            "[0, 2, 4, 6, 8, 10, 12, 14, 16]\n",
            "[0, 2, 4, 6, 8, 10, 12, 14, 16, 18]\n",
            "[0, 2, 4, 6, 8, 10, 12, 14, 16, 18]\n",
            "[0, 2, 4, 6, 8, 10, 12, 14, 16, 18, 20]\n"
          ]
        }
      ]
    },
    {
      "cell_type": "markdown",
      "source": [
        "Note: Below is the same code as above but the 'print' command is outside the nested loop"
      ],
      "metadata": {
        "id": "lIZi-6Bb67Jw"
      }
    },
    {
      "cell_type": "code",
      "source": [
        "list_even = []\n",
        "\n",
        "for i in range(21):\n",
        "  if i%2 == 0:\n",
        "    list_even.append(i)\n",
        "\n",
        "print(list_even) *when you use indentation, it will become loop"
      ],
      "metadata": {
        "colab": {
          "base_uri": "https://localhost:8080/"
        },
        "id": "nogBsiouPhUp",
        "outputId": "ba3da216-c935-4404-d628-7552ac26a87e"
      },
      "execution_count": null,
      "outputs": [
        {
          "output_type": "stream",
          "name": "stdout",
          "text": [
            "[0, 2, 4, 6, 8, 10, 12, 14, 16, 18, 20]\n"
          ]
        }
      ]
    },
    {
      "cell_type": "markdown",
      "source": [
        "**Give a list of numbers, write a code to calculate the sum of even numbers in that list**"
      ],
      "metadata": {
        "id": "0bWlNUatQ4k3"
      }
    },
    {
      "cell_type": "code",
      "source": [
        "list_num = range(10)\n",
        "\n",
        "sum_even = 0\n",
        "\n",
        "for i in list_num:\n",
        "  if i%2 == 0:\n",
        "    sum_even = sum_even + i\n",
        "\n",
        "print('The sum of all even numbers are: ', sum_even)\n"
      ],
      "metadata": {
        "colab": {
          "base_uri": "https://localhost:8080/"
        },
        "id": "RZzoWm2nTBMh",
        "outputId": "3567faab-671e-4005-fd5e-2fedccc6cf00"
      },
      "execution_count": null,
      "outputs": [
        {
          "output_type": "stream",
          "name": "stdout",
          "text": [
            "The sum of all even numbers are:  20\n"
          ]
        }
      ]
    },
    {
      "cell_type": "code",
      "source": [
        "list_even = []\n",
        "\n",
        "for i in range(21):\n",
        "  if i%2 == 0:\n",
        "    list_even.append(i)\n",
        "\n",
        "  print(sum)"
      ],
      "metadata": {
        "colab": {
          "base_uri": "https://localhost:8080/"
        },
        "id": "CiPwII-FQD1_",
        "outputId": "ffea04c9-5548-449f-f33d-8083c21c5e1a"
      },
      "execution_count": null,
      "outputs": [
        {
          "output_type": "stream",
          "name": "stdout",
          "text": [
            "0\n",
            "0\n",
            "2\n",
            "2\n",
            "6\n",
            "6\n",
            "12\n",
            "12\n",
            "20\n",
            "20\n",
            "30\n",
            "30\n",
            "42\n",
            "42\n",
            "56\n",
            "56\n",
            "72\n",
            "72\n",
            "90\n",
            "90\n",
            "110\n"
          ]
        }
      ]
    },
    {
      "cell_type": "code",
      "source": [
        "list_even = []\n",
        "\n",
        "for i in range(21):\n",
        "  if i%2 == 0:\n",
        "    list_even.append(i)\n",
        "\n",
        "print(sum(list_even))"
      ],
      "metadata": {
        "colab": {
          "base_uri": "https://localhost:8080/"
        },
        "id": "lXfU--HxRYDm",
        "outputId": "4f67eb78-729b-452c-e349-27fbfe833f91"
      },
      "execution_count": null,
      "outputs": [
        {
          "output_type": "stream",
          "name": "stdout",
          "text": [
            "110\n"
          ]
        }
      ]
    },
    {
      "cell_type": "code",
      "source": [
        "list_even = []\n",
        "\n",
        "for i in range(10):\n",
        "  if i%2 == 0:\n",
        "    list_even.append(i)\n",
        "\n",
        "print(sum(list_even))"
      ],
      "metadata": {
        "colab": {
          "base_uri": "https://localhost:8080/"
        },
        "id": "bmPT5FmuR_b4",
        "outputId": "46307411-3deb-4568-dac9-cf04a2e82fe0"
      },
      "execution_count": null,
      "outputs": [
        {
          "output_type": "stream",
          "name": "stdout",
          "text": [
            "20\n"
          ]
        }
      ]
    },
    {
      "cell_type": "markdown",
      "source": [
        "**Count Function**\n",
        "\n",
        "---\n",
        "\n",
        "\n",
        "\n",
        "* To define a function named count that can count occurrences of elements in an iterable (like a list or string), we need to specify what exactly we want to count.\n",
        "* count = 0 (depends on scenarios we can define 'count' as something else)\n",
        "\n",
        "\n",
        "* Examples:\n",
        "\n",
        "  * sum_even = 0\n",
        "  * sum_vowels = 0"
      ],
      "metadata": {
        "id": "fTsfmloiRkhs"
      }
    },
    {
      "cell_type": "markdown",
      "source": [
        "**Count Even Numbers in a List**"
      ],
      "metadata": {
        "id": "fdXIBurS7Rdu"
      }
    },
    {
      "cell_type": "code",
      "source": [
        "list3 = [1, 2, 3, 2, 4, 2, 5]\n",
        "count = 0  # Initialize count variable\n",
        "for i in list3:\n",
        "  if i == 2:\n",
        "    count += +1\n",
        "\n",
        "print(count) #how many occurance of '2' from the list"
      ],
      "metadata": {
        "colab": {
          "base_uri": "https://localhost:8080/"
        },
        "id": "mCpDDOD57SIL",
        "outputId": "c84ec60f-147e-4bc3-dcd6-b4415cf9c2c1"
      },
      "execution_count": 1,
      "outputs": [
        {
          "output_type": "stream",
          "name": "stdout",
          "text": [
            "3\n"
          ]
        }
      ]
    },
    {
      "cell_type": "code",
      "source": [
        "#Dr Obay's code:\n",
        "\n",
        "sum_even = 0\n",
        "\n",
        "for i in range(10):\n",
        "  if i % 2 == 0:\n",
        "    sum_even = sum_even + i\n",
        "\n",
        "print ('The sum of all even numbers are:',sum_even)"
      ],
      "metadata": {
        "colab": {
          "base_uri": "https://localhost:8080/"
        },
        "id": "bLGTGaoG7daN",
        "outputId": "1e714d37-14c4-4b0d-c6cc-9d496c30a0e0"
      },
      "execution_count": 2,
      "outputs": [
        {
          "output_type": "stream",
          "name": "stdout",
          "text": [
            "The sum of all even numbers are: 20\n"
          ]
        }
      ]
    },
    {
      "cell_type": "markdown",
      "source": [
        "Given a string, write a code to calculate the number of vowles (a,e,i,o,u) in the string.\n",
        "\n",
        "the string is: 'Hello World'"
      ],
      "metadata": {
        "id": "XIqAPh8-UVKj"
      }
    },
    {
      "cell_type": "code",
      "source": [
        "list_vowels = ['a','e','i','o','u']\n",
        "str1 = 'Hello World'\n",
        "\n",
        "for i in str1:\n",
        "  if i in list_vowels:\n",
        "    print(i)"
      ],
      "metadata": {
        "colab": {
          "base_uri": "https://localhost:8080/"
        },
        "id": "kEY6vTgzVxKQ",
        "outputId": "a72a94e7-3ce1-4a5b-d13e-be0473713f32"
      },
      "execution_count": null,
      "outputs": [
        {
          "output_type": "stream",
          "name": "stdout",
          "text": [
            "e\n",
            "o\n",
            "o\n"
          ]
        }
      ]
    },
    {
      "cell_type": "code",
      "source": [
        "list_vowels = ['a','e','i','o','u']\n",
        "str1 = 'Hello World'\n",
        "\n",
        "for i in str1:\n",
        "  if i in list_vowels:\n",
        "    print(i)"
      ],
      "metadata": {
        "colab": {
          "base_uri": "https://localhost:8080/"
        },
        "id": "017au1exWLLf",
        "outputId": "4453a917-f21f-4075-ace1-ad0f3f5686ec"
      },
      "execution_count": null,
      "outputs": [
        {
          "output_type": "stream",
          "name": "stdout",
          "text": [
            "e\n",
            "o\n",
            "o\n"
          ]
        }
      ]
    },
    {
      "cell_type": "code",
      "source": [
        "str10 = 'Hello World'\n",
        "vowels = ['a','e','i','o','u']\n",
        "\n",
        "for i in str10:\n",
        "  if i in vowels:\n",
        "    print(i)"
      ],
      "metadata": {
        "colab": {
          "base_uri": "https://localhost:8080/"
        },
        "id": "JYsuGLLCTw0j",
        "outputId": "547213e1-4a03-4b92-d87e-94420081d769"
      },
      "execution_count": null,
      "outputs": [
        {
          "output_type": "stream",
          "name": "stdout",
          "text": [
            "e\n",
            "o\n",
            "o\n"
          ]
        }
      ]
    },
    {
      "cell_type": "code",
      "source": [
        "str10 = 'Hello World'\n",
        "vowels = ['a','e','i','o','u']\n",
        "\n",
        "count = 0\n",
        "\n",
        "for i in str10:\n",
        "  if i in vowels:\n",
        "    count += 1\n",
        "\n",
        "print(count)"
      ],
      "metadata": {
        "colab": {
          "base_uri": "https://localhost:8080/"
        },
        "id": "C3K4dUaDaUtE",
        "outputId": "1759228d-083e-4aba-fcb7-c607853ccf88"
      },
      "execution_count": null,
      "outputs": [
        {
          "output_type": "stream",
          "name": "stdout",
          "text": [
            "3\n"
          ]
        }
      ]
    },
    {
      "cell_type": "code",
      "source": [
        "string = 'Hello World'\n",
        "count_vowel = 0 #1 #2 #3\n",
        "\n",
        "for vow in string.lower(): #.lower() to make all of it into lowercase\n",
        "  if vow in 'a,e,i,o,u':\n",
        "    count_vowel += 1 #to keep counting the next letter/items\n",
        "\n",
        "print ('The number of vowels are:', count_vowel)\n"
      ],
      "metadata": {
        "colab": {
          "base_uri": "https://localhost:8080/"
        },
        "id": "Ekg6TNdCVZ77",
        "outputId": "cd8aa177-8a2f-4f6d-e6ea-63d6c5171657"
      },
      "execution_count": null,
      "outputs": [
        {
          "output_type": "stream",
          "name": "stdout",
          "text": [
            "The number of vowels are: 3\n"
          ]
        }
      ]
    },
    {
      "cell_type": "markdown",
      "source": [
        "Note:\n",
        "\n",
        "* string.lower is used because python is case sensitive, so uppercase letter is not counted,\n",
        "\n",
        "* so string.lower will convert the string to become lowercase then it will be countred"
      ],
      "metadata": {
        "id": "snttAp3o7mIS"
      }
    },
    {
      "cell_type": "code",
      "source": [
        "str10 = 'Artificial Intelligence'\n",
        "vowels = ['a','e','i','o','u']\n",
        "\n",
        "count = 0\n",
        "\n",
        "for i in str10.lower():\n",
        "  if i in vowels:\n",
        "    count += 1 #boleh jugak tulis >> count_vowel = count_vowel + 1\n",
        "\n",
        "print(count)"
      ],
      "metadata": {
        "colab": {
          "base_uri": "https://localhost:8080/"
        },
        "id": "eFw4nF-iXOXg",
        "outputId": "d5548ffd-a1f5-4398-a6c3-bac909f806e8"
      },
      "execution_count": null,
      "outputs": [
        {
          "output_type": "stream",
          "name": "stdout",
          "text": [
            "10\n"
          ]
        }
      ]
    },
    {
      "cell_type": "code",
      "source": [
        "string = 'Hello World'\n",
        "count_vowel = 0 #1 #2 #3\n",
        "\n",
        "for vowel in string.lower(): #.lower() to make all of it into lowercase\n",
        "  if vowel in 'a,e,i,o,u':\n",
        "    count_vowel += 1 #to keep counting the next letter/items\n",
        "\n",
        "print ('The number of vowels are:', count_vowel)\n"
      ],
      "metadata": {
        "colab": {
          "base_uri": "https://localhost:8080/"
        },
        "id": "z6Agj6NHdZ8B",
        "outputId": "b0d4404e-5dfb-4a39-f50f-315096dcb99f"
      },
      "execution_count": null,
      "outputs": [
        {
          "output_type": "stream",
          "name": "stdout",
          "text": [
            "The number of vowels are: 3\n"
          ]
        }
      ]
    },
    {
      "cell_type": "markdown",
      "source": [
        "*Function*\n",
        "\n",
        "To define a function in Python:\n",
        "\n",
        "* use the \"def\" keyword,\n",
        "* followed by the function name,\n",
        "* parentheses \"\",\n",
        "* and a colon :\n",
        "\n",
        "* The body of the function is indented and contains the code to be executed when the function is called.\n",
        "\n",
        "def funname(arguments):"
      ],
      "metadata": {
        "id": "6XmQi8hnhtTw"
      }
    },
    {
      "cell_type": "code",
      "source": [
        "def first_fun():\n",
        " '''\n",
        " This is my first function\n",
        " '''\n",
        " print('This is my first function')"
      ],
      "metadata": {
        "id": "bCe30K1fgPb5"
      },
      "execution_count": null,
      "outputs": []
    },
    {
      "cell_type": "markdown",
      "source": [
        "* You can also include a docstring (enclosed in triple quotes ''') to describe the function.\n",
        "* Python ignores anything written within the docstring, but it is useful for documentation."
      ],
      "metadata": {
        "id": "Jxm8jBIO8G7-"
      }
    },
    {
      "cell_type": "code",
      "source": [
        "first_fun()"
      ],
      "metadata": {
        "colab": {
          "base_uri": "https://localhost:8080/"
        },
        "id": "xB4Ce9WmjUxn",
        "outputId": "7d9273ba-0d6c-4545-9a90-3070654ee7d3"
      },
      "execution_count": null,
      "outputs": [
        {
          "output_type": "stream",
          "name": "stdout",
          "text": [
            "This is my first function\n"
          ]
        }
      ]
    },
    {
      "cell_type": "code",
      "source": [
        "def sum_num(a,b):\n",
        "  ''' this function is about summing two numbers'''\n",
        "\n",
        "  c = a + b\n",
        "  print(c)"
      ],
      "metadata": {
        "id": "FvsccMt_jfbe"
      },
      "execution_count": null,
      "outputs": []
    },
    {
      "cell_type": "code",
      "source": [
        "sum_num(10,5 )"
      ],
      "metadata": {
        "colab": {
          "base_uri": "https://localhost:8080/"
        },
        "id": "GwG5PNpIjx4v",
        "outputId": "899b1365-ad77-4815-b2fc-6163e482fc1c"
      },
      "execution_count": null,
      "outputs": [
        {
          "output_type": "stream",
          "name": "stdout",
          "text": [
            "15\n"
          ]
        }
      ]
    },
    {
      "cell_type": "code",
      "source": [
        "sum_num(10)"
      ],
      "metadata": {
        "colab": {
          "base_uri": "https://localhost:8080/",
          "height": 141
        },
        "id": "RywGo1ojj6NL",
        "outputId": "cbf857ea-cd83-4e15-b3b5-c1cf7687a6aa"
      },
      "execution_count": null,
      "outputs": [
        {
          "output_type": "error",
          "ename": "TypeError",
          "evalue": "sum_num() missing 1 required positional argument: 'b'",
          "traceback": [
            "\u001b[0;31m---------------------------------------------------------------------------\u001b[0m",
            "\u001b[0;31mTypeError\u001b[0m                                 Traceback (most recent call last)",
            "\u001b[0;32m<ipython-input-28-451b247b9ccf>\u001b[0m in \u001b[0;36m<cell line: 1>\u001b[0;34m()\u001b[0m\n\u001b[0;32m----> 1\u001b[0;31m \u001b[0msum_num\u001b[0m\u001b[0;34m(\u001b[0m\u001b[0;36m10\u001b[0m\u001b[0;34m)\u001b[0m\u001b[0;34m\u001b[0m\u001b[0;34m\u001b[0m\u001b[0m\n\u001b[0m",
            "\u001b[0;31mTypeError\u001b[0m: sum_num() missing 1 required positional argument: 'b'"
          ]
        }
      ]
    },
    {
      "cell_type": "markdown",
      "source": [
        "**Error!**\n",
        "\n",
        "* When you want to use the sum_num function, you need to provide with 2 number like above cell\n",
        "\n",
        "* Know the function that you wrote sum_num(a,b) so the below command is an error because there is no second input"
      ],
      "metadata": {
        "id": "v4-TumtxFfaO"
      }
    },
    {
      "cell_type": "code",
      "source": [
        "sum_num('Big', ' Data')"
      ],
      "metadata": {
        "colab": {
          "base_uri": "https://localhost:8080/"
        },
        "id": "QAsH9aUOkJAa",
        "outputId": "d38f744c-f33d-4eb8-cc65-ff2409e2fe32"
      },
      "execution_count": null,
      "outputs": [
        {
          "output_type": "stream",
          "name": "stdout",
          "text": [
            "Big Data\n"
          ]
        }
      ]
    },
    {
      "cell_type": "code",
      "source": [
        "def sum_num(a,b):\n",
        "  ''' this function is about summing two numbers'''\n",
        "\n",
        "  c = int(a) + int(b)\n",
        "  print(c)"
      ],
      "metadata": {
        "id": "wQMa7bsrkQ21"
      },
      "execution_count": null,
      "outputs": []
    },
    {
      "cell_type": "code",
      "source": [
        "sum_num(2,4)"
      ],
      "metadata": {
        "colab": {
          "base_uri": "https://localhost:8080/"
        },
        "id": "FRikObLxkfqN",
        "outputId": "30aff9af-2136-4b39-9168-bba22a05a932"
      },
      "execution_count": null,
      "outputs": [
        {
          "output_type": "stream",
          "name": "stdout",
          "text": [
            "6\n"
          ]
        }
      ]
    },
    {
      "cell_type": "code",
      "source": [
        "def multiply_num(a,b,c):\n",
        "  d = a * b * c\n",
        "  return(d)"
      ],
      "metadata": {
        "id": "G7oPg0Eeknim"
      },
      "execution_count": null,
      "outputs": []
    },
    {
      "cell_type": "code",
      "source": [
        "multiply_num(10,1,2)"
      ],
      "metadata": {
        "colab": {
          "base_uri": "https://localhost:8080/"
        },
        "id": "IkrlWXV_k6m3",
        "outputId": "3e0d3a33-3eef-4168-881a-90d723fcf375"
      },
      "execution_count": null,
      "outputs": [
        {
          "output_type": "execute_result",
          "data": {
            "text/plain": [
              "20"
            ]
          },
          "metadata": {},
          "execution_count": 151
        }
      ]
    },
    {
      "cell_type": "markdown",
      "source": [
        "**print vs return**\n",
        "\n",
        "To summarize, \"print\" is used to output values to the console for debugging or informational purposes, while \"return\" is used to send a value back from a function to the calling code. If you want to use the result of a function in other parts of your code, you need to use \"return\" to make that value available outside the function.\n",
        "\n",
        "\n",
        "\n",
        "*print just shows the human user a string representing what is going on inside the computer. The computer cannot make use of that printing. return is how a function gives back a value. This value is often unseen by the human user, but it can be used by the computer in further functions.*"
      ],
      "metadata": {
        "id": "LWA-G_JIlWOk"
      }
    },
    {
      "cell_type": "code",
      "source": [
        "def even_num(a):\n",
        "  if a%2 == 0:\n",
        "    return(True)"
      ],
      "metadata": {
        "id": "kPVxWGDmk_0S"
      },
      "execution_count": null,
      "outputs": []
    },
    {
      "cell_type": "code",
      "source": [
        "even_num(2)"
      ],
      "metadata": {
        "colab": {
          "base_uri": "https://localhost:8080/"
        },
        "id": "Ue4w5bPzl3uz",
        "outputId": "31e4ddb5-324e-465a-c6a1-3e99949d1354"
      },
      "execution_count": null,
      "outputs": [
        {
          "output_type": "execute_result",
          "data": {
            "text/plain": [
              "True"
            ]
          },
          "metadata": {},
          "execution_count": 31
        }
      ]
    },
    {
      "cell_type": "code",
      "source": [
        "def odd_num(a):\n",
        "  if a%2 != 0:\n",
        "    return(True)"
      ],
      "metadata": {
        "id": "eWea1s2gl7bE"
      },
      "execution_count": null,
      "outputs": []
    },
    {
      "cell_type": "code",
      "source": [
        "odd_num(5)"
      ],
      "metadata": {
        "colab": {
          "base_uri": "https://localhost:8080/"
        },
        "id": "xo9pfyUDmZZA",
        "outputId": "f20ba073-e0ac-4c53-ee77-7af8f62c8afa"
      },
      "execution_count": null,
      "outputs": [
        {
          "output_type": "execute_result",
          "data": {
            "text/plain": [
              "True"
            ]
          },
          "metadata": {},
          "execution_count": 33
        }
      ]
    },
    {
      "cell_type": "code",
      "source": [
        "def ev_num(a):\n",
        "  if a%2 == 0:\n",
        "    return(Even)"
      ],
      "metadata": {
        "id": "G9WF-JXimdW4"
      },
      "execution_count": null,
      "outputs": []
    },
    {
      "cell_type": "code",
      "source": [
        "even_num(2)"
      ],
      "metadata": {
        "colab": {
          "base_uri": "https://localhost:8080/"
        },
        "id": "PaQlHI2smw84",
        "outputId": "239fbaf7-8cda-4529-c9de-802ea8cacc55"
      },
      "execution_count": null,
      "outputs": [
        {
          "output_type": "execute_result",
          "data": {
            "text/plain": [
              "True"
            ]
          },
          "metadata": {},
          "execution_count": 36
        }
      ]
    },
    {
      "cell_type": "code",
      "source": [
        "def odd_num(a):\n",
        "  if a%2 != 0:\n",
        "    return(True)\n",
        "\n",
        "  if a%2 == 0:\n",
        "    return(False)"
      ],
      "metadata": {
        "id": "ozzd7hHenI29"
      },
      "execution_count": null,
      "outputs": []
    },
    {
      "cell_type": "code",
      "source": [
        "odd_num(3)"
      ],
      "metadata": {
        "colab": {
          "base_uri": "https://localhost:8080/"
        },
        "id": "Yv25lajQoJaH",
        "outputId": "5b0f28a1-1ad8-430b-9aba-6c741f83548a"
      },
      "execution_count": null,
      "outputs": [
        {
          "output_type": "execute_result",
          "data": {
            "text/plain": [
              "True"
            ]
          },
          "metadata": {},
          "execution_count": 169
        }
      ]
    },
    {
      "cell_type": "code",
      "source": [
        "odd_num(2)"
      ],
      "metadata": {
        "colab": {
          "base_uri": "https://localhost:8080/"
        },
        "id": "bXEjee-goOie",
        "outputId": "f3da7b45-800e-4272-8ced-276790c3381e"
      },
      "execution_count": null,
      "outputs": [
        {
          "output_type": "execute_result",
          "data": {
            "text/plain": [
              "False"
            ]
          },
          "metadata": {},
          "execution_count": 170
        }
      ]
    },
    {
      "cell_type": "markdown",
      "source": [
        "**Exercise**\n",
        "\n",
        "---\n",
        "\n"
      ],
      "metadata": {
        "id": "hahe5RpH8dQb"
      }
    },
    {
      "cell_type": "markdown",
      "source": [
        "**Write a function to find the highest value in a list of numbers without using other functions.**"
      ],
      "metadata": {
        "id": "HqxIJHE7oi0d"
      }
    },
    {
      "cell_type": "code",
      "source": [
        "list_num = [30,40,50,60]\n",
        "\n",
        "def max_num(list_num):\n",
        "  max_num = list_num[0]\n",
        "  for i in list_num:\n",
        "    if i > max_num:\n",
        "      max_num = i\n",
        "  return(max_num)"
      ],
      "metadata": {
        "id": "5ROueukpoTUx"
      },
      "execution_count": null,
      "outputs": []
    },
    {
      "cell_type": "code",
      "source": [
        "max_num(list_num)"
      ],
      "metadata": {
        "colab": {
          "base_uri": "https://localhost:8080/"
        },
        "id": "U_evmqwupiM4",
        "outputId": "11d253ca-5918-478c-e4de-f06ddc7e180e"
      },
      "execution_count": null,
      "outputs": [
        {
          "output_type": "execute_result",
          "data": {
            "text/plain": [
              "60"
            ]
          },
          "metadata": {},
          "execution_count": 173
        }
      ]
    },
    {
      "cell_type": "code",
      "source": [
        "list_num = [100,0,5,200,-20,8.8]\n",
        "\n",
        "highest = list_num[0] #100\n",
        "\n",
        "for i in list_num:\n",
        "  if i > highest:\n",
        "    highest = i\n",
        "\n",
        "print('The highest value in the list is:', highest)"
      ],
      "metadata": {
        "colab": {
          "base_uri": "https://localhost:8080/"
        },
        "id": "d9n-FYU8qKhl",
        "outputId": "a5d43dde-14c8-4bc6-fbc5-690ac1fcc99a"
      },
      "execution_count": null,
      "outputs": [
        {
          "output_type": "stream",
          "name": "stdout",
          "text": [
            "The highest value in the list is: 200\n"
          ]
        }
      ]
    },
    {
      "cell_type": "code",
      "source": [
        "list_num = [100,0,5,200,-20,8.8]\n",
        "\n",
        "highest = list_num[0] #100\n",
        "lowest = list_num[0]\n",
        "\n",
        "for i in list_num:\n",
        "  if i > highest:\n",
        "    highest = i\n",
        "  if i < lowest:\n",
        "    lowest = i\n",
        "\n",
        "print('The highest value in the list is:', highest)\n",
        "print('The lowest value in the list is:', lowest)"
      ],
      "metadata": {
        "colab": {
          "base_uri": "https://localhost:8080/"
        },
        "id": "8d_p7pusq1-6",
        "outputId": "23b1fd50-b8e2-4f05-b316-d5d1cc07b24a"
      },
      "execution_count": null,
      "outputs": [
        {
          "output_type": "stream",
          "name": "stdout",
          "text": [
            "The highest value in the list is: 200\n",
            "The lowest value in the list is: -20\n"
          ]
        }
      ]
    },
    {
      "cell_type": "code",
      "source": [
        "def high_low(list_num):\n",
        "  highest = list_num[0] #100\n",
        "  lowest = list_num[0]\n",
        "\n",
        "  for i in list_num:\n",
        "    if i > highest:\n",
        "      highest = i\n",
        "    if i < lowest:\n",
        "      lowest = i\n",
        "\n",
        "  print('The highest value in the list is:', highest)\n",
        "  print('The lowest value in the list is:', lowest)"
      ],
      "metadata": {
        "id": "iZYc9rtvsvkm"
      },
      "execution_count": null,
      "outputs": []
    },
    {
      "cell_type": "code",
      "source": [
        "list_num_1 = [300,111,400, -2, 0, 55, 8.8, -99,1.5,44]\n",
        "high_low(list_num_1)"
      ],
      "metadata": {
        "colab": {
          "base_uri": "https://localhost:8080/"
        },
        "id": "ku63p7QWurcg",
        "outputId": "9eb9ebf6-6bcc-4243-c4fd-8e24edc323fa"
      },
      "execution_count": null,
      "outputs": [
        {
          "output_type": "stream",
          "name": "stdout",
          "text": [
            "The highest value in the list is: 400\n",
            "The lowest value in the list is: -99\n"
          ]
        }
      ]
    },
    {
      "cell_type": "markdown",
      "source": [
        "**Write a function to sum the even numbers in a list of numbers**"
      ],
      "metadata": {
        "id": "zRmOVh4YwWSl"
      }
    },
    {
      "cell_type": "code",
      "source": [
        "def sum_num(list_num):\n",
        "\n",
        "  count_even = 0\n",
        "\n",
        "  for i in list_num:\n",
        "      if i%2 == 0:\n",
        "         count_even += i\n",
        "\n",
        "  print('The sum of even numbers in the list is:', count_even)"
      ],
      "metadata": {
        "id": "ABDu5LqAwAV-"
      },
      "execution_count": null,
      "outputs": []
    },
    {
      "cell_type": "code",
      "source": [
        "list_num_1 = [300,111,400, -2, 0, 55, 8.8, -99,1.5,44]"
      ],
      "metadata": {
        "id": "QvMv6v4rwX9y"
      },
      "execution_count": null,
      "outputs": []
    },
    {
      "cell_type": "code",
      "source": [
        "sum_num(list_num_1)"
      ],
      "metadata": {
        "colab": {
          "base_uri": "https://localhost:8080/"
        },
        "id": "uZINRTGKxg_n",
        "outputId": "0a6eec25-24fd-4ca7-ca6f-0d59e1be54b7"
      },
      "execution_count": null,
      "outputs": [
        {
          "output_type": "stream",
          "name": "stdout",
          "text": [
            "The sum of even numbers in the list is: 742\n"
          ]
        }
      ]
    },
    {
      "cell_type": "code",
      "source": [
        "#find the missing value in the list below\n",
        "\n",
        "list_missing = [1,4,3,2,5,8,7]\n",
        "list_missing.sort()\n",
        "list_missing"
      ],
      "metadata": {
        "id": "YNMEA9NhxtxS",
        "colab": {
          "base_uri": "https://localhost:8080/"
        },
        "outputId": "7667009a-5892-4ced-ca5e-ff4d786b7adf"
      },
      "execution_count": null,
      "outputs": [
        {
          "output_type": "execute_result",
          "data": {
            "text/plain": [
              "[1, 2, 3, 4, 5, 7, 8]"
            ]
          },
          "metadata": {},
          "execution_count": 17
        }
      ]
    },
    {
      "cell_type": "code",
      "source": [
        "list_missing = [1,4,3,2,5,8,7]\n",
        "\n",
        "def missing_value(list_missing_value):\n",
        "  list_missing_value.sort()\n",
        "\n",
        "  for i in range(1,len(list_missing_value)): #in the bracket is index, so #2 #3\n",
        "    if list_missing_value[i] - list_missing_value[i-1] != 1: #False #False #False #False #True\n",
        "\n",
        "      #print ('The missing value is:', (list_missing_value[i] - 1))\n",
        "      return list_missing_value[i] - 1\n",
        "\n",
        "  return None"
      ],
      "metadata": {
        "id": "R_6gFSQkvLG9"
      },
      "execution_count": null,
      "outputs": []
    },
    {
      "cell_type": "code",
      "source": [
        "missing_value(list_missing)"
      ],
      "metadata": {
        "id": "pFwuZthB7aD2",
        "colab": {
          "base_uri": "https://localhost:8080/"
        },
        "outputId": "7fdaa256-2446-47a6-c3b9-9172c2c009cd"
      },
      "execution_count": null,
      "outputs": [
        {
          "output_type": "execute_result",
          "data": {
            "text/plain": [
              "6"
            ]
          },
          "metadata": {},
          "execution_count": 12
        }
      ]
    },
    {
      "cell_type": "code",
      "source": [
        "#write a function to remove duplicate from a list of numbers\n",
        "list_num2 = [100,20,-30,100,20,0,-30]\n",
        "\n",
        "new_list = []\n",
        "\n",
        "def remove_duplicate(x):\n",
        "  for i in x: #100\n",
        "    if i not in new_list: #True\n",
        "      new_list.append(i) #the number will be added to the new list\n",
        "\n",
        "  return new_list"
      ],
      "metadata": {
        "id": "Xz19AygiSWHu"
      },
      "execution_count": null,
      "outputs": []
    },
    {
      "cell_type": "code",
      "source": [
        "remove_duplicate(list_num2)"
      ],
      "metadata": {
        "colab": {
          "base_uri": "https://localhost:8080/"
        },
        "id": "19eCR5baWlDu",
        "outputId": "3d2ab4aa-8d7c-4f2f-c55b-1e83118cd2f2"
      },
      "execution_count": null,
      "outputs": [
        {
          "output_type": "execute_result",
          "data": {
            "text/plain": [
              "[100, 20, -30, 0]"
            ]
          },
          "metadata": {},
          "execution_count": 94
        }
      ]
    },
    {
      "cell_type": "code",
      "source": [
        "list_12 = [2,4,5,2,3,6,7]\n",
        "\n",
        "remove_duplicate(list_12)"
      ],
      "metadata": {
        "colab": {
          "base_uri": "https://localhost:8080/"
        },
        "id": "uYLc6Wubgeeo",
        "outputId": "2f2241dc-ee12-4055-df9a-7ec340192a88"
      },
      "execution_count": null,
      "outputs": [
        {
          "output_type": "execute_result",
          "data": {
            "text/plain": [
              "[2, 4, 5, 3, 6, 7]"
            ]
          },
          "metadata": {},
          "execution_count": 97
        }
      ]
    },
    {
      "cell_type": "code",
      "source": [
        "def remove_dup(x):\n",
        "\n",
        "  for i in x:\n",
        "    if x.count(i) > 1:\n",
        "      x.remove(i)\n",
        "\n",
        "      return x"
      ],
      "metadata": {
        "id": "Hr7jWBNqc3Nc"
      },
      "execution_count": null,
      "outputs": []
    },
    {
      "cell_type": "code",
      "source": [
        "list_R = [20,23,25,20,27,29]\n",
        "remove_dup(list_R)"
      ],
      "metadata": {
        "colab": {
          "base_uri": "https://localhost:8080/"
        },
        "id": "FK2an0T7gskH",
        "outputId": "8b08d41e-fd3b-415d-b39f-13476fc35096"
      },
      "execution_count": null,
      "outputs": [
        {
          "output_type": "execute_result",
          "data": {
            "text/plain": [
              "[23, 25, 20, 27, 29]"
            ]
          },
          "metadata": {},
          "execution_count": 98
        }
      ]
    }
  ]
}