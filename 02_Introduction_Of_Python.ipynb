{
  "nbformat": 4,
  "nbformat_minor": 0,
  "metadata": {
    "colab": {
      "provenance": []
    },
    "kernelspec": {
      "name": "python3",
      "display_name": "Python 3"
    },
    "language_info": {
      "name": "python"
    }
  },
  "cells": [
    {
      "cell_type": "markdown",
      "source": [
        "# **Indexing and Data Structure**\n",
        "\n",
        "---\n",
        "\n",
        "\n",
        "\n",
        "\n",
        "* Part 4: Indexing\n",
        "  * 4. 1 Indexing\n",
        "    * String Indexing\n",
        "    * Slicing\n",
        "    * Concatenating\n",
        "\n",
        "\n",
        "\n",
        "\n",
        "\n",
        "* Part 5: Data Structure\n",
        "  * 5.1 List\n",
        "  * 5.2 Extend Function\n",
        "  * 5.3 Append Function\n",
        "  * 5.4 Deleting Items\n",
        "  * 5.5 Count Funtion\n",
        "  * 5.6 Remove Function\n",
        "  * 5.7 Insert Function\n",
        "  * 5.8 Reverse Function\n",
        "\n",
        "\n",
        "\n",
        "\n",
        "\n",
        "* Part 6: Tuple\n",
        "  * 6.1 Comparison Between List And Tuple\n",
        "  * 6.2 Sort Function In Tuple\n",
        "  * 6.3 Convert Tuple Into A List\n",
        "\n",
        "\n",
        "\n",
        "\n",
        "\n",
        "* Part 7: Set\n",
        "  * 7.1 Defining A Set\n",
        "  * 7.2 Set Removes Duplicates\n",
        "  * 7.3 Uppercase and lowercase in Set\n",
        "  * 7.4 Add Function in A Set\n",
        "  * 7.5 Remove Function in A Set\n",
        "  * 7.6 Intersection in A Set\n",
        "  * 7.7 Union Function in A Set\n",
        "  * 7.8 Converting A Set Into A list\n",
        "  * 7.9 Difference Function in A Set\n",
        "\n",
        "\n",
        "\n",
        "\n",
        "* Part 8: Dictionary\n",
        "  * 8.1 Defining The Dictionary\n",
        "  * 8.2 Finding Value of The Key\n",
        "  * 8.3 Finding The Key Name\n",
        "  * 8.4 Updating Value of A Key\n",
        "  * 8.5 Delete Function In Dictionary\n",
        "  * 8.6 Key is Unique\n",
        "\n",
        "\n"
      ],
      "metadata": {
        "id": "TXcf-ycu9auo"
      }
    },
    {
      "cell_type": "markdown",
      "source": [
        "**String Indexing**\n",
        "\n",
        "---\n",
        "\n"
      ],
      "metadata": {
        "id": "3AA5i1V4ULuG"
      }
    },
    {
      "cell_type": "markdown",
      "source": [
        "* Indexing in Python refers to the process of accessing specific elements within a sequence, such as a string, list, or tuple, using their positions or indices."
      ],
      "metadata": {
        "id": "qiai6U7S9nn2"
      }
    },
    {
      "cell_type": "markdown",
      "source": [
        "singer = 'Michael Jackson'\n",
        "singer"
      ],
      "metadata": {
        "id": "Z02NdTOF-dIi"
      }
    },
    {
      "cell_type": "code",
      "source": [
        "type(singer)"
      ],
      "metadata": {
        "colab": {
          "base_uri": "https://localhost:8080/"
        },
        "id": "HDAEVgG0i9TI",
        "outputId": "a69acf93-3e7f-4813-932d-5ef545833e46"
      },
      "execution_count": null,
      "outputs": [
        {
          "output_type": "execute_result",
          "data": {
            "text/plain": [
              "str"
            ]
          },
          "metadata": {},
          "execution_count": 4
        }
      ]
    },
    {
      "cell_type": "code",
      "source": [
        "print(singer)\n",
        "print(singer[2])\n",
        "print(singer[5])\n",
        "print(singer[10])\n",
        "print(singer[13])"
      ],
      "metadata": {
        "colab": {
          "base_uri": "https://localhost:8080/"
        },
        "id": "uFWt31FAjCtB",
        "outputId": "dbc65ec2-c900-416f-a3ea-02017ca61144"
      },
      "execution_count": null,
      "outputs": [
        {
          "output_type": "stream",
          "name": "stdout",
          "text": [
            "Michael Jackson\n",
            "c\n",
            "e\n",
            "c\n",
            "o\n"
          ]
        }
      ]
    },
    {
      "cell_type": "markdown",
      "source": [
        "<img src=\"https://s3-api.us-geo.objectstorage.softlayer.net/cf-courses-data/CognitiveClass/PY0101EN/Chapter%201/Images/StringsIndex.png\" width=\"600\" align=\"center\" />"
      ],
      "metadata": {
        "id": "yFYeNR9_kUwg"
      }
    },
    {
      "cell_type": "markdown",
      "source": [
        "<img src=\"https://s3-api.us-geo.objectstorage.softlayer.net/cf-courses-data/CognitiveClass/PY0101EN/Chapter%201/Images/StringsNeg.png\" width=\"600\" align=\"center\" />"
      ],
      "metadata": {
        "id": "a63uJbbukeG3"
      }
    },
    {
      "cell_type": "code",
      "source": [
        "print(singer[-13])\n",
        "print(singer[-10])\n",
        "print(singer[-2])"
      ],
      "metadata": {
        "colab": {
          "base_uri": "https://localhost:8080/"
        },
        "id": "UbBL4xHskSM9",
        "outputId": "313c4a14-4237-472b-d484-d5d8534cf5ec"
      },
      "execution_count": null,
      "outputs": [
        {
          "output_type": "stream",
          "name": "stdout",
          "text": [
            "c\n",
            "e\n",
            "o\n"
          ]
        }
      ]
    },
    {
      "cell_type": "code",
      "source": [
        "anystring = singer"
      ],
      "metadata": {
        "id": "aprut1CK_v3U"
      },
      "execution_count": null,
      "outputs": []
    },
    {
      "cell_type": "code",
      "source": [
        "# print the last, second last, and the first and the second of any string\n",
        "\n",
        "#first\n",
        "print(anystring[0])\n",
        "#second\n",
        "print(anystring[1])\n",
        "#last\n",
        "print(anystring[-1])\n",
        "#second last\n",
        "print(anystring[-2])"
      ],
      "metadata": {
        "colab": {
          "base_uri": "https://localhost:8080/"
        },
        "id": "R8Hv0Lazl8G5",
        "outputId": "91018657-124b-4c18-f653-2dbbffd9827b"
      },
      "execution_count": null,
      "outputs": [
        {
          "output_type": "stream",
          "name": "stdout",
          "text": [
            "M\n",
            "i\n",
            "n\n",
            "o\n"
          ]
        }
      ]
    },
    {
      "cell_type": "markdown",
      "source": [
        "**Slicing**\n",
        "\n",
        "---\n",
        "\n"
      ],
      "metadata": {
        "id": "zziWLRJONd11"
      }
    },
    {
      "cell_type": "markdown",
      "source": [
        "**Index Slicing**"
      ],
      "metadata": {
        "id": "j2v5BR6xmzMc"
      }
    },
    {
      "cell_type": "markdown",
      "source": [
        "print(anystring[index to start from : index to stop at])\n",
        "\n",
        "<img src=\"https://s3-api.us-geo.objectstorage.softlayer.net/cf-courses-data/CognitiveClass/PY0101EN/Chapter%201/Images/StringsIndex.png\" width=\"600\" align=\"center\" />"
      ],
      "metadata": {
        "id": "pU2ZjwzHnbO8"
      }
    },
    {
      "cell_type": "code",
      "source": [
        "print (singer[0:6])"
      ],
      "metadata": {
        "colab": {
          "base_uri": "https://localhost:8080/"
        },
        "id": "qS97VwNEoT89",
        "outputId": "08d8d660-0d89-4fee-a2b8-72012107b4e7"
      },
      "execution_count": null,
      "outputs": [
        {
          "output_type": "stream",
          "name": "stdout",
          "text": [
            "Michae\n"
          ]
        }
      ]
    },
    {
      "cell_type": "code",
      "source": [
        "print (singer[0:7])"
      ],
      "metadata": {
        "colab": {
          "base_uri": "https://localhost:8080/"
        },
        "id": "_czVEvF3otPV",
        "outputId": "544f8d0d-eeef-45be-d9c5-50c488a8cb8e"
      },
      "execution_count": null,
      "outputs": [
        {
          "output_type": "stream",
          "name": "stdout",
          "text": [
            "Michael\n"
          ]
        }
      ]
    },
    {
      "cell_type": "markdown",
      "source": [
        "**printing Jackson**"
      ],
      "metadata": {
        "id": "cz7klfVho2Iv"
      }
    },
    {
      "cell_type": "code",
      "source": [
        "print(singer[8:])"
      ],
      "metadata": {
        "colab": {
          "base_uri": "https://localhost:8080/"
        },
        "id": "JDB97_rXssCs",
        "outputId": "86ab95cc-a6c1-4606-df86-94cb07d14c90"
      },
      "execution_count": null,
      "outputs": [
        {
          "output_type": "stream",
          "name": "stdout",
          "text": [
            "Jackson\n"
          ]
        }
      ]
    },
    {
      "cell_type": "code",
      "source": [
        "print(singer[7:])"
      ],
      "metadata": {
        "colab": {
          "base_uri": "https://localhost:8080/"
        },
        "id": "rJFB45XRo0ZX",
        "outputId": "59841567-b2bd-429d-df06-0b2a47e7871e"
      },
      "execution_count": null,
      "outputs": [
        {
          "output_type": "stream",
          "name": "stdout",
          "text": [
            " Jackson\n"
          ]
        }
      ]
    },
    {
      "cell_type": "code",
      "source": [
        "print(singer[-7:])"
      ],
      "metadata": {
        "colab": {
          "base_uri": "https://localhost:8080/"
        },
        "id": "75Ze_ntmpEBF",
        "outputId": "9c8bd231-1cd9-4d50-fc8f-31ec0a039c35"
      },
      "execution_count": null,
      "outputs": [
        {
          "output_type": "stream",
          "name": "stdout",
          "text": [
            "Jackson\n"
          ]
        }
      ]
    },
    {
      "cell_type": "code",
      "source": [
        "print(singer[-7:15])"
      ],
      "metadata": {
        "colab": {
          "base_uri": "https://localhost:8080/"
        },
        "id": "uFsVe8l6pfmF",
        "outputId": "646fe4f8-e3bb-421d-931a-e9fbf5ea30da"
      },
      "execution_count": null,
      "outputs": [
        {
          "output_type": "stream",
          "name": "stdout",
          "text": [
            "Jackson\n"
          ]
        }
      ]
    },
    {
      "cell_type": "code",
      "source": [
        "print(singer[-7:14])"
      ],
      "metadata": {
        "colab": {
          "base_uri": "https://localhost:8080/"
        },
        "id": "soHw2MeBp2Q1",
        "outputId": "ef4cb545-db9f-480a-a048-ff9e9bbb56be"
      },
      "execution_count": null,
      "outputs": [
        {
          "output_type": "stream",
          "name": "stdout",
          "text": [
            "Jackso\n"
          ]
        }
      ]
    },
    {
      "cell_type": "markdown",
      "source": [
        "<img src=\"https://s3-api.us-geo.objectstorage.softlayer.net/cf-courses-data/CognitiveClass/PY0101EN/Chapter%201/Images/StringsIndex.png\" width=\"600\" align=\"center\" />"
      ],
      "metadata": {
        "id": "mXHnJjg6qVQ3"
      }
    },
    {
      "cell_type": "code",
      "source": [
        "print (singer[:7:2])"
      ],
      "metadata": {
        "colab": {
          "base_uri": "https://localhost:8080/"
        },
        "id": "Y8C826fdp84x",
        "outputId": "c4edd59c-1ce7-44d2-8f39-a5f1ec6b3bfb"
      },
      "execution_count": null,
      "outputs": [
        {
          "output_type": "stream",
          "name": "stdout",
          "text": [
            "Mcal\n"
          ]
        }
      ]
    },
    {
      "cell_type": "code",
      "source": [
        "print (singer[:7:3])"
      ],
      "metadata": {
        "colab": {
          "base_uri": "https://localhost:8080/"
        },
        "id": "pCLMGbVPq2Pi",
        "outputId": "19e78103-d4a7-46ed-8681-02bf9b6672f1"
      },
      "execution_count": null,
      "outputs": [
        {
          "output_type": "stream",
          "name": "stdout",
          "text": [
            "Mhl\n"
          ]
        }
      ]
    },
    {
      "cell_type": "code",
      "source": [
        "print(singer[7:15:3])"
      ],
      "metadata": {
        "colab": {
          "base_uri": "https://localhost:8080/"
        },
        "id": "MCrx761Sq9f3",
        "outputId": "86edcad0-f933-481b-9cfe-ee1f11ae0f7e"
      },
      "execution_count": null,
      "outputs": [
        {
          "output_type": "stream",
          "name": "stdout",
          "text": [
            " co\n"
          ]
        }
      ]
    },
    {
      "cell_type": "code",
      "source": [
        "print(singer[8:15:3])"
      ],
      "metadata": {
        "colab": {
          "base_uri": "https://localhost:8080/"
        },
        "id": "rzPTQ0-IrbTI",
        "outputId": "7372bcb5-3359-4e86-99e6-b679ae76abac"
      },
      "execution_count": null,
      "outputs": [
        {
          "output_type": "stream",
          "name": "stdout",
          "text": [
            "Jkn\n"
          ]
        }
      ]
    },
    {
      "cell_type": "markdown",
      "source": [
        "**Concatenating**\n",
        "\n",
        "---\n",
        "\n"
      ],
      "metadata": {
        "id": "kDAGTSK1Nir5"
      }
    },
    {
      "cell_type": "markdown",
      "source": [
        "**Concatenating Strings**"
      ],
      "metadata": {
        "id": "FLE4PUeSrxuk"
      }
    },
    {
      "cell_type": "code",
      "source": [
        "str1 = 'Big'\n",
        "str2 = 'Data'\n",
        "\n",
        "str3 = str1 + str2\n",
        "str3"
      ],
      "metadata": {
        "colab": {
          "base_uri": "https://localhost:8080/",
          "height": 36
        },
        "id": "cB2Aa3LhrjN4",
        "outputId": "a67bdb29-83b9-46aa-a0b2-f182ab2c79ea"
      },
      "execution_count": null,
      "outputs": [
        {
          "output_type": "execute_result",
          "data": {
            "text/plain": [
              "'BigData'"
            ],
            "application/vnd.google.colaboratory.intrinsic+json": {
              "type": "string"
            }
          },
          "metadata": {},
          "execution_count": 23
        }
      ]
    },
    {
      "cell_type": "code",
      "source": [
        "str4 = str2 + str1\n",
        "str4"
      ],
      "metadata": {
        "colab": {
          "base_uri": "https://localhost:8080/",
          "height": 36
        },
        "id": "ruqBpLZHsOXO",
        "outputId": "36c0fcac-51af-4333-a223-ae14fbd7fbc1"
      },
      "execution_count": null,
      "outputs": [
        {
          "output_type": "execute_result",
          "data": {
            "text/plain": [
              "'DataBig'"
            ],
            "application/vnd.google.colaboratory.intrinsic+json": {
              "type": "string"
            }
          },
          "metadata": {},
          "execution_count": 25
        }
      ]
    },
    {
      "cell_type": "code",
      "source": [
        "str3 = str1 + ' ' + str2\n",
        "str3"
      ],
      "metadata": {
        "colab": {
          "base_uri": "https://localhost:8080/",
          "height": 36
        },
        "id": "LUEMHE-Es49u",
        "outputId": "7cd21e34-ac19-43af-a48f-2ecb3fbc8d3b"
      },
      "execution_count": null,
      "outputs": [
        {
          "output_type": "execute_result",
          "data": {
            "text/plain": [
              "'Big Data'"
            ],
            "application/vnd.google.colaboratory.intrinsic+json": {
              "type": "string"
            }
          },
          "metadata": {},
          "execution_count": 26
        }
      ]
    },
    {
      "cell_type": "code",
      "source": [
        "str1 = 'Big'\n",
        "str2 = ' Data'\n",
        "\n",
        "str3 = str1 + str2\n",
        "str3"
      ],
      "metadata": {
        "colab": {
          "base_uri": "https://localhost:8080/",
          "height": 36
        },
        "id": "bY-AYWEytJIO",
        "outputId": "96fdbed9-0381-49a9-9587-59ac529f871c"
      },
      "execution_count": null,
      "outputs": [
        {
          "output_type": "execute_result",
          "data": {
            "text/plain": [
              "'Big Data'"
            ],
            "application/vnd.google.colaboratory.intrinsic+json": {
              "type": "string"
            }
          },
          "metadata": {},
          "execution_count": 27
        }
      ]
    },
    {
      "cell_type": "code",
      "source": [
        "str5 = str1 + 2024\n",
        "str5"
      ],
      "metadata": {
        "colab": {
          "base_uri": "https://localhost:8080/",
          "height": 165
        },
        "id": "Zmx_99-StXw5",
        "outputId": "c1d5baea-e8e4-42fe-c029-8e86f0ccd111"
      },
      "execution_count": null,
      "outputs": [
        {
          "output_type": "error",
          "ename": "TypeError",
          "evalue": "can only concatenate str (not \"int\") to str",
          "traceback": [
            "\u001b[0;31m---------------------------------------------------------------------------\u001b[0m",
            "\u001b[0;31mTypeError\u001b[0m                                 Traceback (most recent call last)",
            "\u001b[0;32m<ipython-input-28-91e52b5fd67a>\u001b[0m in \u001b[0;36m<cell line: 1>\u001b[0;34m()\u001b[0m\n\u001b[0;32m----> 1\u001b[0;31m \u001b[0mstr5\u001b[0m \u001b[0;34m=\u001b[0m \u001b[0mstr1\u001b[0m \u001b[0;34m+\u001b[0m \u001b[0;36m2024\u001b[0m\u001b[0;34m\u001b[0m\u001b[0;34m\u001b[0m\u001b[0m\n\u001b[0m\u001b[1;32m      2\u001b[0m \u001b[0mstr5\u001b[0m\u001b[0;34m\u001b[0m\u001b[0;34m\u001b[0m\u001b[0m\n",
            "\u001b[0;31mTypeError\u001b[0m: can only concatenate str (not \"int\") to str"
          ]
        }
      ]
    },
    {
      "cell_type": "markdown",
      "source": [
        "**Error!**\n",
        "\n",
        "* As you can see, there an error when we want to concatenate string and integer, because it not the same data types"
      ],
      "metadata": {
        "id": "Tb068l6u_-pS"
      }
    },
    {
      "cell_type": "code",
      "source": [
        "str5 = str1 + '2024'\n",
        "str5"
      ],
      "metadata": {
        "colab": {
          "base_uri": "https://localhost:8080/",
          "height": 36
        },
        "id": "J9JR-2s5thpL",
        "outputId": "99fd18f0-487d-48db-d102-1c5ea73f8b4e"
      },
      "execution_count": null,
      "outputs": [
        {
          "output_type": "execute_result",
          "data": {
            "text/plain": [
              "'Big2024'"
            ],
            "application/vnd.google.colaboratory.intrinsic+json": {
              "type": "string"
            }
          },
          "metadata": {},
          "execution_count": 29
        }
      ]
    },
    {
      "cell_type": "code",
      "source": [
        "str5 = str1 + ' 2024'\n",
        "str5"
      ],
      "metadata": {
        "colab": {
          "base_uri": "https://localhost:8080/",
          "height": 36
        },
        "id": "r-gy9_hVtx1E",
        "outputId": "a0055b95-ae4e-46b5-e722-6f637c7f0f37"
      },
      "execution_count": null,
      "outputs": [
        {
          "output_type": "execute_result",
          "data": {
            "text/plain": [
              "'Big 2024'"
            ],
            "application/vnd.google.colaboratory.intrinsic+json": {
              "type": "string"
            }
          },
          "metadata": {},
          "execution_count": 30
        }
      ]
    },
    {
      "cell_type": "code",
      "source": [
        "str6 = '2024'\n",
        "str6"
      ],
      "metadata": {
        "colab": {
          "base_uri": "https://localhost:8080/",
          "height": 36
        },
        "id": "M4UdRXZAuA0X",
        "outputId": "6e1de21c-68d1-4733-efc0-595200e1f6f8"
      },
      "execution_count": null,
      "outputs": [
        {
          "output_type": "execute_result",
          "data": {
            "text/plain": [
              "'2024'"
            ],
            "application/vnd.google.colaboratory.intrinsic+json": {
              "type": "string"
            }
          },
          "metadata": {},
          "execution_count": 31
        }
      ]
    },
    {
      "cell_type": "code",
      "source": [
        "type(str6)"
      ],
      "metadata": {
        "colab": {
          "base_uri": "https://localhost:8080/"
        },
        "id": "IzycbnVpuH9b",
        "outputId": "814bcc05-d176-4300-d701-5727935f90a6"
      },
      "execution_count": null,
      "outputs": [
        {
          "output_type": "execute_result",
          "data": {
            "text/plain": [
              "str"
            ]
          },
          "metadata": {},
          "execution_count": 33
        }
      ]
    },
    {
      "cell_type": "code",
      "source": [
        "str7 = int('2024')\n",
        "str7"
      ],
      "metadata": {
        "colab": {
          "base_uri": "https://localhost:8080/"
        },
        "id": "qgvZCD6XuOUt",
        "outputId": "e76ff4cd-1350-4367-b7aa-195a1225ffc4"
      },
      "execution_count": null,
      "outputs": [
        {
          "output_type": "execute_result",
          "data": {
            "text/plain": [
              "2024"
            ]
          },
          "metadata": {},
          "execution_count": 35
        }
      ]
    },
    {
      "cell_type": "code",
      "source": [
        "str9 = str(2.2)\n",
        "str9"
      ],
      "metadata": {
        "colab": {
          "base_uri": "https://localhost:8080/",
          "height": 36
        },
        "id": "PCT_aX8LuYhe",
        "outputId": "74ad692c-c0db-4d1b-ff4b-2633d660f533"
      },
      "execution_count": null,
      "outputs": [
        {
          "output_type": "execute_result",
          "data": {
            "text/plain": [
              "'2.2'"
            ],
            "application/vnd.google.colaboratory.intrinsic+json": {
              "type": "string"
            }
          },
          "metadata": {},
          "execution_count": 36
        }
      ]
    },
    {
      "cell_type": "code",
      "source": [
        "str8 = str1 + str9\n",
        "str8"
      ],
      "metadata": {
        "colab": {
          "base_uri": "https://localhost:8080/",
          "height": 36
        },
        "id": "ohCBmx0EvBtU",
        "outputId": "91312537-018f-4744-c7f1-449ca1d23ee3"
      },
      "execution_count": null,
      "outputs": [
        {
          "output_type": "execute_result",
          "data": {
            "text/plain": [
              "'Big2.2'"
            ],
            "application/vnd.google.colaboratory.intrinsic+json": {
              "type": "string"
            }
          },
          "metadata": {},
          "execution_count": 37
        }
      ]
    },
    {
      "cell_type": "code",
      "source": [
        "test1 = int(str(999))\n",
        "test1"
      ],
      "metadata": {
        "colab": {
          "base_uri": "https://localhost:8080/"
        },
        "id": "HftM1vjdvM-f",
        "outputId": "9d13f7c4-756e-48ad-e354-3a1743209a6f"
      },
      "execution_count": null,
      "outputs": [
        {
          "output_type": "execute_result",
          "data": {
            "text/plain": [
              "999"
            ]
          },
          "metadata": {},
          "execution_count": 38
        }
      ]
    },
    {
      "cell_type": "code",
      "source": [
        "type(test1)"
      ],
      "metadata": {
        "colab": {
          "base_uri": "https://localhost:8080/"
        },
        "id": "bQvM4uorwEp2",
        "outputId": "83519813-3255-4982-aa45-726e2367fb5c"
      },
      "execution_count": null,
      "outputs": [
        {
          "output_type": "execute_result",
          "data": {
            "text/plain": [
              "int"
            ]
          },
          "metadata": {},
          "execution_count": 39
        }
      ]
    },
    {
      "cell_type": "code",
      "source": [
        "test2 = str(int(float(999)))\n",
        "type(test2)"
      ],
      "metadata": {
        "colab": {
          "base_uri": "https://localhost:8080/"
        },
        "id": "hUmRrr5gwdPF",
        "outputId": "a397c96c-1f54-4e49-c4cc-98bffbc67728"
      },
      "execution_count": null,
      "outputs": [
        {
          "output_type": "execute_result",
          "data": {
            "text/plain": [
              "str"
            ]
          },
          "metadata": {},
          "execution_count": 40
        }
      ]
    },
    {
      "cell_type": "markdown",
      "source": [
        "# **Data Structure**\n",
        "\n",
        "---\n",
        "\n"
      ],
      "metadata": {
        "id": "zfcyV6tZNrCl"
      }
    },
    {
      "cell_type": "markdown",
      "source": [
        "**Python Data Structure**\n",
        "\n",
        "* List []\n",
        "* Tuple ()\n",
        "* Set {}\n",
        "* Dictionary {}"
      ],
      "metadata": {
        "id": "4J0NIkMMxD7a"
      }
    },
    {
      "cell_type": "markdown",
      "source": [
        "**List**\n",
        "\n",
        "---\n",
        "\n"
      ],
      "metadata": {
        "id": "Y9Bdei5_Nxh9"
      }
    },
    {
      "cell_type": "code",
      "source": [
        "l1 = [8.8,'Data Science', 2024, 99, -20]\n",
        "\n",
        "t1 = (8.8,'Data Science', 2024, 99, -20)\n",
        "\n",
        "s1 = {8.8,'Data Science', 2024, 99, -20}\n",
        "\n",
        "print(l1)\n",
        "print(t1)\n",
        "print(s1)"
      ],
      "metadata": {
        "colab": {
          "base_uri": "https://localhost:8080/"
        },
        "id": "MjnoVbyNwvTg",
        "outputId": "6700c753-d13c-401c-c19b-ecba9b54099b"
      },
      "execution_count": null,
      "outputs": [
        {
          "output_type": "stream",
          "name": "stdout",
          "text": [
            "[8.8, 'Data Science', 2024, 99, -20]\n",
            "(8.8, 'Data Science', 2024, 99, -20)\n",
            "{99, 8.8, 2024, -20, 'Data Science'}\n"
          ]
        }
      ]
    },
    {
      "cell_type": "code",
      "source": [
        "type(l1)"
      ],
      "metadata": {
        "colab": {
          "base_uri": "https://localhost:8080/"
        },
        "id": "ghHybZ3a4BMx",
        "outputId": "4a5df195-df00-44a1-b851-bd5e48a8b672"
      },
      "execution_count": null,
      "outputs": [
        {
          "output_type": "execute_result",
          "data": {
            "text/plain": [
              "list"
            ]
          },
          "metadata": {},
          "execution_count": 2
        }
      ]
    },
    {
      "cell_type": "code",
      "source": [
        "type(t1)"
      ],
      "metadata": {
        "colab": {
          "base_uri": "https://localhost:8080/"
        },
        "id": "3OdVO2Em4KsS",
        "outputId": "04592538-aa56-45fb-cdef-6b073456c982"
      },
      "execution_count": null,
      "outputs": [
        {
          "output_type": "execute_result",
          "data": {
            "text/plain": [
              "tuple"
            ]
          },
          "metadata": {},
          "execution_count": 44
        }
      ]
    },
    {
      "cell_type": "code",
      "source": [
        "type(s1)"
      ],
      "metadata": {
        "colab": {
          "base_uri": "https://localhost:8080/"
        },
        "id": "qYb704XU4Md2",
        "outputId": "0b7f4c55-2c76-480c-ad72-3e34a376514f"
      },
      "execution_count": null,
      "outputs": [
        {
          "output_type": "execute_result",
          "data": {
            "text/plain": [
              "set"
            ]
          },
          "metadata": {},
          "execution_count": 45
        }
      ]
    },
    {
      "cell_type": "markdown",
      "source": [
        "**List**"
      ],
      "metadata": {
        "id": "rPXMjyfS4RkH"
      }
    },
    {
      "cell_type": "code",
      "source": [
        "#index\n",
        "\n",
        "print(l1[2])\n",
        "print(l1[2:])"
      ],
      "metadata": {
        "colab": {
          "base_uri": "https://localhost:8080/"
        },
        "id": "l_aKVxXs4OUE",
        "outputId": "09c9c43d-bed5-4dd9-e3be-592e7c8a399d"
      },
      "execution_count": null,
      "outputs": [
        {
          "output_type": "stream",
          "name": "stdout",
          "text": [
            "2024\n",
            "[2024, 99, -20]\n"
          ]
        }
      ]
    },
    {
      "cell_type": "code",
      "source": [
        "#extend\n",
        "\n",
        "l1.extend([55, 'AI'])\n",
        "l1"
      ],
      "metadata": {
        "colab": {
          "base_uri": "https://localhost:8080/"
        },
        "id": "m5Jykk0C4nuP",
        "outputId": "8f2662f2-0522-4495-8240-5a83a350e6a1"
      },
      "execution_count": null,
      "outputs": [
        {
          "output_type": "execute_result",
          "data": {
            "text/plain": [
              "[8.8, 'Data Science', 2024, 99, -20, 55, 'AI']"
            ]
          },
          "metadata": {},
          "execution_count": 4
        }
      ]
    },
    {
      "cell_type": "code",
      "source": [
        "#append\n",
        "l1.append(['ML',999])"
      ],
      "metadata": {
        "id": "iZdPMLy-6mqG"
      },
      "execution_count": null,
      "outputs": []
    },
    {
      "cell_type": "code",
      "source": [
        "l1"
      ],
      "metadata": {
        "colab": {
          "base_uri": "https://localhost:8080/"
        },
        "id": "DlWeb8lz64fL",
        "outputId": "21582819-34bf-4ad2-b373-4494b430ff4a"
      },
      "execution_count": null,
      "outputs": [
        {
          "output_type": "execute_result",
          "data": {
            "text/plain": [
              "[8.8, 'Data Science', 2024, 99, -20, 55, 'AI', ['ML', 999]]"
            ]
          },
          "metadata": {},
          "execution_count": 6
        }
      ]
    },
    {
      "cell_type": "code",
      "source": [
        "#nested list\n",
        "\n",
        "print(l1[-1])"
      ],
      "metadata": {
        "colab": {
          "base_uri": "https://localhost:8080/"
        },
        "id": "C1UO_DZz7AG3",
        "outputId": "7ad7e3f4-7c2e-4350-e43b-1e8c8d96ae42"
      },
      "execution_count": null,
      "outputs": [
        {
          "output_type": "stream",
          "name": "stdout",
          "text": [
            "['ML', 999]\n"
          ]
        }
      ]
    },
    {
      "cell_type": "code",
      "source": [
        "print(l1[-1][-1])"
      ],
      "metadata": {
        "colab": {
          "base_uri": "https://localhost:8080/"
        },
        "id": "ZV_Odmux7SuJ",
        "outputId": "6b00fe7f-6142-4d0d-aedf-b176a0cafa2b"
      },
      "execution_count": null,
      "outputs": [
        {
          "output_type": "stream",
          "name": "stdout",
          "text": [
            "999\n"
          ]
        }
      ]
    },
    {
      "cell_type": "code",
      "source": [
        "print(l1[-1][-2])"
      ],
      "metadata": {
        "colab": {
          "base_uri": "https://localhost:8080/"
        },
        "id": "_D-xrAY17bbl",
        "outputId": "25dce343-e2b6-405a-a997-65262ac68de7"
      },
      "execution_count": null,
      "outputs": [
        {
          "output_type": "stream",
          "name": "stdout",
          "text": [
            "ML\n"
          ]
        }
      ]
    },
    {
      "cell_type": "code",
      "source": [
        "l2 = [8.8, 'Data Science', 2024, 99, -20, 55, 'Ai', ['ML', 999, ['A','B','C']]]\n",
        "#print the latter B and C\n",
        "\n",
        "print (l2[-1][-1][-2:])"
      ],
      "metadata": {
        "colab": {
          "base_uri": "https://localhost:8080/"
        },
        "id": "hd2GiFHH7jNi",
        "outputId": "93543463-0781-4e87-aa34-cf53ed94c1fd"
      },
      "execution_count": null,
      "outputs": [
        {
          "output_type": "stream",
          "name": "stdout",
          "text": [
            "['B', 'C']\n"
          ]
        }
      ]
    },
    {
      "cell_type": "code",
      "source": [
        "#del\n",
        "del(l1[1])\n",
        "l1"
      ],
      "metadata": {
        "colab": {
          "base_uri": "https://localhost:8080/"
        },
        "id": "KvN5KLPR8cH7",
        "outputId": "339a8436-90d4-44f6-e55f-3b9e67d64cce"
      },
      "execution_count": null,
      "outputs": [
        {
          "output_type": "execute_result",
          "data": {
            "text/plain": [
              "[8.8, 2024, 99, -20, 55, 'AI', ['ML', 999]]"
            ]
          },
          "metadata": {},
          "execution_count": 7
        }
      ]
    },
    {
      "cell_type": "code",
      "source": [
        "#find the index of an item in a list\n",
        "\n",
        "l1.index('AI')"
      ],
      "metadata": {
        "colab": {
          "base_uri": "https://localhost:8080/"
        },
        "id": "JsNLwvrQ9IJu",
        "outputId": "5694a602-f85f-4f0f-83db-23c6f3acf4fa"
      },
      "execution_count": null,
      "outputs": [
        {
          "output_type": "execute_result",
          "data": {
            "text/plain": [
              "5"
            ]
          },
          "metadata": {},
          "execution_count": 85
        }
      ]
    },
    {
      "cell_type": "code",
      "source": [
        "#counting the freq of an item in a list\n",
        "\n",
        "l3 = [20, 200, 99, 20, 'AI',20, 'AI', 20]\n",
        "\n",
        "#count\n",
        "\n",
        "l3.count(20)"
      ],
      "metadata": {
        "colab": {
          "base_uri": "https://localhost:8080/"
        },
        "id": "V1wVzEtn9r2u",
        "outputId": "40de6af2-33f8-4eac-d3d3-4c5e2451a880"
      },
      "execution_count": null,
      "outputs": [
        {
          "output_type": "execute_result",
          "data": {
            "text/plain": [
              "4"
            ]
          },
          "metadata": {},
          "execution_count": 10
        }
      ]
    },
    {
      "cell_type": "code",
      "source": [
        "l3.count('AI')"
      ],
      "metadata": {
        "colab": {
          "base_uri": "https://localhost:8080/"
        },
        "id": "af8y56wx-TzW",
        "outputId": "e69c516e-177b-4313-8a16-8ee35d51e48c"
      },
      "execution_count": null,
      "outputs": [
        {
          "output_type": "execute_result",
          "data": {
            "text/plain": [
              "2"
            ]
          },
          "metadata": {},
          "execution_count": 11
        }
      ]
    },
    {
      "cell_type": "code",
      "source": [
        "#remove\n",
        "\n",
        "l3.remove('AI')\n",
        "l3"
      ],
      "metadata": {
        "colab": {
          "base_uri": "https://localhost:8080/"
        },
        "id": "jGsQW0c_-fPX",
        "outputId": "66d860d6-4643-4ab6-d6a6-c60d85878d79"
      },
      "execution_count": null,
      "outputs": [
        {
          "output_type": "execute_result",
          "data": {
            "text/plain": [
              "[20, 200, 99, 20, 20, 'AI', 20]"
            ]
          },
          "metadata": {},
          "execution_count": 12
        }
      ]
    },
    {
      "cell_type": "code",
      "source": [
        "#insert\n",
        "\n",
        "#list.insert(index,item)\n",
        "\n",
        "l3.insert(4,'AI')\n",
        "l3"
      ],
      "metadata": {
        "colab": {
          "base_uri": "https://localhost:8080/"
        },
        "id": "dmSQ4tQv_EMV",
        "outputId": "b33ca8be-7a5c-4e3b-b8ce-bcc6091f9bd0"
      },
      "execution_count": null,
      "outputs": [
        {
          "output_type": "execute_result",
          "data": {
            "text/plain": [
              "[20, 200, 99, 20, 'AI', 20, 'AI', 20]"
            ]
          },
          "metadata": {},
          "execution_count": 13
        }
      ]
    },
    {
      "cell_type": "code",
      "source": [
        "#reverse\n",
        "\n",
        "l3.reverse()\n",
        "l3"
      ],
      "metadata": {
        "colab": {
          "base_uri": "https://localhost:8080/"
        },
        "id": "nW6E9T9__x1V",
        "outputId": "2438db87-dca0-4f1c-bfaa-d56cf58c4083"
      },
      "execution_count": null,
      "outputs": [
        {
          "output_type": "execute_result",
          "data": {
            "text/plain": [
              "[20, 'AI', 20, 'AI', 20, 99, 200, 20]"
            ]
          },
          "metadata": {},
          "execution_count": 14
        }
      ]
    },
    {
      "cell_type": "code",
      "source": [
        "#sort\n",
        "\n",
        "l3.sort()\n",
        "l3"
      ],
      "metadata": {
        "colab": {
          "base_uri": "https://localhost:8080/",
          "height": 193
        },
        "id": "F-vHxNvaAGtE",
        "outputId": "14ea291c-57c0-4e61-a855-bc22f1e0b1fa"
      },
      "execution_count": null,
      "outputs": [
        {
          "output_type": "error",
          "ename": "TypeError",
          "evalue": "'<' not supported between instances of 'str' and 'int'",
          "traceback": [
            "\u001b[0;31m---------------------------------------------------------------------------\u001b[0m",
            "\u001b[0;31mTypeError\u001b[0m                                 Traceback (most recent call last)",
            "\u001b[0;32m<ipython-input-15-7dcef0bdbe08>\u001b[0m in \u001b[0;36m<cell line: 3>\u001b[0;34m()\u001b[0m\n\u001b[1;32m      1\u001b[0m \u001b[0;31m#sort\u001b[0m\u001b[0;34m\u001b[0m\u001b[0;34m\u001b[0m\u001b[0m\n\u001b[1;32m      2\u001b[0m \u001b[0;34m\u001b[0m\u001b[0m\n\u001b[0;32m----> 3\u001b[0;31m \u001b[0ml3\u001b[0m\u001b[0;34m.\u001b[0m\u001b[0msort\u001b[0m\u001b[0;34m(\u001b[0m\u001b[0;34m)\u001b[0m\u001b[0;34m\u001b[0m\u001b[0;34m\u001b[0m\u001b[0m\n\u001b[0m\u001b[1;32m      4\u001b[0m \u001b[0ml3\u001b[0m\u001b[0;34m\u001b[0m\u001b[0;34m\u001b[0m\u001b[0m\n",
            "\u001b[0;31mTypeError\u001b[0m: '<' not supported between instances of 'str' and 'int'"
          ]
        }
      ]
    },
    {
      "cell_type": "markdown",
      "source": [
        "**Error!**\n",
        "\n",
        "* Because the list consist of string and integer so it cannor sort out"
      ],
      "metadata": {
        "id": "y3DTPTxsAtlE"
      }
    },
    {
      "cell_type": "code",
      "source": [
        "l3.remove('AI')\n",
        "l3"
      ],
      "metadata": {
        "colab": {
          "base_uri": "https://localhost:8080/"
        },
        "id": "y8mP_SqGAmHt",
        "outputId": "76f6b691-5cea-4cbc-8241-39d401f863ad"
      },
      "execution_count": null,
      "outputs": [
        {
          "output_type": "execute_result",
          "data": {
            "text/plain": [
              "[20, 20, 20, 99, 200, 20]"
            ]
          },
          "metadata": {},
          "execution_count": 74
        }
      ]
    },
    {
      "cell_type": "code",
      "source": [
        "l3.sort()\n",
        "l3"
      ],
      "metadata": {
        "colab": {
          "base_uri": "https://localhost:8080/"
        },
        "id": "6vvoRnV6A2dp",
        "outputId": "2e072afa-82a4-4b5f-81ea-def961f69fad"
      },
      "execution_count": null,
      "outputs": [
        {
          "output_type": "execute_result",
          "data": {
            "text/plain": [
              "[20, 20, 20, 20, 99, 200]"
            ]
          },
          "metadata": {},
          "execution_count": 75
        }
      ]
    },
    {
      "cell_type": "code",
      "source": [
        "l3.reverse()\n",
        "l3"
      ],
      "metadata": {
        "colab": {
          "base_uri": "https://localhost:8080/"
        },
        "id": "RAv9M9niA7Ew",
        "outputId": "936c1db6-da1f-4856-b067-0ee187a498f0"
      },
      "execution_count": null,
      "outputs": [
        {
          "output_type": "execute_result",
          "data": {
            "text/plain": [
              "[200, 99, 20, 20, 20, 20]"
            ]
          },
          "metadata": {},
          "execution_count": 76
        }
      ]
    },
    {
      "cell_type": "code",
      "source": [
        "#length\n",
        "\n",
        "len(l3)"
      ],
      "metadata": {
        "colab": {
          "base_uri": "https://localhost:8080/"
        },
        "id": "qi3rs-V_BArI",
        "outputId": "2fde8ff1-cce0-4f26-de9f-557970c7dcb6"
      },
      "execution_count": null,
      "outputs": [
        {
          "output_type": "execute_result",
          "data": {
            "text/plain": [
              "6"
            ]
          },
          "metadata": {},
          "execution_count": 77
        }
      ]
    },
    {
      "cell_type": "code",
      "source": [
        "l4 = [20, 0, -5, 13, -1, 7, 4, -3, 17, 9]\n",
        "\n",
        "#sort l4 in ascending and descending order\n",
        "#print the highest value and the lowest value"
      ],
      "metadata": {
        "id": "e1lHvWwSBPvG"
      },
      "execution_count": null,
      "outputs": []
    },
    {
      "cell_type": "code",
      "source": [
        "l4.sort()\n",
        "l4"
      ],
      "metadata": {
        "colab": {
          "base_uri": "https://localhost:8080/"
        },
        "id": "iZVLZ5TYB3t9",
        "outputId": "1ec9782c-b832-424d-d228-f78ea616c9e7"
      },
      "execution_count": null,
      "outputs": [
        {
          "output_type": "execute_result",
          "data": {
            "text/plain": [
              "[-5, -3, -1, 0, 4, 7, 9, 13, 17, 20]"
            ]
          },
          "metadata": {},
          "execution_count": 79
        }
      ]
    },
    {
      "cell_type": "code",
      "source": [
        "l4.reverse()\n",
        "l4"
      ],
      "metadata": {
        "colab": {
          "base_uri": "https://localhost:8080/"
        },
        "id": "Ny7-vYgeB7Pg",
        "outputId": "c301fa43-e57e-4a74-f148-cdbe75259e69"
      },
      "execution_count": null,
      "outputs": [
        {
          "output_type": "execute_result",
          "data": {
            "text/plain": [
              "[20, 17, 13, 9, 7, 4, 0, -1, -3, -5]"
            ]
          },
          "metadata": {},
          "execution_count": 80
        }
      ]
    },
    {
      "cell_type": "code",
      "source": [
        "print(l4[0])"
      ],
      "metadata": {
        "colab": {
          "base_uri": "https://localhost:8080/"
        },
        "id": "40jiTxb3B-Za",
        "outputId": "904705ac-3152-421b-d8dc-465c28d41cef"
      },
      "execution_count": null,
      "outputs": [
        {
          "output_type": "stream",
          "name": "stdout",
          "text": [
            "20\n"
          ]
        }
      ]
    },
    {
      "cell_type": "code",
      "source": [
        "print(l4[-1])"
      ],
      "metadata": {
        "colab": {
          "base_uri": "https://localhost:8080/"
        },
        "id": "DAYSuWQXCH8s",
        "outputId": "175e6afc-6d5d-4117-ebdb-8e2b8563ca77"
      },
      "execution_count": null,
      "outputs": [
        {
          "output_type": "stream",
          "name": "stdout",
          "text": [
            "-5\n"
          ]
        }
      ]
    },
    {
      "cell_type": "code",
      "source": [
        "max(l4)"
      ],
      "metadata": {
        "colab": {
          "base_uri": "https://localhost:8080/"
        },
        "id": "lWozvvR6CU89",
        "outputId": "e9ee03f0-3094-4515-ddf6-bcee3a144342"
      },
      "execution_count": null,
      "outputs": [
        {
          "output_type": "execute_result",
          "data": {
            "text/plain": [
              "20"
            ]
          },
          "metadata": {},
          "execution_count": 83
        }
      ]
    },
    {
      "cell_type": "code",
      "source": [
        "min(l4)"
      ],
      "metadata": {
        "colab": {
          "base_uri": "https://localhost:8080/"
        },
        "id": "-jZphyViCgnA",
        "outputId": "a5bde9e0-d5c9-415f-e362-327cb9df8c6c"
      },
      "execution_count": null,
      "outputs": [
        {
          "output_type": "execute_result",
          "data": {
            "text/plain": [
              "-5"
            ]
          },
          "metadata": {},
          "execution_count": 84
        }
      ]
    },
    {
      "cell_type": "code",
      "source": [
        "print ('The highest value is ', l4[0])\n",
        "print ('The lowest value is ', l4[-1])"
      ],
      "metadata": {
        "colab": {
          "base_uri": "https://localhost:8080/"
        },
        "id": "Sd97MN3BCiUU",
        "outputId": "94e9b8c1-b3a0-4a05-e4f7-79f86c42e6c4"
      },
      "execution_count": null,
      "outputs": [
        {
          "output_type": "stream",
          "name": "stdout",
          "text": [
            "The highest value is  20\n",
            "The lowest value is  -5\n"
          ]
        }
      ]
    },
    {
      "cell_type": "markdown",
      "source": [
        "**Tuple**\n",
        "\n",
        "---\n",
        "\n"
      ],
      "metadata": {
        "id": "9kgr11f1OAhc"
      }
    },
    {
      "cell_type": "markdown",
      "source": [
        "**Tuple**\n",
        "\n",
        "Here’s a comparison of lists and tuples in Python:\n",
        "\n",
        "### List\n",
        "- *Mutable*: You can change the elements (add, remove, or modify) after the list is created.\n",
        "- *Syntax*: Defined using square brackets [].\n",
        "  python\n",
        "  my_list = [1, 2, 3]\n",
        "  \n",
        "- *Performance*: Slightly slower due to the flexibility of mutability.\n",
        "- *Use Case*: Best when you need a collection of items that may change over time.\n",
        "\n",
        "### Tuple\n",
        "- *Immutable*: Once created, you cannot change the elements (no adding, removing, or modifying).\n",
        "- *Syntax*: Defined using parentheses ().\n",
        "  python\n",
        "  my_tuple = (1, 2, 3)\n",
        "  \n",
        "- *Performance*: Faster than lists due to immutability.\n",
        "- *Use Case*: Best when you need a collection of items that should not change, ensuring data integrity.\n",
        "\n",
        "### Key Differences\n",
        "1. *Mutability*:\n",
        "   - Lists: Mutable\n",
        "   - Tuples: Immutable\n",
        "\n",
        "2. *Syntax*:\n",
        "   - Lists: []\n",
        "   - Tuples: ()\n",
        "\n",
        "3. *Performance*:\n",
        "   - Lists: Slower due to overhead of mutable operations.\n",
        "   - Tuples: Faster due to immutability.\n",
        "\n",
        "4. *Use Cases*:\n",
        "   - Lists: Collections of items that need to be changed or updated.\n",
        "   - Tuples: Fixed collections of items that should not change after creation.\n",
        "\n",
        "### Example\n",
        "#### List\n",
        "python\n",
        "my_list = [1, 2, 3]\n",
        "my_list.append(4)\n",
        "print(my_list)  # Output: [1, 2, 3, 4]\n",
        "\n",
        "\n",
        "#### Tuple\n",
        "python\n",
        "my_tuple = (1, 2, 3)\n",
        "# my_tuple.append(4)  # This will raise an AttributeError\n",
        "print(my_tuple)  # Output: (1, 2, 3)\n",
        "\n",
        "\n",
        "### Summary\n",
        "- Use *lists* when you need a dynamic collection that may change over time.\n",
        "- Use *tuples* when you need a fixed collection of items that should remain constant."
      ],
      "metadata": {
        "id": "1uS14e0PEh9c"
      }
    },
    {
      "cell_type": "code",
      "source": [
        "t1"
      ],
      "metadata": {
        "colab": {
          "base_uri": "https://localhost:8080/"
        },
        "id": "Uh2BvmMHELqf",
        "outputId": "eb9e0a11-37b0-47ae-be15-0b3609876d70"
      },
      "execution_count": null,
      "outputs": [
        {
          "output_type": "execute_result",
          "data": {
            "text/plain": [
              "(8.8, 'Data Science', 2024, 99, -20)"
            ]
          },
          "metadata": {},
          "execution_count": 87
        }
      ]
    },
    {
      "cell_type": "code",
      "source": [
        "print(t1[2])"
      ],
      "metadata": {
        "colab": {
          "base_uri": "https://localhost:8080/"
        },
        "id": "rzO4nKUeFYpk",
        "outputId": "2d6b2a2e-e1a1-4e47-fd69-5b3d04c0a65d"
      },
      "execution_count": null,
      "outputs": [
        {
          "output_type": "stream",
          "name": "stdout",
          "text": [
            "2024\n"
          ]
        }
      ]
    },
    {
      "cell_type": "code",
      "source": [
        "#nested tuple\n",
        "\n",
        "t2 = (8.8, 'Data Science', (2024, 99), -20,)\n",
        "print(t2[-2][-1])"
      ],
      "metadata": {
        "colab": {
          "base_uri": "https://localhost:8080/"
        },
        "id": "vrHgoSw9FeG-",
        "outputId": "894d1056-ab34-4131-f4be-4aa087093632"
      },
      "execution_count": null,
      "outputs": [
        {
          "output_type": "stream",
          "name": "stdout",
          "text": [
            "99\n"
          ]
        }
      ]
    },
    {
      "cell_type": "code",
      "source": [
        "t3 = ('AI', 'Python')\n",
        "tnew = t2 + t3\n",
        "tnew"
      ],
      "metadata": {
        "colab": {
          "base_uri": "https://localhost:8080/"
        },
        "id": "w6DRlmkZF7Q5",
        "outputId": "bc8b5671-9555-416e-8034-5bb07d25c1a2"
      },
      "execution_count": null,
      "outputs": [
        {
          "output_type": "execute_result",
          "data": {
            "text/plain": [
              "(8.8, 'Data Science', (2024, 99), -20, 'AI', 'Python')"
            ]
          },
          "metadata": {},
          "execution_count": 90
        }
      ]
    },
    {
      "cell_type": "code",
      "source": [
        "t4 = (5, 88, -20, 99, 30, 8.8, 0, 5)\n",
        "\n",
        "#sorted\n",
        "sort_t4 = sorted(t4)\n",
        "\n",
        "print (sort_t4)"
      ],
      "metadata": {
        "colab": {
          "base_uri": "https://localhost:8080/"
        },
        "id": "_tpNgyWXGTXR",
        "outputId": "bcfcdd1e-093a-4c63-851f-246a1ceab43d"
      },
      "execution_count": null,
      "outputs": [
        {
          "output_type": "stream",
          "name": "stdout",
          "text": [
            "[-20, 0, 5, 5, 8.8, 30, 88, 99]\n"
          ]
        }
      ]
    },
    {
      "cell_type": "code",
      "source": [
        "list_t4 = list(t4)\n",
        "list_t4"
      ],
      "metadata": {
        "colab": {
          "base_uri": "https://localhost:8080/"
        },
        "id": "N7dehr78G_Pr",
        "outputId": "529b988d-8598-4323-deae-c5d46ad978b9"
      },
      "execution_count": null,
      "outputs": [
        {
          "output_type": "execute_result",
          "data": {
            "text/plain": [
              "[5, 88, -20, 99, 30, 8.8, 0, 5]"
            ]
          },
          "metadata": {},
          "execution_count": 92
        }
      ]
    },
    {
      "cell_type": "code",
      "source": [
        "tuple_list_t4 = tuple(list_t4)\n",
        "tuple_list_t4"
      ],
      "metadata": {
        "colab": {
          "base_uri": "https://localhost:8080/"
        },
        "id": "KX-HNpISHi0r",
        "outputId": "f0e9469e-58a9-4c6c-f959-2086d070e0ca"
      },
      "execution_count": null,
      "outputs": [
        {
          "output_type": "execute_result",
          "data": {
            "text/plain": [
              "(5, 88, -20, 99, 30, 8.8, 0, 5)"
            ]
          },
          "metadata": {},
          "execution_count": 93
        }
      ]
    },
    {
      "cell_type": "code",
      "source": [
        "t5 = ('AI','Data', 2024, 'ML')\n",
        "list_new_items = [888, 'Python', 'DL']\n",
        "\n",
        "#create a new tuple of the above tuple and list"
      ],
      "metadata": {
        "id": "nspyQkGzHzN0"
      },
      "execution_count": null,
      "outputs": []
    },
    {
      "cell_type": "code",
      "source": [
        "list_t5 = list(t5)\n",
        "list_t5"
      ],
      "metadata": {
        "colab": {
          "base_uri": "https://localhost:8080/"
        },
        "id": "j2nxPumqJNqT",
        "outputId": "0a936222-5651-474f-9ca0-86d11a1051f5"
      },
      "execution_count": null,
      "outputs": [
        {
          "output_type": "execute_result",
          "data": {
            "text/plain": [
              "['AI', 'Data', 2024, 'ML']"
            ]
          },
          "metadata": {},
          "execution_count": 95
        }
      ]
    },
    {
      "cell_type": "code",
      "source": [
        "list_t5.extend(list_new_items)\n",
        "list_t5"
      ],
      "metadata": {
        "colab": {
          "base_uri": "https://localhost:8080/"
        },
        "id": "YDhZ1cBsL7FH",
        "outputId": "ef24d0b3-1ca9-4883-9896-cc028a592e4c"
      },
      "execution_count": null,
      "outputs": [
        {
          "output_type": "execute_result",
          "data": {
            "text/plain": [
              "['AI', 'Data', 2024, 'ML', 888, 'Python', 'DL']"
            ]
          },
          "metadata": {},
          "execution_count": 98
        }
      ]
    },
    {
      "cell_type": "code",
      "source": [
        "l6 = list_new_items + list_t5\n",
        "l6"
      ],
      "metadata": {
        "colab": {
          "base_uri": "https://localhost:8080/"
        },
        "id": "7AzZNAynJgE2",
        "outputId": "a0a8868e-8e44-41c1-e011-b7f40a995547"
      },
      "execution_count": null,
      "outputs": [
        {
          "output_type": "execute_result",
          "data": {
            "text/plain": [
              "[888, 'Python', 'DL', 'AI', 'Data', 2024, 'ML']"
            ]
          },
          "metadata": {},
          "execution_count": 96
        }
      ]
    },
    {
      "cell_type": "code",
      "source": [
        "tuple_list_t6 = tuple(l6)\n",
        "tuple_list_t6"
      ],
      "metadata": {
        "colab": {
          "base_uri": "https://localhost:8080/"
        },
        "id": "AWcKnWEGKRyM",
        "outputId": "28e4a059-510d-4d1c-e6fd-d228481b0c43"
      },
      "execution_count": null,
      "outputs": [
        {
          "output_type": "execute_result",
          "data": {
            "text/plain": [
              "(888, 'Python', 'DL', 'AI', 'Data', 2024, 'ML')"
            ]
          },
          "metadata": {},
          "execution_count": 97
        }
      ]
    },
    {
      "cell_type": "code",
      "source": [
        "t4 = (5, 88, -20, 99, 30, 8.8, 0, 5)\n",
        "\n",
        "list_t4 = list(t4)\n",
        "list_t4"
      ],
      "metadata": {
        "id": "ZotxqToGKdK7",
        "colab": {
          "base_uri": "https://localhost:8080/"
        },
        "outputId": "2c08bdaa-a6fc-4979-90d9-d2631b7ad73f"
      },
      "execution_count": null,
      "outputs": [
        {
          "output_type": "execute_result",
          "data": {
            "text/plain": [
              "[5, 88, -20, 99, 30, 8.8, 0, 5]"
            ]
          },
          "metadata": {},
          "execution_count": 1
        }
      ]
    },
    {
      "cell_type": "code",
      "source": [
        "list_t4.sort()\n",
        "print(list_t4)"
      ],
      "metadata": {
        "colab": {
          "base_uri": "https://localhost:8080/"
        },
        "id": "gkGkwXPysfoU",
        "outputId": "904e011d-3a81-4f15-c281-0d93005ca742"
      },
      "execution_count": null,
      "outputs": [
        {
          "output_type": "stream",
          "name": "stdout",
          "text": [
            "[-20, 0, 5, 5, 8.8, 30, 88, 99]\n"
          ]
        }
      ]
    },
    {
      "cell_type": "code",
      "source": [
        "tuple_list_t4 = tuple(list_t4)\n",
        "tuple_list_t4"
      ],
      "metadata": {
        "colab": {
          "base_uri": "https://localhost:8080/"
        },
        "id": "ZcdIhavPs6zI",
        "outputId": "7e572923-e64e-494a-c141-79ebfa9b53a4"
      },
      "execution_count": null,
      "outputs": [
        {
          "output_type": "execute_result",
          "data": {
            "text/plain": [
              "(-20, 0, 5, 5, 8.8, 30, 88, 99)"
            ]
          },
          "metadata": {},
          "execution_count": 5
        }
      ]
    },
    {
      "cell_type": "markdown",
      "source": [
        "**Set**\n",
        "\n",
        "---\n",
        "\n"
      ],
      "metadata": {
        "id": "N53yK7oiBKIi"
      }
    },
    {
      "cell_type": "code",
      "source": [
        "s1 = {8.8, 'Data Science', 99, 2.2, 'Python'}\n",
        "type(s1)"
      ],
      "metadata": {
        "id": "-gMRgItEtyJh",
        "colab": {
          "base_uri": "https://localhost:8080/"
        },
        "outputId": "5052ec5d-9cfa-425c-d289-f5b84f89256e"
      },
      "execution_count": null,
      "outputs": [
        {
          "output_type": "execute_result",
          "data": {
            "text/plain": [
              "set"
            ]
          },
          "metadata": {},
          "execution_count": 1
        }
      ]
    },
    {
      "cell_type": "code",
      "source": [
        "print(s1)"
      ],
      "metadata": {
        "colab": {
          "base_uri": "https://localhost:8080/"
        },
        "id": "dVAe2McsBYPo",
        "outputId": "6b3de823-14d0-4b54-b82e-345bfc7d9f64"
      },
      "execution_count": null,
      "outputs": [
        {
          "output_type": "stream",
          "name": "stdout",
          "text": [
            "{'Python', 99, 2.2, 8.8, 'Data Science'}\n"
          ]
        }
      ]
    },
    {
      "cell_type": "code",
      "source": [
        "s2 = {20, -10, 0, 5, 99, -10, 20, 2.2, 88}\n",
        "print (s2)"
      ],
      "metadata": {
        "colab": {
          "base_uri": "https://localhost:8080/"
        },
        "id": "JGa_LXHiBbas",
        "outputId": "f19d78d7-40ad-48d9-f5e3-aadcdf8e2c62"
      },
      "execution_count": null,
      "outputs": [
        {
          "output_type": "stream",
          "name": "stdout",
          "text": [
            "{0, 2.2, 99, 20, 5, -10, 88}\n"
          ]
        }
      ]
    },
    {
      "cell_type": "code",
      "source": [
        "s2"
      ],
      "metadata": {
        "colab": {
          "base_uri": "https://localhost:8080/"
        },
        "id": "t8IPK9rkBypd",
        "outputId": "f9a24750-97a9-435e-c316-e57e22db0883"
      },
      "execution_count": null,
      "outputs": [
        {
          "output_type": "execute_result",
          "data": {
            "text/plain": [
              "{-10, 0, 2.2, 5, 20, 88, 99}"
            ]
          },
          "metadata": {},
          "execution_count": 5
        }
      ]
    },
    {
      "cell_type": "code",
      "source": [
        "#remove\n",
        "s2.remove(88)\n",
        "s2"
      ],
      "metadata": {
        "colab": {
          "base_uri": "https://localhost:8080/"
        },
        "id": "iqkNzoarFgbx",
        "outputId": "b53d5a97-ccbb-430a-f851-bedcdd9e0037"
      },
      "execution_count": null,
      "outputs": [
        {
          "output_type": "execute_result",
          "data": {
            "text/plain": [
              "{-10, 0, 2.2, 5, 20, 99}"
            ]
          },
          "metadata": {},
          "execution_count": 12
        }
      ]
    },
    {
      "cell_type": "code",
      "source": [
        "s3 = {'data', 'AI', 'ML', 'Python', 'big'}\n",
        "s3"
      ],
      "metadata": {
        "colab": {
          "base_uri": "https://localhost:8080/"
        },
        "id": "4CQdKvAUCBVY",
        "outputId": "2b02c29c-7980-4cfe-d7ab-257ca15aa32f"
      },
      "execution_count": null,
      "outputs": [
        {
          "output_type": "execute_result",
          "data": {
            "text/plain": [
              "{'AI', 'ML', 'Python', 'big', 'data'}"
            ]
          },
          "metadata": {},
          "execution_count": 6
        }
      ]
    },
    {
      "cell_type": "code",
      "source": [
        "print(s3)"
      ],
      "metadata": {
        "colab": {
          "base_uri": "https://localhost:8080/"
        },
        "id": "kDetK6R-C045",
        "outputId": "ceab6ce2-a4eb-473d-ae89-576c16483bbb"
      },
      "execution_count": null,
      "outputs": [
        {
          "output_type": "stream",
          "name": "stdout",
          "text": [
            "{'ML', 'Python', 'big', 'data', 'AI'}\n"
          ]
        }
      ]
    },
    {
      "cell_type": "code",
      "source": [
        "s4 = {'data', 'aI', 'ml', 'python', 'big'}\n",
        "s4"
      ],
      "metadata": {
        "colab": {
          "base_uri": "https://localhost:8080/"
        },
        "id": "B3iJUI5kC7FS",
        "outputId": "5a84e720-d05a-4ae6-dc2e-43baf4639129"
      },
      "execution_count": null,
      "outputs": [
        {
          "output_type": "execute_result",
          "data": {
            "text/plain": [
              "{'aI', 'big', 'data', 'ml', 'python'}"
            ]
          },
          "metadata": {},
          "execution_count": 8
        }
      ]
    },
    {
      "cell_type": "code",
      "source": [
        "#add\n",
        "s4.add('deep learning')\n",
        "s"
      ],
      "metadata": {
        "colab": {
          "base_uri": "https://localhost:8080/"
        },
        "id": "n9jOg371DQpi",
        "outputId": "5cf1534f-6e75-4657-ba0c-d3ca6f886b03"
      },
      "execution_count": null,
      "outputs": [
        {
          "output_type": "execute_result",
          "data": {
            "text/plain": [
              "{'aI', 'big', 'data', 'deep learning', 'ml', 'python'}"
            ]
          },
          "metadata": {},
          "execution_count": 11
        }
      ]
    },
    {
      "cell_type": "code",
      "source": [
        "#intersection\n",
        "\n",
        "set_a = {1,3,5,7,8,9,10,11,12,13,14} #actualresult\n",
        "set_b = {1,2,3,4,5,6,7,8,9,10,11} #predictedresult; should be the same as set a\n",
        "\n",
        "set_a.intersection(set_b)"
      ],
      "metadata": {
        "colab": {
          "base_uri": "https://localhost:8080/"
        },
        "id": "Fx8QHkRoEvSs",
        "outputId": "d1cac05b-ca2f-4c0c-d825-fa182d434e91"
      },
      "execution_count": null,
      "outputs": [
        {
          "output_type": "execute_result",
          "data": {
            "text/plain": [
              "{1, 3, 5, 7, 8, 9, 10, 11}"
            ]
          },
          "metadata": {},
          "execution_count": 14
        }
      ]
    },
    {
      "cell_type": "code",
      "source": [
        "#union\n",
        "\n",
        "set_a.union(set_b)"
      ],
      "metadata": {
        "colab": {
          "base_uri": "https://localhost:8080/"
        },
        "id": "2lFIEuSeGvR3",
        "outputId": "d6062af5-c947-405a-b939-3dac0a23e1bd"
      },
      "execution_count": null,
      "outputs": [
        {
          "output_type": "execute_result",
          "data": {
            "text/plain": [
              "{1, 2, 3, 4, 5, 6, 7, 8, 9, 10, 11, 12, 13, 14}"
            ]
          },
          "metadata": {},
          "execution_count": 15
        }
      ]
    },
    {
      "cell_type": "code",
      "source": [
        "list_a = [1,2,3,4,1,2,5]\n",
        "\n",
        "set_list_a = set(list_a)\n",
        "set_list_a"
      ],
      "metadata": {
        "colab": {
          "base_uri": "https://localhost:8080/"
        },
        "id": "Ud-cKUHBH0w6",
        "outputId": "2d1138d5-42d3-40f8-d3d6-d11b9de16bb3"
      },
      "execution_count": null,
      "outputs": [
        {
          "output_type": "execute_result",
          "data": {
            "text/plain": [
              "{1, 2, 3, 4, 5}"
            ]
          },
          "metadata": {},
          "execution_count": 18
        }
      ]
    },
    {
      "cell_type": "code",
      "source": [
        "#write a code to find the highest value in a list of numbers by using sets only\n",
        "\n",
        "list_b = [100, -99, 101, 88, 55.6, 0]\n",
        "set_list_b = set(list_b)\n",
        "set_list_b"
      ],
      "metadata": {
        "colab": {
          "base_uri": "https://localhost:8080/"
        },
        "id": "1DSyx2mUIc6s",
        "outputId": "33950a01-1ab4-40f9-b2fb-f031621321cc"
      },
      "execution_count": null,
      "outputs": [
        {
          "output_type": "execute_result",
          "data": {
            "text/plain": [
              "{-99, 0, 55.6, 88, 100, 101}"
            ]
          },
          "metadata": {},
          "execution_count": 19
        }
      ]
    },
    {
      "cell_type": "code",
      "source": [
        "print(max(set_list_b))"
      ],
      "metadata": {
        "colab": {
          "base_uri": "https://localhost:8080/"
        },
        "id": "Bbf2zIzhJ37H",
        "outputId": "d7f10e56-fe2d-4d97-aacf-f5faf7178252"
      },
      "execution_count": null,
      "outputs": [
        {
          "output_type": "stream",
          "name": "stdout",
          "text": [
            "101\n"
          ]
        }
      ]
    },
    {
      "cell_type": "code",
      "source": [
        "#difference\n",
        "\n",
        "set_a.difference(set_b)"
      ],
      "metadata": {
        "colab": {
          "base_uri": "https://localhost:8080/"
        },
        "id": "ByvOzk6aMjTK",
        "outputId": "c595cd06-1d1f-4346-ed65-52e9e780de5d"
      },
      "execution_count": null,
      "outputs": [
        {
          "output_type": "execute_result",
          "data": {
            "text/plain": [
              "{12, 13, 14}"
            ]
          },
          "metadata": {},
          "execution_count": 25
        }
      ]
    },
    {
      "cell_type": "code",
      "source": [
        "set_b.difference(set_a)"
      ],
      "metadata": {
        "colab": {
          "base_uri": "https://localhost:8080/"
        },
        "id": "Jy8pMStTMobz",
        "outputId": "1f4a8788-dea9-4383-f8b6-e7c5fd32c240"
      },
      "execution_count": null,
      "outputs": [
        {
          "output_type": "execute_result",
          "data": {
            "text/plain": [
              "{2, 4, 6}"
            ]
          },
          "metadata": {},
          "execution_count": 26
        }
      ]
    },
    {
      "cell_type": "markdown",
      "source": [
        "**Dictionary**\n",
        "\n",
        "---\n",
        "\n",
        "\n",
        "\n",
        "*   Each item has a key and a value\n",
        "*   Key : value\n",
        "*   Dictionary: {key1:value1:, key2:value2, ... keyn:valuen}\n",
        "\n"
      ],
      "metadata": {
        "id": "4c_9K-8TOPaE"
      }
    },
    {
      "cell_type": "code",
      "source": [
        "d1 = {'AI':99, 8.8:['ML', 'DL'], (1,2,3):['Big Data']}\n",
        "d1"
      ],
      "metadata": {
        "colab": {
          "base_uri": "https://localhost:8080/"
        },
        "id": "x00zLu50OTpC",
        "outputId": "7a94cde8-4734-48a0-db1c-9cc3ad22407e"
      },
      "execution_count": null,
      "outputs": [
        {
          "output_type": "execute_result",
          "data": {
            "text/plain": [
              "{'AI': 99, 8.8: ['ML', 'DL'], (1, 2, 3): ['Big Data']}"
            ]
          },
          "metadata": {},
          "execution_count": 27
        }
      ]
    },
    {
      "cell_type": "code",
      "source": [
        "type(d1)"
      ],
      "metadata": {
        "colab": {
          "base_uri": "https://localhost:8080/"
        },
        "id": "95nxkBEVPb2K",
        "outputId": "81e6e6b1-4bb1-40a0-b4d0-fb0a0699f0fe"
      },
      "execution_count": null,
      "outputs": [
        {
          "output_type": "execute_result",
          "data": {
            "text/plain": [
              "dict"
            ]
          },
          "metadata": {},
          "execution_count": 28
        }
      ]
    },
    {
      "cell_type": "code",
      "source": [
        "d1['AI']"
      ],
      "metadata": {
        "colab": {
          "base_uri": "https://localhost:8080/"
        },
        "id": "Npp9_k2-PiLl",
        "outputId": "252f115c-2d96-4346-b6f7-78465bfd1227"
      },
      "execution_count": null,
      "outputs": [
        {
          "output_type": "execute_result",
          "data": {
            "text/plain": [
              "99"
            ]
          },
          "metadata": {},
          "execution_count": 29
        }
      ]
    },
    {
      "cell_type": "code",
      "source": [
        "d1.keys()"
      ],
      "metadata": {
        "colab": {
          "base_uri": "https://localhost:8080/"
        },
        "id": "_5gmTid8QiP0",
        "outputId": "12137edb-93c3-48e0-fb78-9f783d955901"
      },
      "execution_count": null,
      "outputs": [
        {
          "output_type": "execute_result",
          "data": {
            "text/plain": [
              "dict_keys(['AI', 8.8, (1, 2, 3)])"
            ]
          },
          "metadata": {},
          "execution_count": 30
        }
      ]
    },
    {
      "cell_type": "code",
      "source": [
        "d1.values()"
      ],
      "metadata": {
        "colab": {
          "base_uri": "https://localhost:8080/"
        },
        "id": "HqNWK1FxQnTY",
        "outputId": "1312d3b9-2c51-4edb-c416-744e4598bee5"
      },
      "execution_count": null,
      "outputs": [
        {
          "output_type": "execute_result",
          "data": {
            "text/plain": [
              "dict_values([99, ['ML', 'DL'], ['Big Data']])"
            ]
          },
          "metadata": {},
          "execution_count": 31
        }
      ]
    },
    {
      "cell_type": "code",
      "source": [
        "d1"
      ],
      "metadata": {
        "colab": {
          "base_uri": "https://localhost:8080/"
        },
        "id": "gn19q5cwQspp",
        "outputId": "2b08b524-8b47-47e7-823f-fcaca836b018"
      },
      "execution_count": null,
      "outputs": [
        {
          "output_type": "execute_result",
          "data": {
            "text/plain": [
              "{'AI': 99, 8.8: ['ML', 'DL'], (1, 2, 3): ['Big Data']}"
            ]
          },
          "metadata": {},
          "execution_count": 32
        }
      ]
    },
    {
      "cell_type": "code",
      "source": [
        "d1['AI'] = -10\n",
        "d1"
      ],
      "metadata": {
        "colab": {
          "base_uri": "https://localhost:8080/"
        },
        "id": "mp8YcZyIRPZ9",
        "outputId": "16319a81-7bf6-42e0-f3e7-f8bc2eebc7a0"
      },
      "execution_count": null,
      "outputs": [
        {
          "output_type": "execute_result",
          "data": {
            "text/plain": [
              "{'AI': -10, 8.8: ['ML', 'DL'], (1, 2, 3): ['Big Data']}"
            ]
          },
          "metadata": {},
          "execution_count": 33
        }
      ]
    },
    {
      "cell_type": "code",
      "source": [
        "d1.pop((1,2,3))\n",
        "d1"
      ],
      "metadata": {
        "colab": {
          "base_uri": "https://localhost:8080/"
        },
        "id": "EaxXscQtRVPc",
        "outputId": "73da93fe-868e-4981-9a12-285d296848aa"
      },
      "execution_count": null,
      "outputs": [
        {
          "output_type": "execute_result",
          "data": {
            "text/plain": [
              "{'AI': -10, 8.8: ['ML', 'DL']}"
            ]
          },
          "metadata": {},
          "execution_count": 34
        }
      ]
    },
    {
      "cell_type": "code",
      "source": [
        "d2 = {[1,2]:99, (100,200):['abid']}\n",
        "d2"
      ],
      "metadata": {
        "colab": {
          "base_uri": "https://localhost:8080/",
          "height": 165
        },
        "id": "ciwyx8hlRtgn",
        "outputId": "cd7fdcf4-e8e7-4ad7-eaaa-230ca37b0456"
      },
      "execution_count": null,
      "outputs": [
        {
          "output_type": "error",
          "ename": "TypeError",
          "evalue": "unhashable type: 'list'",
          "traceback": [
            "\u001b[0;31m---------------------------------------------------------------------------\u001b[0m",
            "\u001b[0;31mTypeError\u001b[0m                                 Traceback (most recent call last)",
            "\u001b[0;32m<ipython-input-36-626c2201f90c>\u001b[0m in \u001b[0;36m<cell line: 1>\u001b[0;34m()\u001b[0m\n\u001b[0;32m----> 1\u001b[0;31m \u001b[0md2\u001b[0m \u001b[0;34m=\u001b[0m \u001b[0;34m{\u001b[0m\u001b[0;34m[\u001b[0m\u001b[0;36m1\u001b[0m\u001b[0;34m,\u001b[0m\u001b[0;36m2\u001b[0m\u001b[0;34m]\u001b[0m\u001b[0;34m:\u001b[0m\u001b[0;36m99\u001b[0m\u001b[0;34m,\u001b[0m \u001b[0;34m(\u001b[0m\u001b[0;36m100\u001b[0m\u001b[0;34m,\u001b[0m\u001b[0;36m200\u001b[0m\u001b[0;34m)\u001b[0m\u001b[0;34m:\u001b[0m\u001b[0;34m[\u001b[0m\u001b[0;34m'abid'\u001b[0m\u001b[0;34m]\u001b[0m\u001b[0;34m}\u001b[0m\u001b[0;34m\u001b[0m\u001b[0;34m\u001b[0m\u001b[0m\n\u001b[0m\u001b[1;32m      2\u001b[0m \u001b[0md2\u001b[0m\u001b[0;34m\u001b[0m\u001b[0;34m\u001b[0m\u001b[0m\n",
            "\u001b[0;31mTypeError\u001b[0m: unhashable type: 'list'"
          ]
        }
      ]
    },
    {
      "cell_type": "markdown",
      "source": [
        "**Error!**\n",
        "\n",
        "* This typically happens when you try to use a list as a dictionary key. Dictionary keys in Python must be hashable, meaning they need to have a constant hash value throughout their lifetime. Lists, being mutable (changeable), don't meet this requirement.\n",
        "\n",
        "* a list [1, 2] as a key in your dictionary d2. As mentioned earlier, lists are mutable and therefore unhashable, which means they cannot be used as dictionary keys\n",
        "\n",
        "\n",
        "* By changing the square brackets [] to parentheses (), you create a tuple instead of a list. Tuples are immutable and hashable, making them perfectly valid as dictionary keys."
      ],
      "metadata": {
        "id": "diOiyeifC63F"
      }
    },
    {
      "cell_type": "code",
      "source": [
        "d3 = {(1,2):99, (100,200):['abid']}\n",
        "d3"
      ],
      "metadata": {
        "colab": {
          "base_uri": "https://localhost:8080/"
        },
        "id": "X6AiebGtSJm0",
        "outputId": "0ef091de-cc32-46f0-e947-a8fc7f050703"
      },
      "execution_count": null,
      "outputs": [
        {
          "output_type": "execute_result",
          "data": {
            "text/plain": [
              "{(1, 2): 99, (100, 200): ['abid']}"
            ]
          },
          "metadata": {},
          "execution_count": 37
        }
      ]
    }
  ]
}