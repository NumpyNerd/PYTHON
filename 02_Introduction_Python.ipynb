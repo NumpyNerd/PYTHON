{
  "nbformat": 4,
  "nbformat_minor": 0,
  "metadata": {
    "colab": {
      "provenance": []
    },
    "kernelspec": {
      "name": "python3",
      "display_name": "Python 3"
    },
    "language_info": {
      "name": "python"
    }
  },
  "cells": [
    {
      "cell_type": "markdown",
      "source": [
        "# **Indexing and Data Structure**\n",
        "\n",
        "---\n",
        "\n",
        "\n",
        "* Part 4:\n",
        "  * 4. 1 Indexing\n",
        "    * String Indexing\n",
        "    * Slicing\n",
        "    * Concatenating\n",
        "\n",
        "\n",
        "* Part 5: Data Structure\n",
        "  * 5.1 List\n",
        "  * 5.2 Extend Function\n",
        "  * 5.3 Append Function\n",
        "  * 5.4 Deleting Items\n",
        "  * 5.5 Count Funtion\n",
        "  * 5.6 Remove Function\n",
        "  * 5.7 Insert Function\n",
        "  * 5.8 Reverse Function\n",
        "\n",
        "\n",
        "* Part 6: Tuple\n",
        "  * 6.1 Comparison Between List And Tuple\n",
        "  * 6.2 Sort Function In Tuple\n",
        "  * 6.3 Convert Tuple Into A List\n",
        "\n",
        "\n",
        "* Part 7: Set\n",
        "  * 7.1 Defining A Set\n",
        "  * 7.2 Set Removes Duplicates\n",
        "  * 7.3 Uppercase and lowercase in Set\n",
        "  * 7.4 Add Function in A Set\n",
        "  * 7.5 Remove Function in A Set\n",
        "  * 7.6 Intersection in A Set\n",
        "  * 7.7 Union Function in A Set\n",
        "  * 7.8 Converting A Set Into A list\n",
        "  * 7.9 Difference Function in A Set\n",
        "\n",
        "\n",
        "* Part 8: Dictionary\n",
        "  * 8.1 Defining The Dictionary\n",
        "  * 8.2 Finding Value of The Key\n",
        "  * 8.3 Finding The Key Name\n",
        "  * 8.4 Updating Value of A Key\n",
        "  * 8.5 Delete Function In Dictionary\n",
        "  * 8.6 Key is Unique\n",
        "\n",
        "\n",
        "* Part 9: Statement\n",
        "  * 9.1 if statement, elif statement, else\n",
        "  * 9.2 Loop\n",
        "  * 9.3 While Loop\n"
      ],
      "metadata": {
        "id": "TXcf-ycu9auo"
      }
    },
    {
      "cell_type": "markdown",
      "source": [
        "**String Indexing**\n",
        "\n",
        "---\n",
        "\n"
      ],
      "metadata": {
        "id": "3AA5i1V4ULuG"
      }
    },
    {
      "cell_type": "markdown",
      "source": [
        "* Indexing in Python refers to the process of accessing specific elements within a sequence, such as a string, list, or tuple, using their positions or indices."
      ],
      "metadata": {
        "id": "qiai6U7S9nn2"
      }
    },
    {
      "cell_type": "markdown",
      "source": [
        "singer = 'Michael Jackson'\n",
        "singer"
      ],
      "metadata": {
        "id": "Z02NdTOF-dIi"
      }
    },
    {
      "cell_type": "code",
      "source": [
        "type(singer)"
      ],
      "metadata": {
        "colab": {
          "base_uri": "https://localhost:8080/"
        },
        "id": "HDAEVgG0i9TI",
        "outputId": "a69acf93-3e7f-4813-932d-5ef545833e46"
      },
      "execution_count": null,
      "outputs": [
        {
          "output_type": "execute_result",
          "data": {
            "text/plain": [
              "str"
            ]
          },
          "metadata": {},
          "execution_count": 4
        }
      ]
    },
    {
      "cell_type": "code",
      "source": [
        "print(singer)\n",
        "print(singer[2])\n",
        "print(singer[5])\n",
        "print(singer[10])\n",
        "print(singer[13])"
      ],
      "metadata": {
        "colab": {
          "base_uri": "https://localhost:8080/"
        },
        "id": "uFWt31FAjCtB",
        "outputId": "dbc65ec2-c900-416f-a3ea-02017ca61144"
      },
      "execution_count": null,
      "outputs": [
        {
          "output_type": "stream",
          "name": "stdout",
          "text": [
            "Michael Jackson\n",
            "c\n",
            "e\n",
            "c\n",
            "o\n"
          ]
        }
      ]
    },
    {
      "cell_type": "markdown",
      "source": [
        "<img src=\"https://s3-api.us-geo.objectstorage.softlayer.net/cf-courses-data/CognitiveClass/PY0101EN/Chapter%201/Images/StringsIndex.png\" width=\"600\" align=\"center\" />"
      ],
      "metadata": {
        "id": "yFYeNR9_kUwg"
      }
    },
    {
      "cell_type": "markdown",
      "source": [
        "<img src=\"https://s3-api.us-geo.objectstorage.softlayer.net/cf-courses-data/CognitiveClass/PY0101EN/Chapter%201/Images/StringsNeg.png\" width=\"600\" align=\"center\" />"
      ],
      "metadata": {
        "id": "a63uJbbukeG3"
      }
    },
    {
      "cell_type": "code",
      "source": [
        "print(singer[-13])\n",
        "print(singer[-10])\n",
        "print(singer[-2])"
      ],
      "metadata": {
        "colab": {
          "base_uri": "https://localhost:8080/"
        },
        "id": "UbBL4xHskSM9",
        "outputId": "313c4a14-4237-472b-d484-d5d8534cf5ec"
      },
      "execution_count": null,
      "outputs": [
        {
          "output_type": "stream",
          "name": "stdout",
          "text": [
            "c\n",
            "e\n",
            "o\n"
          ]
        }
      ]
    },
    {
      "cell_type": "code",
      "source": [
        "anystring = singer"
      ],
      "metadata": {
        "id": "aprut1CK_v3U"
      },
      "execution_count": null,
      "outputs": []
    },
    {
      "cell_type": "code",
      "source": [
        "# print the last, second last, and the first and the second of any string\n",
        "\n",
        "#first\n",
        "print(anystring[0])\n",
        "#second\n",
        "print(anystring[1])\n",
        "#last\n",
        "print(anystring[-1])\n",
        "#second last\n",
        "print(anystring[-2])"
      ],
      "metadata": {
        "colab": {
          "base_uri": "https://localhost:8080/"
        },
        "id": "R8Hv0Lazl8G5",
        "outputId": "91018657-124b-4c18-f653-2dbbffd9827b"
      },
      "execution_count": null,
      "outputs": [
        {
          "output_type": "stream",
          "name": "stdout",
          "text": [
            "M\n",
            "i\n",
            "n\n",
            "o\n"
          ]
        }
      ]
    },
    {
      "cell_type": "markdown",
      "source": [
        "**Slicing**\n",
        "\n",
        "---\n",
        "\n"
      ],
      "metadata": {
        "id": "zziWLRJONd11"
      }
    },
    {
      "cell_type": "markdown",
      "source": [
        "**Index Slicing**"
      ],
      "metadata": {
        "id": "j2v5BR6xmzMc"
      }
    },
    {
      "cell_type": "markdown",
      "source": [
        "print(anystring[index to start from : index to stop at])\n",
        "\n",
        "<img src=\"https://s3-api.us-geo.objectstorage.softlayer.net/cf-courses-data/CognitiveClass/PY0101EN/Chapter%201/Images/StringsIndex.png\" width=\"600\" align=\"center\" />"
      ],
      "metadata": {
        "id": "pU2ZjwzHnbO8"
      }
    },
    {
      "cell_type": "code",
      "source": [
        "print (singer[0:6])"
      ],
      "metadata": {
        "colab": {
          "base_uri": "https://localhost:8080/"
        },
        "id": "qS97VwNEoT89",
        "outputId": "08d8d660-0d89-4fee-a2b8-72012107b4e7"
      },
      "execution_count": null,
      "outputs": [
        {
          "output_type": "stream",
          "name": "stdout",
          "text": [
            "Michae\n"
          ]
        }
      ]
    },
    {
      "cell_type": "code",
      "source": [
        "print (singer[0:7])"
      ],
      "metadata": {
        "colab": {
          "base_uri": "https://localhost:8080/"
        },
        "id": "_czVEvF3otPV",
        "outputId": "544f8d0d-eeef-45be-d9c5-50c488a8cb8e"
      },
      "execution_count": null,
      "outputs": [
        {
          "output_type": "stream",
          "name": "stdout",
          "text": [
            "Michael\n"
          ]
        }
      ]
    },
    {
      "cell_type": "markdown",
      "source": [
        "**printing Jackson**"
      ],
      "metadata": {
        "id": "cz7klfVho2Iv"
      }
    },
    {
      "cell_type": "code",
      "source": [
        "print(singer[8:])"
      ],
      "metadata": {
        "colab": {
          "base_uri": "https://localhost:8080/"
        },
        "id": "JDB97_rXssCs",
        "outputId": "86ab95cc-a6c1-4606-df86-94cb07d14c90"
      },
      "execution_count": null,
      "outputs": [
        {
          "output_type": "stream",
          "name": "stdout",
          "text": [
            "Jackson\n"
          ]
        }
      ]
    },
    {
      "cell_type": "code",
      "source": [
        "print(singer[7:])"
      ],
      "metadata": {
        "colab": {
          "base_uri": "https://localhost:8080/"
        },
        "id": "rJFB45XRo0ZX",
        "outputId": "59841567-b2bd-429d-df06-0b2a47e7871e"
      },
      "execution_count": null,
      "outputs": [
        {
          "output_type": "stream",
          "name": "stdout",
          "text": [
            " Jackson\n"
          ]
        }
      ]
    },
    {
      "cell_type": "code",
      "source": [
        "print(singer[-7:])"
      ],
      "metadata": {
        "colab": {
          "base_uri": "https://localhost:8080/"
        },
        "id": "75Ze_ntmpEBF",
        "outputId": "9c8bd231-1cd9-4d50-fc8f-31ec0a039c35"
      },
      "execution_count": null,
      "outputs": [
        {
          "output_type": "stream",
          "name": "stdout",
          "text": [
            "Jackson\n"
          ]
        }
      ]
    },
    {
      "cell_type": "code",
      "source": [
        "print(singer[-7:15])"
      ],
      "metadata": {
        "colab": {
          "base_uri": "https://localhost:8080/"
        },
        "id": "uFsVe8l6pfmF",
        "outputId": "646fe4f8-e3bb-421d-931a-e9fbf5ea30da"
      },
      "execution_count": null,
      "outputs": [
        {
          "output_type": "stream",
          "name": "stdout",
          "text": [
            "Jackson\n"
          ]
        }
      ]
    },
    {
      "cell_type": "code",
      "source": [
        "print(singer[-7:14])"
      ],
      "metadata": {
        "colab": {
          "base_uri": "https://localhost:8080/"
        },
        "id": "soHw2MeBp2Q1",
        "outputId": "ef4cb545-db9f-480a-a048-ff9e9bbb56be"
      },
      "execution_count": null,
      "outputs": [
        {
          "output_type": "stream",
          "name": "stdout",
          "text": [
            "Jackso\n"
          ]
        }
      ]
    },
    {
      "cell_type": "markdown",
      "source": [
        "<img src=\"https://s3-api.us-geo.objectstorage.softlayer.net/cf-courses-data/CognitiveClass/PY0101EN/Chapter%201/Images/StringsIndex.png\" width=\"600\" align=\"center\" />"
      ],
      "metadata": {
        "id": "mXHnJjg6qVQ3"
      }
    },
    {
      "cell_type": "code",
      "source": [
        "print (singer[:7:2])"
      ],
      "metadata": {
        "colab": {
          "base_uri": "https://localhost:8080/"
        },
        "id": "Y8C826fdp84x",
        "outputId": "c4edd59c-1ce7-44d2-8f39-a5f1ec6b3bfb"
      },
      "execution_count": null,
      "outputs": [
        {
          "output_type": "stream",
          "name": "stdout",
          "text": [
            "Mcal\n"
          ]
        }
      ]
    },
    {
      "cell_type": "code",
      "source": [
        "print (singer[:7:3])"
      ],
      "metadata": {
        "colab": {
          "base_uri": "https://localhost:8080/"
        },
        "id": "pCLMGbVPq2Pi",
        "outputId": "19e78103-d4a7-46ed-8681-02bf9b6672f1"
      },
      "execution_count": null,
      "outputs": [
        {
          "output_type": "stream",
          "name": "stdout",
          "text": [
            "Mhl\n"
          ]
        }
      ]
    },
    {
      "cell_type": "code",
      "source": [
        "print(singer[7:15:3])"
      ],
      "metadata": {
        "colab": {
          "base_uri": "https://localhost:8080/"
        },
        "id": "MCrx761Sq9f3",
        "outputId": "86edcad0-f933-481b-9cfe-ee1f11ae0f7e"
      },
      "execution_count": null,
      "outputs": [
        {
          "output_type": "stream",
          "name": "stdout",
          "text": [
            " co\n"
          ]
        }
      ]
    },
    {
      "cell_type": "code",
      "source": [
        "print(singer[8:15:3])"
      ],
      "metadata": {
        "colab": {
          "base_uri": "https://localhost:8080/"
        },
        "id": "rzPTQ0-IrbTI",
        "outputId": "7372bcb5-3359-4e86-99e6-b679ae76abac"
      },
      "execution_count": null,
      "outputs": [
        {
          "output_type": "stream",
          "name": "stdout",
          "text": [
            "Jkn\n"
          ]
        }
      ]
    },
    {
      "cell_type": "markdown",
      "source": [
        "**Concatenating**\n",
        "\n",
        "---\n",
        "\n"
      ],
      "metadata": {
        "id": "kDAGTSK1Nir5"
      }
    },
    {
      "cell_type": "markdown",
      "source": [
        "**Concatenating Strings**"
      ],
      "metadata": {
        "id": "FLE4PUeSrxuk"
      }
    },
    {
      "cell_type": "code",
      "source": [
        "str1 = 'Big'\n",
        "str2 = 'Data'\n",
        "\n",
        "str3 = str1 + str2\n",
        "str3"
      ],
      "metadata": {
        "colab": {
          "base_uri": "https://localhost:8080/",
          "height": 36
        },
        "id": "cB2Aa3LhrjN4",
        "outputId": "a67bdb29-83b9-46aa-a0b2-f182ab2c79ea"
      },
      "execution_count": null,
      "outputs": [
        {
          "output_type": "execute_result",
          "data": {
            "text/plain": [
              "'BigData'"
            ],
            "application/vnd.google.colaboratory.intrinsic+json": {
              "type": "string"
            }
          },
          "metadata": {},
          "execution_count": 23
        }
      ]
    },
    {
      "cell_type": "code",
      "source": [
        "str4 = str2 + str1\n",
        "str4"
      ],
      "metadata": {
        "colab": {
          "base_uri": "https://localhost:8080/",
          "height": 36
        },
        "id": "ruqBpLZHsOXO",
        "outputId": "36c0fcac-51af-4333-a223-ae14fbd7fbc1"
      },
      "execution_count": null,
      "outputs": [
        {
          "output_type": "execute_result",
          "data": {
            "text/plain": [
              "'DataBig'"
            ],
            "application/vnd.google.colaboratory.intrinsic+json": {
              "type": "string"
            }
          },
          "metadata": {},
          "execution_count": 25
        }
      ]
    },
    {
      "cell_type": "code",
      "source": [
        "str3 = str1 + ' ' + str2\n",
        "str3"
      ],
      "metadata": {
        "colab": {
          "base_uri": "https://localhost:8080/",
          "height": 36
        },
        "id": "LUEMHE-Es49u",
        "outputId": "7cd21e34-ac19-43af-a48f-2ecb3fbc8d3b"
      },
      "execution_count": null,
      "outputs": [
        {
          "output_type": "execute_result",
          "data": {
            "text/plain": [
              "'Big Data'"
            ],
            "application/vnd.google.colaboratory.intrinsic+json": {
              "type": "string"
            }
          },
          "metadata": {},
          "execution_count": 26
        }
      ]
    },
    {
      "cell_type": "code",
      "source": [
        "str1 = 'Big'\n",
        "str2 = ' Data'\n",
        "\n",
        "str3 = str1 + str2\n",
        "str3"
      ],
      "metadata": {
        "colab": {
          "base_uri": "https://localhost:8080/",
          "height": 36
        },
        "id": "bY-AYWEytJIO",
        "outputId": "96fdbed9-0381-49a9-9587-59ac529f871c"
      },
      "execution_count": null,
      "outputs": [
        {
          "output_type": "execute_result",
          "data": {
            "text/plain": [
              "'Big Data'"
            ],
            "application/vnd.google.colaboratory.intrinsic+json": {
              "type": "string"
            }
          },
          "metadata": {},
          "execution_count": 27
        }
      ]
    },
    {
      "cell_type": "code",
      "source": [
        "str5 = str1 + 2024\n",
        "str5"
      ],
      "metadata": {
        "colab": {
          "base_uri": "https://localhost:8080/",
          "height": 165
        },
        "id": "Zmx_99-StXw5",
        "outputId": "c1d5baea-e8e4-42fe-c029-8e86f0ccd111"
      },
      "execution_count": null,
      "outputs": [
        {
          "output_type": "error",
          "ename": "TypeError",
          "evalue": "can only concatenate str (not \"int\") to str",
          "traceback": [
            "\u001b[0;31m---------------------------------------------------------------------------\u001b[0m",
            "\u001b[0;31mTypeError\u001b[0m                                 Traceback (most recent call last)",
            "\u001b[0;32m<ipython-input-28-91e52b5fd67a>\u001b[0m in \u001b[0;36m<cell line: 1>\u001b[0;34m()\u001b[0m\n\u001b[0;32m----> 1\u001b[0;31m \u001b[0mstr5\u001b[0m \u001b[0;34m=\u001b[0m \u001b[0mstr1\u001b[0m \u001b[0;34m+\u001b[0m \u001b[0;36m2024\u001b[0m\u001b[0;34m\u001b[0m\u001b[0;34m\u001b[0m\u001b[0m\n\u001b[0m\u001b[1;32m      2\u001b[0m \u001b[0mstr5\u001b[0m\u001b[0;34m\u001b[0m\u001b[0;34m\u001b[0m\u001b[0m\n",
            "\u001b[0;31mTypeError\u001b[0m: can only concatenate str (not \"int\") to str"
          ]
        }
      ]
    },
    {
      "cell_type": "markdown",
      "source": [
        "**Error!**\n",
        "\n",
        "* As you can see, there an error when we want to concatenate string and integer, because it not the same data types"
      ],
      "metadata": {
        "id": "Tb068l6u_-pS"
      }
    },
    {
      "cell_type": "code",
      "source": [
        "str5 = str1 + '2024'\n",
        "str5"
      ],
      "metadata": {
        "colab": {
          "base_uri": "https://localhost:8080/",
          "height": 36
        },
        "id": "J9JR-2s5thpL",
        "outputId": "99fd18f0-487d-48db-d102-1c5ea73f8b4e"
      },
      "execution_count": null,
      "outputs": [
        {
          "output_type": "execute_result",
          "data": {
            "text/plain": [
              "'Big2024'"
            ],
            "application/vnd.google.colaboratory.intrinsic+json": {
              "type": "string"
            }
          },
          "metadata": {},
          "execution_count": 29
        }
      ]
    },
    {
      "cell_type": "code",
      "source": [
        "str5 = str1 + ' 2024'\n",
        "str5"
      ],
      "metadata": {
        "colab": {
          "base_uri": "https://localhost:8080/",
          "height": 36
        },
        "id": "r-gy9_hVtx1E",
        "outputId": "a0055b95-ae4e-46b5-e722-6f637c7f0f37"
      },
      "execution_count": null,
      "outputs": [
        {
          "output_type": "execute_result",
          "data": {
            "text/plain": [
              "'Big 2024'"
            ],
            "application/vnd.google.colaboratory.intrinsic+json": {
              "type": "string"
            }
          },
          "metadata": {},
          "execution_count": 30
        }
      ]
    },
    {
      "cell_type": "code",
      "source": [
        "str6 = '2024'\n",
        "str6"
      ],
      "metadata": {
        "colab": {
          "base_uri": "https://localhost:8080/",
          "height": 36
        },
        "id": "M4UdRXZAuA0X",
        "outputId": "6e1de21c-68d1-4733-efc0-595200e1f6f8"
      },
      "execution_count": null,
      "outputs": [
        {
          "output_type": "execute_result",
          "data": {
            "text/plain": [
              "'2024'"
            ],
            "application/vnd.google.colaboratory.intrinsic+json": {
              "type": "string"
            }
          },
          "metadata": {},
          "execution_count": 31
        }
      ]
    },
    {
      "cell_type": "code",
      "source": [
        "type(str6)"
      ],
      "metadata": {
        "colab": {
          "base_uri": "https://localhost:8080/"
        },
        "id": "IzycbnVpuH9b",
        "outputId": "814bcc05-d176-4300-d701-5727935f90a6"
      },
      "execution_count": null,
      "outputs": [
        {
          "output_type": "execute_result",
          "data": {
            "text/plain": [
              "str"
            ]
          },
          "metadata": {},
          "execution_count": 33
        }
      ]
    },
    {
      "cell_type": "code",
      "source": [
        "str7 = int('2024')\n",
        "str7"
      ],
      "metadata": {
        "colab": {
          "base_uri": "https://localhost:8080/"
        },
        "id": "qgvZCD6XuOUt",
        "outputId": "e76ff4cd-1350-4367-b7aa-195a1225ffc4"
      },
      "execution_count": null,
      "outputs": [
        {
          "output_type": "execute_result",
          "data": {
            "text/plain": [
              "2024"
            ]
          },
          "metadata": {},
          "execution_count": 35
        }
      ]
    },
    {
      "cell_type": "code",
      "source": [
        "str9 = str(2.2)\n",
        "str9"
      ],
      "metadata": {
        "colab": {
          "base_uri": "https://localhost:8080/",
          "height": 36
        },
        "id": "PCT_aX8LuYhe",
        "outputId": "74ad692c-c0db-4d1b-ff4b-2633d660f533"
      },
      "execution_count": null,
      "outputs": [
        {
          "output_type": "execute_result",
          "data": {
            "text/plain": [
              "'2.2'"
            ],
            "application/vnd.google.colaboratory.intrinsic+json": {
              "type": "string"
            }
          },
          "metadata": {},
          "execution_count": 36
        }
      ]
    },
    {
      "cell_type": "code",
      "source": [
        "str8 = str1 + str9\n",
        "str8"
      ],
      "metadata": {
        "colab": {
          "base_uri": "https://localhost:8080/",
          "height": 36
        },
        "id": "ohCBmx0EvBtU",
        "outputId": "91312537-018f-4744-c7f1-449ca1d23ee3"
      },
      "execution_count": null,
      "outputs": [
        {
          "output_type": "execute_result",
          "data": {
            "text/plain": [
              "'Big2.2'"
            ],
            "application/vnd.google.colaboratory.intrinsic+json": {
              "type": "string"
            }
          },
          "metadata": {},
          "execution_count": 37
        }
      ]
    },
    {
      "cell_type": "code",
      "source": [
        "test1 = int(str(999))\n",
        "test1"
      ],
      "metadata": {
        "colab": {
          "base_uri": "https://localhost:8080/"
        },
        "id": "HftM1vjdvM-f",
        "outputId": "9d13f7c4-756e-48ad-e354-3a1743209a6f"
      },
      "execution_count": null,
      "outputs": [
        {
          "output_type": "execute_result",
          "data": {
            "text/plain": [
              "999"
            ]
          },
          "metadata": {},
          "execution_count": 38
        }
      ]
    },
    {
      "cell_type": "code",
      "source": [
        "type(test1)"
      ],
      "metadata": {
        "colab": {
          "base_uri": "https://localhost:8080/"
        },
        "id": "bQvM4uorwEp2",
        "outputId": "83519813-3255-4982-aa45-726e2367fb5c"
      },
      "execution_count": null,
      "outputs": [
        {
          "output_type": "execute_result",
          "data": {
            "text/plain": [
              "int"
            ]
          },
          "metadata": {},
          "execution_count": 39
        }
      ]
    },
    {
      "cell_type": "code",
      "source": [
        "test2 = str(int(float(999)))\n",
        "type(test2)"
      ],
      "metadata": {
        "colab": {
          "base_uri": "https://localhost:8080/"
        },
        "id": "hUmRrr5gwdPF",
        "outputId": "a397c96c-1f54-4e49-c4cc-98bffbc67728"
      },
      "execution_count": null,
      "outputs": [
        {
          "output_type": "execute_result",
          "data": {
            "text/plain": [
              "str"
            ]
          },
          "metadata": {},
          "execution_count": 40
        }
      ]
    },
    {
      "cell_type": "markdown",
      "source": [
        "# **Data Structure**\n",
        "\n",
        "---\n",
        "\n"
      ],
      "metadata": {
        "id": "zfcyV6tZNrCl"
      }
    },
    {
      "cell_type": "markdown",
      "source": [
        "**Python Data Structure**\n",
        "\n",
        "* List []\n",
        "* Tuple ()\n",
        "* Set {}\n",
        "* Dictionary {}"
      ],
      "metadata": {
        "id": "4J0NIkMMxD7a"
      }
    },
    {
      "cell_type": "markdown",
      "source": [
        "**List**\n",
        "\n",
        "---\n",
        "\n"
      ],
      "metadata": {
        "id": "Y9Bdei5_Nxh9"
      }
    },
    {
      "cell_type": "code",
      "source": [
        "l1 = [8.8,'Data Science', 2024, 99, -20]\n",
        "\n",
        "t1 = (8.8,'Data Science', 2024, 99, -20)\n",
        "\n",
        "s1 = {8.8,'Data Science', 2024, 99, -20}\n",
        "\n",
        "print(l1)\n",
        "print(t1)\n",
        "print(s1)"
      ],
      "metadata": {
        "colab": {
          "base_uri": "https://localhost:8080/"
        },
        "id": "MjnoVbyNwvTg",
        "outputId": "6700c753-d13c-401c-c19b-ecba9b54099b"
      },
      "execution_count": null,
      "outputs": [
        {
          "output_type": "stream",
          "name": "stdout",
          "text": [
            "[8.8, 'Data Science', 2024, 99, -20]\n",
            "(8.8, 'Data Science', 2024, 99, -20)\n",
            "{99, 8.8, 2024, -20, 'Data Science'}\n"
          ]
        }
      ]
    },
    {
      "cell_type": "code",
      "source": [
        "type(l1)"
      ],
      "metadata": {
        "colab": {
          "base_uri": "https://localhost:8080/"
        },
        "id": "ghHybZ3a4BMx",
        "outputId": "4a5df195-df00-44a1-b851-bd5e48a8b672"
      },
      "execution_count": null,
      "outputs": [
        {
          "output_type": "execute_result",
          "data": {
            "text/plain": [
              "list"
            ]
          },
          "metadata": {},
          "execution_count": 2
        }
      ]
    },
    {
      "cell_type": "code",
      "source": [
        "type(t1)"
      ],
      "metadata": {
        "colab": {
          "base_uri": "https://localhost:8080/"
        },
        "id": "3OdVO2Em4KsS",
        "outputId": "04592538-aa56-45fb-cdef-6b073456c982"
      },
      "execution_count": null,
      "outputs": [
        {
          "output_type": "execute_result",
          "data": {
            "text/plain": [
              "tuple"
            ]
          },
          "metadata": {},
          "execution_count": 44
        }
      ]
    },
    {
      "cell_type": "code",
      "source": [
        "type(s1)"
      ],
      "metadata": {
        "colab": {
          "base_uri": "https://localhost:8080/"
        },
        "id": "qYb704XU4Md2",
        "outputId": "0b7f4c55-2c76-480c-ad72-3e34a376514f"
      },
      "execution_count": null,
      "outputs": [
        {
          "output_type": "execute_result",
          "data": {
            "text/plain": [
              "set"
            ]
          },
          "metadata": {},
          "execution_count": 45
        }
      ]
    },
    {
      "cell_type": "markdown",
      "source": [
        "**List**"
      ],
      "metadata": {
        "id": "rPXMjyfS4RkH"
      }
    },
    {
      "cell_type": "code",
      "source": [
        "#index\n",
        "\n",
        "print(l1[2])\n",
        "print(l1[2:])"
      ],
      "metadata": {
        "colab": {
          "base_uri": "https://localhost:8080/"
        },
        "id": "l_aKVxXs4OUE",
        "outputId": "09c9c43d-bed5-4dd9-e3be-592e7c8a399d"
      },
      "execution_count": null,
      "outputs": [
        {
          "output_type": "stream",
          "name": "stdout",
          "text": [
            "2024\n",
            "[2024, 99, -20]\n"
          ]
        }
      ]
    },
    {
      "cell_type": "code",
      "source": [
        "#extend\n",
        "\n",
        "l1.extend([55, 'AI'])\n",
        "l1"
      ],
      "metadata": {
        "colab": {
          "base_uri": "https://localhost:8080/"
        },
        "id": "m5Jykk0C4nuP",
        "outputId": "8f2662f2-0522-4495-8240-5a83a350e6a1"
      },
      "execution_count": null,
      "outputs": [
        {
          "output_type": "execute_result",
          "data": {
            "text/plain": [
              "[8.8, 'Data Science', 2024, 99, -20, 55, 'AI']"
            ]
          },
          "metadata": {},
          "execution_count": 4
        }
      ]
    },
    {
      "cell_type": "code",
      "source": [
        "#append\n",
        "l1.append(['ML',999])"
      ],
      "metadata": {
        "id": "iZdPMLy-6mqG"
      },
      "execution_count": null,
      "outputs": []
    },
    {
      "cell_type": "code",
      "source": [
        "l1"
      ],
      "metadata": {
        "colab": {
          "base_uri": "https://localhost:8080/"
        },
        "id": "DlWeb8lz64fL",
        "outputId": "21582819-34bf-4ad2-b373-4494b430ff4a"
      },
      "execution_count": null,
      "outputs": [
        {
          "output_type": "execute_result",
          "data": {
            "text/plain": [
              "[8.8, 'Data Science', 2024, 99, -20, 55, 'AI', ['ML', 999]]"
            ]
          },
          "metadata": {},
          "execution_count": 6
        }
      ]
    },
    {
      "cell_type": "code",
      "source": [
        "#nested list\n",
        "\n",
        "print(l1[-1])"
      ],
      "metadata": {
        "colab": {
          "base_uri": "https://localhost:8080/"
        },
        "id": "C1UO_DZz7AG3",
        "outputId": "7ad7e3f4-7c2e-4350-e43b-1e8c8d96ae42"
      },
      "execution_count": null,
      "outputs": [
        {
          "output_type": "stream",
          "name": "stdout",
          "text": [
            "['ML', 999]\n"
          ]
        }
      ]
    },
    {
      "cell_type": "code",
      "source": [
        "print(l1[-1][-1])"
      ],
      "metadata": {
        "colab": {
          "base_uri": "https://localhost:8080/"
        },
        "id": "ZV_Odmux7SuJ",
        "outputId": "6b00fe7f-6142-4d0d-aedf-b176a0cafa2b"
      },
      "execution_count": null,
      "outputs": [
        {
          "output_type": "stream",
          "name": "stdout",
          "text": [
            "999\n"
          ]
        }
      ]
    },
    {
      "cell_type": "code",
      "source": [
        "print(l1[-1][-2])"
      ],
      "metadata": {
        "colab": {
          "base_uri": "https://localhost:8080/"
        },
        "id": "_D-xrAY17bbl",
        "outputId": "25dce343-e2b6-405a-a997-65262ac68de7"
      },
      "execution_count": null,
      "outputs": [
        {
          "output_type": "stream",
          "name": "stdout",
          "text": [
            "ML\n"
          ]
        }
      ]
    },
    {
      "cell_type": "code",
      "source": [
        "l2 = [8.8, 'Data Science', 2024, 99, -20, 55, 'Ai', ['ML', 999, ['A','B','C']]]\n",
        "#print the latter B and C\n",
        "\n",
        "print (l2[-1][-1][-2:])"
      ],
      "metadata": {
        "colab": {
          "base_uri": "https://localhost:8080/"
        },
        "id": "hd2GiFHH7jNi",
        "outputId": "93543463-0781-4e87-aa34-cf53ed94c1fd"
      },
      "execution_count": null,
      "outputs": [
        {
          "output_type": "stream",
          "name": "stdout",
          "text": [
            "['B', 'C']\n"
          ]
        }
      ]
    },
    {
      "cell_type": "code",
      "source": [
        "#del\n",
        "del(l1[1])\n",
        "l1"
      ],
      "metadata": {
        "colab": {
          "base_uri": "https://localhost:8080/"
        },
        "id": "KvN5KLPR8cH7",
        "outputId": "339a8436-90d4-44f6-e55f-3b9e67d64cce"
      },
      "execution_count": null,
      "outputs": [
        {
          "output_type": "execute_result",
          "data": {
            "text/plain": [
              "[8.8, 2024, 99, -20, 55, 'AI', ['ML', 999]]"
            ]
          },
          "metadata": {},
          "execution_count": 7
        }
      ]
    },
    {
      "cell_type": "code",
      "source": [
        "#find the index of an item in a list\n",
        "\n",
        "l1.index('AI')"
      ],
      "metadata": {
        "colab": {
          "base_uri": "https://localhost:8080/"
        },
        "id": "JsNLwvrQ9IJu",
        "outputId": "5694a602-f85f-4f0f-83db-23c6f3acf4fa"
      },
      "execution_count": null,
      "outputs": [
        {
          "output_type": "execute_result",
          "data": {
            "text/plain": [
              "5"
            ]
          },
          "metadata": {},
          "execution_count": 85
        }
      ]
    },
    {
      "cell_type": "code",
      "source": [
        "#counting the freq of an item in a list\n",
        "\n",
        "l3 = [20, 200, 99, 20, 'AI',20, 'AI', 20]\n",
        "\n",
        "#count\n",
        "\n",
        "l3.count(20)"
      ],
      "metadata": {
        "colab": {
          "base_uri": "https://localhost:8080/"
        },
        "id": "V1wVzEtn9r2u",
        "outputId": "40de6af2-33f8-4eac-d3d3-4c5e2451a880"
      },
      "execution_count": null,
      "outputs": [
        {
          "output_type": "execute_result",
          "data": {
            "text/plain": [
              "4"
            ]
          },
          "metadata": {},
          "execution_count": 10
        }
      ]
    },
    {
      "cell_type": "code",
      "source": [
        "l3.count('AI')"
      ],
      "metadata": {
        "colab": {
          "base_uri": "https://localhost:8080/"
        },
        "id": "af8y56wx-TzW",
        "outputId": "e69c516e-177b-4313-8a16-8ee35d51e48c"
      },
      "execution_count": null,
      "outputs": [
        {
          "output_type": "execute_result",
          "data": {
            "text/plain": [
              "2"
            ]
          },
          "metadata": {},
          "execution_count": 11
        }
      ]
    },
    {
      "cell_type": "code",
      "source": [
        "#remove\n",
        "\n",
        "l3.remove('AI')\n",
        "l3"
      ],
      "metadata": {
        "colab": {
          "base_uri": "https://localhost:8080/"
        },
        "id": "jGsQW0c_-fPX",
        "outputId": "66d860d6-4643-4ab6-d6a6-c60d85878d79"
      },
      "execution_count": null,
      "outputs": [
        {
          "output_type": "execute_result",
          "data": {
            "text/plain": [
              "[20, 200, 99, 20, 20, 'AI', 20]"
            ]
          },
          "metadata": {},
          "execution_count": 12
        }
      ]
    },
    {
      "cell_type": "code",
      "source": [
        "#insert\n",
        "\n",
        "#list.insert(index,item)\n",
        "\n",
        "l3.insert(4,'AI')\n",
        "l3"
      ],
      "metadata": {
        "colab": {
          "base_uri": "https://localhost:8080/"
        },
        "id": "dmSQ4tQv_EMV",
        "outputId": "b33ca8be-7a5c-4e3b-b8ce-bcc6091f9bd0"
      },
      "execution_count": null,
      "outputs": [
        {
          "output_type": "execute_result",
          "data": {
            "text/plain": [
              "[20, 200, 99, 20, 'AI', 20, 'AI', 20]"
            ]
          },
          "metadata": {},
          "execution_count": 13
        }
      ]
    },
    {
      "cell_type": "code",
      "source": [
        "#reverse\n",
        "\n",
        "l3.reverse()\n",
        "l3"
      ],
      "metadata": {
        "colab": {
          "base_uri": "https://localhost:8080/"
        },
        "id": "nW6E9T9__x1V",
        "outputId": "2438db87-dca0-4f1c-bfaa-d56cf58c4083"
      },
      "execution_count": null,
      "outputs": [
        {
          "output_type": "execute_result",
          "data": {
            "text/plain": [
              "[20, 'AI', 20, 'AI', 20, 99, 200, 20]"
            ]
          },
          "metadata": {},
          "execution_count": 14
        }
      ]
    },
    {
      "cell_type": "code",
      "source": [
        "#sort\n",
        "\n",
        "l3.sort()\n",
        "l3"
      ],
      "metadata": {
        "colab": {
          "base_uri": "https://localhost:8080/",
          "height": 193
        },
        "id": "F-vHxNvaAGtE",
        "outputId": "14ea291c-57c0-4e61-a855-bc22f1e0b1fa"
      },
      "execution_count": null,
      "outputs": [
        {
          "output_type": "error",
          "ename": "TypeError",
          "evalue": "'<' not supported between instances of 'str' and 'int'",
          "traceback": [
            "\u001b[0;31m---------------------------------------------------------------------------\u001b[0m",
            "\u001b[0;31mTypeError\u001b[0m                                 Traceback (most recent call last)",
            "\u001b[0;32m<ipython-input-15-7dcef0bdbe08>\u001b[0m in \u001b[0;36m<cell line: 3>\u001b[0;34m()\u001b[0m\n\u001b[1;32m      1\u001b[0m \u001b[0;31m#sort\u001b[0m\u001b[0;34m\u001b[0m\u001b[0;34m\u001b[0m\u001b[0m\n\u001b[1;32m      2\u001b[0m \u001b[0;34m\u001b[0m\u001b[0m\n\u001b[0;32m----> 3\u001b[0;31m \u001b[0ml3\u001b[0m\u001b[0;34m.\u001b[0m\u001b[0msort\u001b[0m\u001b[0;34m(\u001b[0m\u001b[0;34m)\u001b[0m\u001b[0;34m\u001b[0m\u001b[0;34m\u001b[0m\u001b[0m\n\u001b[0m\u001b[1;32m      4\u001b[0m \u001b[0ml3\u001b[0m\u001b[0;34m\u001b[0m\u001b[0;34m\u001b[0m\u001b[0m\n",
            "\u001b[0;31mTypeError\u001b[0m: '<' not supported between instances of 'str' and 'int'"
          ]
        }
      ]
    },
    {
      "cell_type": "markdown",
      "source": [
        "**Error!**\n",
        "\n",
        "* Because the list consist of string and integer so it cannor sort out"
      ],
      "metadata": {
        "id": "y3DTPTxsAtlE"
      }
    },
    {
      "cell_type": "code",
      "source": [
        "l3.remove('AI')\n",
        "l3"
      ],
      "metadata": {
        "colab": {
          "base_uri": "https://localhost:8080/"
        },
        "id": "y8mP_SqGAmHt",
        "outputId": "76f6b691-5cea-4cbc-8241-39d401f863ad"
      },
      "execution_count": null,
      "outputs": [
        {
          "output_type": "execute_result",
          "data": {
            "text/plain": [
              "[20, 20, 20, 99, 200, 20]"
            ]
          },
          "metadata": {},
          "execution_count": 74
        }
      ]
    },
    {
      "cell_type": "code",
      "source": [
        "l3.sort()\n",
        "l3"
      ],
      "metadata": {
        "colab": {
          "base_uri": "https://localhost:8080/"
        },
        "id": "6vvoRnV6A2dp",
        "outputId": "2e072afa-82a4-4b5f-81ea-def961f69fad"
      },
      "execution_count": null,
      "outputs": [
        {
          "output_type": "execute_result",
          "data": {
            "text/plain": [
              "[20, 20, 20, 20, 99, 200]"
            ]
          },
          "metadata": {},
          "execution_count": 75
        }
      ]
    },
    {
      "cell_type": "code",
      "source": [
        "l3.reverse()\n",
        "l3"
      ],
      "metadata": {
        "colab": {
          "base_uri": "https://localhost:8080/"
        },
        "id": "RAv9M9niA7Ew",
        "outputId": "936c1db6-da1f-4856-b067-0ee187a498f0"
      },
      "execution_count": null,
      "outputs": [
        {
          "output_type": "execute_result",
          "data": {
            "text/plain": [
              "[200, 99, 20, 20, 20, 20]"
            ]
          },
          "metadata": {},
          "execution_count": 76
        }
      ]
    },
    {
      "cell_type": "code",
      "source": [
        "#length\n",
        "\n",
        "len(l3)"
      ],
      "metadata": {
        "colab": {
          "base_uri": "https://localhost:8080/"
        },
        "id": "qi3rs-V_BArI",
        "outputId": "2fde8ff1-cce0-4f26-de9f-557970c7dcb6"
      },
      "execution_count": null,
      "outputs": [
        {
          "output_type": "execute_result",
          "data": {
            "text/plain": [
              "6"
            ]
          },
          "metadata": {},
          "execution_count": 77
        }
      ]
    },
    {
      "cell_type": "code",
      "source": [
        "l4 = [20, 0, -5, 13, -1, 7, 4, -3, 17, 9]\n",
        "\n",
        "#sort l4 in ascending and descending order\n",
        "#print the highest value and the lowest value"
      ],
      "metadata": {
        "id": "e1lHvWwSBPvG"
      },
      "execution_count": null,
      "outputs": []
    },
    {
      "cell_type": "code",
      "source": [
        "l4.sort()\n",
        "l4"
      ],
      "metadata": {
        "colab": {
          "base_uri": "https://localhost:8080/"
        },
        "id": "iZVLZ5TYB3t9",
        "outputId": "1ec9782c-b832-424d-d228-f78ea616c9e7"
      },
      "execution_count": null,
      "outputs": [
        {
          "output_type": "execute_result",
          "data": {
            "text/plain": [
              "[-5, -3, -1, 0, 4, 7, 9, 13, 17, 20]"
            ]
          },
          "metadata": {},
          "execution_count": 79
        }
      ]
    },
    {
      "cell_type": "code",
      "source": [
        "l4.reverse()\n",
        "l4"
      ],
      "metadata": {
        "colab": {
          "base_uri": "https://localhost:8080/"
        },
        "id": "Ny7-vYgeB7Pg",
        "outputId": "c301fa43-e57e-4a74-f148-cdbe75259e69"
      },
      "execution_count": null,
      "outputs": [
        {
          "output_type": "execute_result",
          "data": {
            "text/plain": [
              "[20, 17, 13, 9, 7, 4, 0, -1, -3, -5]"
            ]
          },
          "metadata": {},
          "execution_count": 80
        }
      ]
    },
    {
      "cell_type": "code",
      "source": [
        "print(l4[0])"
      ],
      "metadata": {
        "colab": {
          "base_uri": "https://localhost:8080/"
        },
        "id": "40jiTxb3B-Za",
        "outputId": "904705ac-3152-421b-d8dc-465c28d41cef"
      },
      "execution_count": null,
      "outputs": [
        {
          "output_type": "stream",
          "name": "stdout",
          "text": [
            "20\n"
          ]
        }
      ]
    },
    {
      "cell_type": "code",
      "source": [
        "print(l4[-1])"
      ],
      "metadata": {
        "colab": {
          "base_uri": "https://localhost:8080/"
        },
        "id": "DAYSuWQXCH8s",
        "outputId": "175e6afc-6d5d-4117-ebdb-8e2b8563ca77"
      },
      "execution_count": null,
      "outputs": [
        {
          "output_type": "stream",
          "name": "stdout",
          "text": [
            "-5\n"
          ]
        }
      ]
    },
    {
      "cell_type": "code",
      "source": [
        "max(l4)"
      ],
      "metadata": {
        "colab": {
          "base_uri": "https://localhost:8080/"
        },
        "id": "lWozvvR6CU89",
        "outputId": "e9ee03f0-3094-4515-ddf6-bcee3a144342"
      },
      "execution_count": null,
      "outputs": [
        {
          "output_type": "execute_result",
          "data": {
            "text/plain": [
              "20"
            ]
          },
          "metadata": {},
          "execution_count": 83
        }
      ]
    },
    {
      "cell_type": "code",
      "source": [
        "min(l4)"
      ],
      "metadata": {
        "colab": {
          "base_uri": "https://localhost:8080/"
        },
        "id": "-jZphyViCgnA",
        "outputId": "a5bde9e0-d5c9-415f-e362-327cb9df8c6c"
      },
      "execution_count": null,
      "outputs": [
        {
          "output_type": "execute_result",
          "data": {
            "text/plain": [
              "-5"
            ]
          },
          "metadata": {},
          "execution_count": 84
        }
      ]
    },
    {
      "cell_type": "code",
      "source": [
        "print ('The highest value is ', l4[0])\n",
        "print ('The lowest value is ', l4[-1])"
      ],
      "metadata": {
        "colab": {
          "base_uri": "https://localhost:8080/"
        },
        "id": "Sd97MN3BCiUU",
        "outputId": "94e9b8c1-b3a0-4a05-e4f7-79f86c42e6c4"
      },
      "execution_count": null,
      "outputs": [
        {
          "output_type": "stream",
          "name": "stdout",
          "text": [
            "The highest value is  20\n",
            "The lowest value is  -5\n"
          ]
        }
      ]
    },
    {
      "cell_type": "markdown",
      "source": [
        "**Tuple**\n",
        "\n",
        "---\n",
        "\n"
      ],
      "metadata": {
        "id": "9kgr11f1OAhc"
      }
    },
    {
      "cell_type": "markdown",
      "source": [
        "**Tuple**\n",
        "\n",
        "Here’s a comparison of lists and tuples in Python:\n",
        "\n",
        "### List\n",
        "- *Mutable*: You can change the elements (add, remove, or modify) after the list is created.\n",
        "- *Syntax*: Defined using square brackets [].\n",
        "  python\n",
        "  my_list = [1, 2, 3]\n",
        "  \n",
        "- *Performance*: Slightly slower due to the flexibility of mutability.\n",
        "- *Use Case*: Best when you need a collection of items that may change over time.\n",
        "\n",
        "### Tuple\n",
        "- *Immutable*: Once created, you cannot change the elements (no adding, removing, or modifying).\n",
        "- *Syntax*: Defined using parentheses ().\n",
        "  python\n",
        "  my_tuple = (1, 2, 3)\n",
        "  \n",
        "- *Performance*: Faster than lists due to immutability.\n",
        "- *Use Case*: Best when you need a collection of items that should not change, ensuring data integrity.\n",
        "\n",
        "### Key Differences\n",
        "1. *Mutability*:\n",
        "   - Lists: Mutable\n",
        "   - Tuples: Immutable\n",
        "\n",
        "2. *Syntax*:\n",
        "   - Lists: []\n",
        "   - Tuples: ()\n",
        "\n",
        "3. *Performance*:\n",
        "   - Lists: Slower due to overhead of mutable operations.\n",
        "   - Tuples: Faster due to immutability.\n",
        "\n",
        "4. *Use Cases*:\n",
        "   - Lists: Collections of items that need to be changed or updated.\n",
        "   - Tuples: Fixed collections of items that should not change after creation.\n",
        "\n",
        "### Example\n",
        "#### List\n",
        "python\n",
        "my_list = [1, 2, 3]\n",
        "my_list.append(4)\n",
        "print(my_list)  # Output: [1, 2, 3, 4]\n",
        "\n",
        "\n",
        "#### Tuple\n",
        "python\n",
        "my_tuple = (1, 2, 3)\n",
        "# my_tuple.append(4)  # This will raise an AttributeError\n",
        "print(my_tuple)  # Output: (1, 2, 3)\n",
        "\n",
        "\n",
        "### Summary\n",
        "- Use *lists* when you need a dynamic collection that may change over time.\n",
        "- Use *tuples* when you need a fixed collection of items that should remain constant."
      ],
      "metadata": {
        "id": "1uS14e0PEh9c"
      }
    },
    {
      "cell_type": "code",
      "source": [
        "t1"
      ],
      "metadata": {
        "colab": {
          "base_uri": "https://localhost:8080/"
        },
        "id": "Uh2BvmMHELqf",
        "outputId": "eb9e0a11-37b0-47ae-be15-0b3609876d70"
      },
      "execution_count": null,
      "outputs": [
        {
          "output_type": "execute_result",
          "data": {
            "text/plain": [
              "(8.8, 'Data Science', 2024, 99, -20)"
            ]
          },
          "metadata": {},
          "execution_count": 87
        }
      ]
    },
    {
      "cell_type": "code",
      "source": [
        "print(t1[2])"
      ],
      "metadata": {
        "colab": {
          "base_uri": "https://localhost:8080/"
        },
        "id": "rzO4nKUeFYpk",
        "outputId": "2d6b2a2e-e1a1-4e47-fd69-5b3d04c0a65d"
      },
      "execution_count": null,
      "outputs": [
        {
          "output_type": "stream",
          "name": "stdout",
          "text": [
            "2024\n"
          ]
        }
      ]
    },
    {
      "cell_type": "code",
      "source": [
        "#nested tuple\n",
        "\n",
        "t2 = (8.8, 'Data Science', (2024, 99), -20,)\n",
        "print(t2[-2][-1])"
      ],
      "metadata": {
        "colab": {
          "base_uri": "https://localhost:8080/"
        },
        "id": "vrHgoSw9FeG-",
        "outputId": "894d1056-ab34-4131-f4be-4aa087093632"
      },
      "execution_count": null,
      "outputs": [
        {
          "output_type": "stream",
          "name": "stdout",
          "text": [
            "99\n"
          ]
        }
      ]
    },
    {
      "cell_type": "code",
      "source": [
        "t3 = ('AI', 'Python')\n",
        "tnew = t2 + t3\n",
        "tnew"
      ],
      "metadata": {
        "colab": {
          "base_uri": "https://localhost:8080/"
        },
        "id": "w6DRlmkZF7Q5",
        "outputId": "bc8b5671-9555-416e-8034-5bb07d25c1a2"
      },
      "execution_count": null,
      "outputs": [
        {
          "output_type": "execute_result",
          "data": {
            "text/plain": [
              "(8.8, 'Data Science', (2024, 99), -20, 'AI', 'Python')"
            ]
          },
          "metadata": {},
          "execution_count": 90
        }
      ]
    },
    {
      "cell_type": "code",
      "source": [
        "t4 = (5, 88, -20, 99, 30, 8.8, 0, 5)\n",
        "\n",
        "#sorted\n",
        "sort_t4 = sorted(t4)\n",
        "\n",
        "print (sort_t4)"
      ],
      "metadata": {
        "colab": {
          "base_uri": "https://localhost:8080/"
        },
        "id": "_tpNgyWXGTXR",
        "outputId": "bcfcdd1e-093a-4c63-851f-246a1ceab43d"
      },
      "execution_count": null,
      "outputs": [
        {
          "output_type": "stream",
          "name": "stdout",
          "text": [
            "[-20, 0, 5, 5, 8.8, 30, 88, 99]\n"
          ]
        }
      ]
    },
    {
      "cell_type": "code",
      "source": [
        "list_t4 = list(t4)\n",
        "list_t4"
      ],
      "metadata": {
        "colab": {
          "base_uri": "https://localhost:8080/"
        },
        "id": "N7dehr78G_Pr",
        "outputId": "529b988d-8598-4323-deae-c5d46ad978b9"
      },
      "execution_count": null,
      "outputs": [
        {
          "output_type": "execute_result",
          "data": {
            "text/plain": [
              "[5, 88, -20, 99, 30, 8.8, 0, 5]"
            ]
          },
          "metadata": {},
          "execution_count": 92
        }
      ]
    },
    {
      "cell_type": "code",
      "source": [
        "tuple_list_t4 = tuple(list_t4)\n",
        "tuple_list_t4"
      ],
      "metadata": {
        "colab": {
          "base_uri": "https://localhost:8080/"
        },
        "id": "KX-HNpISHi0r",
        "outputId": "f0e9469e-58a9-4c6c-f959-2086d070e0ca"
      },
      "execution_count": null,
      "outputs": [
        {
          "output_type": "execute_result",
          "data": {
            "text/plain": [
              "(5, 88, -20, 99, 30, 8.8, 0, 5)"
            ]
          },
          "metadata": {},
          "execution_count": 93
        }
      ]
    },
    {
      "cell_type": "code",
      "source": [
        "t5 = ('AI','Data', 2024, 'ML')\n",
        "list_new_items = [888, 'Python', 'DL']\n",
        "\n",
        "#create a new tuple of the above tuple and list"
      ],
      "metadata": {
        "id": "nspyQkGzHzN0"
      },
      "execution_count": null,
      "outputs": []
    },
    {
      "cell_type": "code",
      "source": [
        "list_t5 = list(t5)\n",
        "list_t5"
      ],
      "metadata": {
        "colab": {
          "base_uri": "https://localhost:8080/"
        },
        "id": "j2nxPumqJNqT",
        "outputId": "0a936222-5651-474f-9ca0-86d11a1051f5"
      },
      "execution_count": null,
      "outputs": [
        {
          "output_type": "execute_result",
          "data": {
            "text/plain": [
              "['AI', 'Data', 2024, 'ML']"
            ]
          },
          "metadata": {},
          "execution_count": 95
        }
      ]
    },
    {
      "cell_type": "code",
      "source": [
        "list_t5.extend(list_new_items)\n",
        "list_t5"
      ],
      "metadata": {
        "colab": {
          "base_uri": "https://localhost:8080/"
        },
        "id": "YDhZ1cBsL7FH",
        "outputId": "ef24d0b3-1ca9-4883-9896-cc028a592e4c"
      },
      "execution_count": null,
      "outputs": [
        {
          "output_type": "execute_result",
          "data": {
            "text/plain": [
              "['AI', 'Data', 2024, 'ML', 888, 'Python', 'DL']"
            ]
          },
          "metadata": {},
          "execution_count": 98
        }
      ]
    },
    {
      "cell_type": "code",
      "source": [
        "l6 = list_new_items + list_t5\n",
        "l6"
      ],
      "metadata": {
        "colab": {
          "base_uri": "https://localhost:8080/"
        },
        "id": "7AzZNAynJgE2",
        "outputId": "a0a8868e-8e44-41c1-e011-b7f40a995547"
      },
      "execution_count": null,
      "outputs": [
        {
          "output_type": "execute_result",
          "data": {
            "text/plain": [
              "[888, 'Python', 'DL', 'AI', 'Data', 2024, 'ML']"
            ]
          },
          "metadata": {},
          "execution_count": 96
        }
      ]
    },
    {
      "cell_type": "code",
      "source": [
        "tuple_list_t6 = tuple(l6)\n",
        "tuple_list_t6"
      ],
      "metadata": {
        "colab": {
          "base_uri": "https://localhost:8080/"
        },
        "id": "AWcKnWEGKRyM",
        "outputId": "28e4a059-510d-4d1c-e6fd-d228481b0c43"
      },
      "execution_count": null,
      "outputs": [
        {
          "output_type": "execute_result",
          "data": {
            "text/plain": [
              "(888, 'Python', 'DL', 'AI', 'Data', 2024, 'ML')"
            ]
          },
          "metadata": {},
          "execution_count": 97
        }
      ]
    },
    {
      "cell_type": "code",
      "source": [
        "t4 = (5, 88, -20, 99, 30, 8.8, 0, 5)\n",
        "\n",
        "list_t4 = list(t4)\n",
        "list_t4"
      ],
      "metadata": {
        "id": "ZotxqToGKdK7",
        "colab": {
          "base_uri": "https://localhost:8080/"
        },
        "outputId": "2c08bdaa-a6fc-4979-90d9-d2631b7ad73f"
      },
      "execution_count": null,
      "outputs": [
        {
          "output_type": "execute_result",
          "data": {
            "text/plain": [
              "[5, 88, -20, 99, 30, 8.8, 0, 5]"
            ]
          },
          "metadata": {},
          "execution_count": 1
        }
      ]
    },
    {
      "cell_type": "code",
      "source": [
        "list_t4.sort()\n",
        "print(list_t4)"
      ],
      "metadata": {
        "colab": {
          "base_uri": "https://localhost:8080/"
        },
        "id": "gkGkwXPysfoU",
        "outputId": "904e011d-3a81-4f15-c281-0d93005ca742"
      },
      "execution_count": null,
      "outputs": [
        {
          "output_type": "stream",
          "name": "stdout",
          "text": [
            "[-20, 0, 5, 5, 8.8, 30, 88, 99]\n"
          ]
        }
      ]
    },
    {
      "cell_type": "code",
      "source": [
        "tuple_list_t4 = tuple(list_t4)\n",
        "tuple_list_t4"
      ],
      "metadata": {
        "colab": {
          "base_uri": "https://localhost:8080/"
        },
        "id": "ZcdIhavPs6zI",
        "outputId": "7e572923-e64e-494a-c141-79ebfa9b53a4"
      },
      "execution_count": null,
      "outputs": [
        {
          "output_type": "execute_result",
          "data": {
            "text/plain": [
              "(-20, 0, 5, 5, 8.8, 30, 88, 99)"
            ]
          },
          "metadata": {},
          "execution_count": 5
        }
      ]
    },
    {
      "cell_type": "markdown",
      "source": [
        "**Set**\n",
        "\n",
        "---\n",
        "\n"
      ],
      "metadata": {
        "id": "N53yK7oiBKIi"
      }
    },
    {
      "cell_type": "code",
      "source": [
        "s1 = {8.8, 'Data Science', 99, 2.2, 'Python'}\n",
        "type(s1)"
      ],
      "metadata": {
        "id": "-gMRgItEtyJh",
        "colab": {
          "base_uri": "https://localhost:8080/"
        },
        "outputId": "5052ec5d-9cfa-425c-d289-f5b84f89256e"
      },
      "execution_count": null,
      "outputs": [
        {
          "output_type": "execute_result",
          "data": {
            "text/plain": [
              "set"
            ]
          },
          "metadata": {},
          "execution_count": 1
        }
      ]
    },
    {
      "cell_type": "code",
      "source": [
        "print(s1)"
      ],
      "metadata": {
        "colab": {
          "base_uri": "https://localhost:8080/"
        },
        "id": "dVAe2McsBYPo",
        "outputId": "6b3de823-14d0-4b54-b82e-345bfc7d9f64"
      },
      "execution_count": null,
      "outputs": [
        {
          "output_type": "stream",
          "name": "stdout",
          "text": [
            "{'Python', 99, 2.2, 8.8, 'Data Science'}\n"
          ]
        }
      ]
    },
    {
      "cell_type": "code",
      "source": [
        "s2 = {20, -10, 0, 5, 99, -10, 20, 2.2, 88}\n",
        "print (s2)"
      ],
      "metadata": {
        "colab": {
          "base_uri": "https://localhost:8080/"
        },
        "id": "JGa_LXHiBbas",
        "outputId": "f19d78d7-40ad-48d9-f5e3-aadcdf8e2c62"
      },
      "execution_count": null,
      "outputs": [
        {
          "output_type": "stream",
          "name": "stdout",
          "text": [
            "{0, 2.2, 99, 20, 5, -10, 88}\n"
          ]
        }
      ]
    },
    {
      "cell_type": "code",
      "source": [
        "s2"
      ],
      "metadata": {
        "colab": {
          "base_uri": "https://localhost:8080/"
        },
        "id": "t8IPK9rkBypd",
        "outputId": "f9a24750-97a9-435e-c316-e57e22db0883"
      },
      "execution_count": null,
      "outputs": [
        {
          "output_type": "execute_result",
          "data": {
            "text/plain": [
              "{-10, 0, 2.2, 5, 20, 88, 99}"
            ]
          },
          "metadata": {},
          "execution_count": 5
        }
      ]
    },
    {
      "cell_type": "code",
      "source": [
        "#remove\n",
        "s2.remove(88)\n",
        "s2"
      ],
      "metadata": {
        "colab": {
          "base_uri": "https://localhost:8080/"
        },
        "id": "iqkNzoarFgbx",
        "outputId": "b53d5a97-ccbb-430a-f851-bedcdd9e0037"
      },
      "execution_count": null,
      "outputs": [
        {
          "output_type": "execute_result",
          "data": {
            "text/plain": [
              "{-10, 0, 2.2, 5, 20, 99}"
            ]
          },
          "metadata": {},
          "execution_count": 12
        }
      ]
    },
    {
      "cell_type": "code",
      "source": [
        "s3 = {'data', 'AI', 'ML', 'Python', 'big'}\n",
        "s3"
      ],
      "metadata": {
        "colab": {
          "base_uri": "https://localhost:8080/"
        },
        "id": "4CQdKvAUCBVY",
        "outputId": "2b02c29c-7980-4cfe-d7ab-257ca15aa32f"
      },
      "execution_count": null,
      "outputs": [
        {
          "output_type": "execute_result",
          "data": {
            "text/plain": [
              "{'AI', 'ML', 'Python', 'big', 'data'}"
            ]
          },
          "metadata": {},
          "execution_count": 6
        }
      ]
    },
    {
      "cell_type": "code",
      "source": [
        "print(s3)"
      ],
      "metadata": {
        "colab": {
          "base_uri": "https://localhost:8080/"
        },
        "id": "kDetK6R-C045",
        "outputId": "ceab6ce2-a4eb-473d-ae89-576c16483bbb"
      },
      "execution_count": null,
      "outputs": [
        {
          "output_type": "stream",
          "name": "stdout",
          "text": [
            "{'ML', 'Python', 'big', 'data', 'AI'}\n"
          ]
        }
      ]
    },
    {
      "cell_type": "code",
      "source": [
        "s4 = {'data', 'aI', 'ml', 'python', 'big'}\n",
        "s4"
      ],
      "metadata": {
        "colab": {
          "base_uri": "https://localhost:8080/"
        },
        "id": "B3iJUI5kC7FS",
        "outputId": "5a84e720-d05a-4ae6-dc2e-43baf4639129"
      },
      "execution_count": null,
      "outputs": [
        {
          "output_type": "execute_result",
          "data": {
            "text/plain": [
              "{'aI', 'big', 'data', 'ml', 'python'}"
            ]
          },
          "metadata": {},
          "execution_count": 8
        }
      ]
    },
    {
      "cell_type": "code",
      "source": [
        "#add\n",
        "s4.add('deep learning')\n",
        "s"
      ],
      "metadata": {
        "colab": {
          "base_uri": "https://localhost:8080/"
        },
        "id": "n9jOg371DQpi",
        "outputId": "5cf1534f-6e75-4657-ba0c-d3ca6f886b03"
      },
      "execution_count": null,
      "outputs": [
        {
          "output_type": "execute_result",
          "data": {
            "text/plain": [
              "{'aI', 'big', 'data', 'deep learning', 'ml', 'python'}"
            ]
          },
          "metadata": {},
          "execution_count": 11
        }
      ]
    },
    {
      "cell_type": "code",
      "source": [
        "#intersection\n",
        "\n",
        "set_a = {1,3,5,7,8,9,10,11,12,13,14} #actualresult\n",
        "set_b = {1,2,3,4,5,6,7,8,9,10,11} #predictedresult; should be the same as set a\n",
        "\n",
        "set_a.intersection(set_b)"
      ],
      "metadata": {
        "colab": {
          "base_uri": "https://localhost:8080/"
        },
        "id": "Fx8QHkRoEvSs",
        "outputId": "d1cac05b-ca2f-4c0c-d825-fa182d434e91"
      },
      "execution_count": null,
      "outputs": [
        {
          "output_type": "execute_result",
          "data": {
            "text/plain": [
              "{1, 3, 5, 7, 8, 9, 10, 11}"
            ]
          },
          "metadata": {},
          "execution_count": 14
        }
      ]
    },
    {
      "cell_type": "code",
      "source": [
        "#union\n",
        "\n",
        "set_a.union(set_b)"
      ],
      "metadata": {
        "colab": {
          "base_uri": "https://localhost:8080/"
        },
        "id": "2lFIEuSeGvR3",
        "outputId": "d6062af5-c947-405a-b939-3dac0a23e1bd"
      },
      "execution_count": null,
      "outputs": [
        {
          "output_type": "execute_result",
          "data": {
            "text/plain": [
              "{1, 2, 3, 4, 5, 6, 7, 8, 9, 10, 11, 12, 13, 14}"
            ]
          },
          "metadata": {},
          "execution_count": 15
        }
      ]
    },
    {
      "cell_type": "code",
      "source": [
        "list_a = [1,2,3,4,1,2,5]\n",
        "\n",
        "set_list_a = set(list_a)\n",
        "set_list_a"
      ],
      "metadata": {
        "colab": {
          "base_uri": "https://localhost:8080/"
        },
        "id": "Ud-cKUHBH0w6",
        "outputId": "2d1138d5-42d3-40f8-d3d6-d11b9de16bb3"
      },
      "execution_count": null,
      "outputs": [
        {
          "output_type": "execute_result",
          "data": {
            "text/plain": [
              "{1, 2, 3, 4, 5}"
            ]
          },
          "metadata": {},
          "execution_count": 18
        }
      ]
    },
    {
      "cell_type": "code",
      "source": [
        "#write a code to find the highest value in a list of numbers by using sets only\n",
        "\n",
        "list_b = [100, -99, 101, 88, 55.6, 0]\n",
        "set_list_b = set(list_b)\n",
        "set_list_b"
      ],
      "metadata": {
        "colab": {
          "base_uri": "https://localhost:8080/"
        },
        "id": "1DSyx2mUIc6s",
        "outputId": "33950a01-1ab4-40f9-b2fb-f031621321cc"
      },
      "execution_count": null,
      "outputs": [
        {
          "output_type": "execute_result",
          "data": {
            "text/plain": [
              "{-99, 0, 55.6, 88, 100, 101}"
            ]
          },
          "metadata": {},
          "execution_count": 19
        }
      ]
    },
    {
      "cell_type": "code",
      "source": [
        "print(max(set_list_b))"
      ],
      "metadata": {
        "colab": {
          "base_uri": "https://localhost:8080/"
        },
        "id": "Bbf2zIzhJ37H",
        "outputId": "d7f10e56-fe2d-4d97-aacf-f5faf7178252"
      },
      "execution_count": null,
      "outputs": [
        {
          "output_type": "stream",
          "name": "stdout",
          "text": [
            "101\n"
          ]
        }
      ]
    },
    {
      "cell_type": "code",
      "source": [
        "#difference\n",
        "\n",
        "set_a.difference(set_b)"
      ],
      "metadata": {
        "colab": {
          "base_uri": "https://localhost:8080/"
        },
        "id": "ByvOzk6aMjTK",
        "outputId": "c595cd06-1d1f-4346-ed65-52e9e780de5d"
      },
      "execution_count": null,
      "outputs": [
        {
          "output_type": "execute_result",
          "data": {
            "text/plain": [
              "{12, 13, 14}"
            ]
          },
          "metadata": {},
          "execution_count": 25
        }
      ]
    },
    {
      "cell_type": "code",
      "source": [
        "set_b.difference(set_a)"
      ],
      "metadata": {
        "colab": {
          "base_uri": "https://localhost:8080/"
        },
        "id": "Jy8pMStTMobz",
        "outputId": "1f4a8788-dea9-4383-f8b6-e7c5fd32c240"
      },
      "execution_count": null,
      "outputs": [
        {
          "output_type": "execute_result",
          "data": {
            "text/plain": [
              "{2, 4, 6}"
            ]
          },
          "metadata": {},
          "execution_count": 26
        }
      ]
    },
    {
      "cell_type": "markdown",
      "source": [
        "**Dictionary**\n",
        "\n",
        "---\n",
        "\n",
        "\n",
        "\n",
        "*   Each item has a key and a value\n",
        "*   Key : value\n",
        "*   Dictionary: {key1:value1:, key2:value2, ... keyn:valuen}\n",
        "\n"
      ],
      "metadata": {
        "id": "4c_9K-8TOPaE"
      }
    },
    {
      "cell_type": "code",
      "source": [
        "d1 = {'AI':99, 8.8:['ML', 'DL'], (1,2,3):['Big Data']}\n",
        "d1"
      ],
      "metadata": {
        "colab": {
          "base_uri": "https://localhost:8080/"
        },
        "id": "x00zLu50OTpC",
        "outputId": "7a94cde8-4734-48a0-db1c-9cc3ad22407e"
      },
      "execution_count": null,
      "outputs": [
        {
          "output_type": "execute_result",
          "data": {
            "text/plain": [
              "{'AI': 99, 8.8: ['ML', 'DL'], (1, 2, 3): ['Big Data']}"
            ]
          },
          "metadata": {},
          "execution_count": 27
        }
      ]
    },
    {
      "cell_type": "code",
      "source": [
        "type(d1)"
      ],
      "metadata": {
        "colab": {
          "base_uri": "https://localhost:8080/"
        },
        "id": "95nxkBEVPb2K",
        "outputId": "81e6e6b1-4bb1-40a0-b4d0-fb0a0699f0fe"
      },
      "execution_count": null,
      "outputs": [
        {
          "output_type": "execute_result",
          "data": {
            "text/plain": [
              "dict"
            ]
          },
          "metadata": {},
          "execution_count": 28
        }
      ]
    },
    {
      "cell_type": "code",
      "source": [
        "d1['AI']"
      ],
      "metadata": {
        "colab": {
          "base_uri": "https://localhost:8080/"
        },
        "id": "Npp9_k2-PiLl",
        "outputId": "252f115c-2d96-4346-b6f7-78465bfd1227"
      },
      "execution_count": null,
      "outputs": [
        {
          "output_type": "execute_result",
          "data": {
            "text/plain": [
              "99"
            ]
          },
          "metadata": {},
          "execution_count": 29
        }
      ]
    },
    {
      "cell_type": "code",
      "source": [
        "d1.keys()"
      ],
      "metadata": {
        "colab": {
          "base_uri": "https://localhost:8080/"
        },
        "id": "_5gmTid8QiP0",
        "outputId": "12137edb-93c3-48e0-fb78-9f783d955901"
      },
      "execution_count": null,
      "outputs": [
        {
          "output_type": "execute_result",
          "data": {
            "text/plain": [
              "dict_keys(['AI', 8.8, (1, 2, 3)])"
            ]
          },
          "metadata": {},
          "execution_count": 30
        }
      ]
    },
    {
      "cell_type": "code",
      "source": [
        "d1.values()"
      ],
      "metadata": {
        "colab": {
          "base_uri": "https://localhost:8080/"
        },
        "id": "HqNWK1FxQnTY",
        "outputId": "1312d3b9-2c51-4edb-c416-744e4598bee5"
      },
      "execution_count": null,
      "outputs": [
        {
          "output_type": "execute_result",
          "data": {
            "text/plain": [
              "dict_values([99, ['ML', 'DL'], ['Big Data']])"
            ]
          },
          "metadata": {},
          "execution_count": 31
        }
      ]
    },
    {
      "cell_type": "code",
      "source": [
        "d1"
      ],
      "metadata": {
        "colab": {
          "base_uri": "https://localhost:8080/"
        },
        "id": "gn19q5cwQspp",
        "outputId": "2b08b524-8b47-47e7-823f-fcaca836b018"
      },
      "execution_count": null,
      "outputs": [
        {
          "output_type": "execute_result",
          "data": {
            "text/plain": [
              "{'AI': 99, 8.8: ['ML', 'DL'], (1, 2, 3): ['Big Data']}"
            ]
          },
          "metadata": {},
          "execution_count": 32
        }
      ]
    },
    {
      "cell_type": "code",
      "source": [
        "d1['AI'] = -10\n",
        "d1"
      ],
      "metadata": {
        "colab": {
          "base_uri": "https://localhost:8080/"
        },
        "id": "mp8YcZyIRPZ9",
        "outputId": "16319a81-7bf6-42e0-f3e7-f8bc2eebc7a0"
      },
      "execution_count": null,
      "outputs": [
        {
          "output_type": "execute_result",
          "data": {
            "text/plain": [
              "{'AI': -10, 8.8: ['ML', 'DL'], (1, 2, 3): ['Big Data']}"
            ]
          },
          "metadata": {},
          "execution_count": 33
        }
      ]
    },
    {
      "cell_type": "code",
      "source": [
        "d1.pop((1,2,3))\n",
        "d1"
      ],
      "metadata": {
        "colab": {
          "base_uri": "https://localhost:8080/"
        },
        "id": "EaxXscQtRVPc",
        "outputId": "73da93fe-868e-4981-9a12-285d296848aa"
      },
      "execution_count": null,
      "outputs": [
        {
          "output_type": "execute_result",
          "data": {
            "text/plain": [
              "{'AI': -10, 8.8: ['ML', 'DL']}"
            ]
          },
          "metadata": {},
          "execution_count": 34
        }
      ]
    },
    {
      "cell_type": "code",
      "source": [
        "d2 = {[1,2]:99, (100,200):['abid']}\n",
        "d2"
      ],
      "metadata": {
        "colab": {
          "base_uri": "https://localhost:8080/",
          "height": 165
        },
        "id": "ciwyx8hlRtgn",
        "outputId": "cd7fdcf4-e8e7-4ad7-eaaa-230ca37b0456"
      },
      "execution_count": null,
      "outputs": [
        {
          "output_type": "error",
          "ename": "TypeError",
          "evalue": "unhashable type: 'list'",
          "traceback": [
            "\u001b[0;31m---------------------------------------------------------------------------\u001b[0m",
            "\u001b[0;31mTypeError\u001b[0m                                 Traceback (most recent call last)",
            "\u001b[0;32m<ipython-input-36-626c2201f90c>\u001b[0m in \u001b[0;36m<cell line: 1>\u001b[0;34m()\u001b[0m\n\u001b[0;32m----> 1\u001b[0;31m \u001b[0md2\u001b[0m \u001b[0;34m=\u001b[0m \u001b[0;34m{\u001b[0m\u001b[0;34m[\u001b[0m\u001b[0;36m1\u001b[0m\u001b[0;34m,\u001b[0m\u001b[0;36m2\u001b[0m\u001b[0;34m]\u001b[0m\u001b[0;34m:\u001b[0m\u001b[0;36m99\u001b[0m\u001b[0;34m,\u001b[0m \u001b[0;34m(\u001b[0m\u001b[0;36m100\u001b[0m\u001b[0;34m,\u001b[0m\u001b[0;36m200\u001b[0m\u001b[0;34m)\u001b[0m\u001b[0;34m:\u001b[0m\u001b[0;34m[\u001b[0m\u001b[0;34m'abid'\u001b[0m\u001b[0;34m]\u001b[0m\u001b[0;34m}\u001b[0m\u001b[0;34m\u001b[0m\u001b[0;34m\u001b[0m\u001b[0m\n\u001b[0m\u001b[1;32m      2\u001b[0m \u001b[0md2\u001b[0m\u001b[0;34m\u001b[0m\u001b[0;34m\u001b[0m\u001b[0m\n",
            "\u001b[0;31mTypeError\u001b[0m: unhashable type: 'list'"
          ]
        }
      ]
    },
    {
      "cell_type": "markdown",
      "source": [
        "**Error!**\n",
        "\n",
        "* This typically happens when you try to use a list as a dictionary key. Dictionary keys in Python must be hashable, meaning they need to have a constant hash value throughout their lifetime. Lists, being mutable (changeable), don't meet this requirement.\n",
        "\n",
        "* a list [1, 2] as a key in your dictionary d2. As mentioned earlier, lists are mutable and therefore unhashable, which means they cannot be used as dictionary keys\n",
        "\n",
        "\n",
        "* By changing the square brackets [] to parentheses (), you create a tuple instead of a list. Tuples are immutable and hashable, making them perfectly valid as dictionary keys."
      ],
      "metadata": {
        "id": "diOiyeifC63F"
      }
    },
    {
      "cell_type": "code",
      "source": [
        "d3 = {(1,2):99, (100,200):['abid']}\n",
        "d3"
      ],
      "metadata": {
        "colab": {
          "base_uri": "https://localhost:8080/"
        },
        "id": "X6AiebGtSJm0",
        "outputId": "0ef091de-cc32-46f0-e947-a8fc7f050703"
      },
      "execution_count": null,
      "outputs": [
        {
          "output_type": "execute_result",
          "data": {
            "text/plain": [
              "{(1, 2): 99, (100, 200): ['abid']}"
            ]
          },
          "metadata": {},
          "execution_count": 37
        }
      ]
    },
    {
      "cell_type": "markdown",
      "source": [
        "**Statement**\n",
        "\n",
        "---\n",
        "\n"
      ],
      "metadata": {
        "id": "jG2zu83FB5VQ"
      }
    },
    {
      "cell_type": "markdown",
      "source": [
        "**if statement, elif statement, else**"
      ],
      "metadata": {
        "id": "OkpI6eJXTVHh"
      }
    },
    {
      "cell_type": "code",
      "source": [
        "country = 'Malaysia'\n",
        "\n",
        "if country == 'Malaysia':#True\n",
        "  print('Country is Malaysia')"
      ],
      "metadata": {
        "colab": {
          "base_uri": "https://localhost:8080/"
        },
        "id": "3nyTckjQSYQz",
        "outputId": "a1ed7e49-e875-4c42-82ca-8d81b5eac5c0"
      },
      "execution_count": null,
      "outputs": [
        {
          "output_type": "stream",
          "name": "stdout",
          "text": [
            "Country is Malaysia\n"
          ]
        }
      ]
    },
    {
      "cell_type": "code",
      "source": [
        "country = 'Malaysia'\n",
        "\n",
        "if country == 'Singapore':#False\n",
        "  print('Country is Singapore')"
      ],
      "metadata": {
        "id": "h1-yqzRwUBtD"
      },
      "execution_count": null,
      "outputs": []
    },
    {
      "cell_type": "code",
      "source": [
        "country = 'Malaysia'\n",
        "\n",
        "if country == 'Singapore':#False\n",
        "  print('Country is Singapore')\n",
        "\n",
        "else:\n",
        "    print('Country is Malaysia')"
      ],
      "metadata": {
        "colab": {
          "base_uri": "https://localhost:8080/"
        },
        "id": "3hwsuJX2UZ9d",
        "outputId": "b00c810d-e560-4255-e65d-e2bc8d1081cf"
      },
      "execution_count": null,
      "outputs": [
        {
          "output_type": "stream",
          "name": "stdout",
          "text": [
            "Country is Malaysia\n"
          ]
        }
      ]
    },
    {
      "cell_type": "code",
      "source": [
        "country = 'Malaysia'\n",
        "\n",
        "if country == 'Singapore':#False\n",
        "  print('Country is Singapore')\n",
        "\n",
        "elif country == 'Thailand':#False\n",
        "  print('Country is Thailand')\n",
        "\n",
        "else:\n",
        "    print('Country is Malaysia')"
      ],
      "metadata": {
        "colab": {
          "base_uri": "https://localhost:8080/"
        },
        "id": "W52hrctoUvtS",
        "outputId": "e939d6d2-4625-461d-b7b7-3cef6e53ae02"
      },
      "execution_count": null,
      "outputs": [
        {
          "output_type": "stream",
          "name": "stdout",
          "text": [
            "Country is Malaysia\n"
          ]
        }
      ]
    },
    {
      "cell_type": "code",
      "source": [
        "country = 'Malaysia'\n",
        "\n",
        "if country == 'Singapore':#False\n",
        "  print('Country is Singapore')\n",
        "\n",
        "elif country == 'Thailand':#False\n",
        "  print('Country is Thailand')\n",
        "\n",
        "elif country != 'Singapore':\n",
        "  print('Country is unknown')\n",
        "\n",
        "else:\n",
        "    print('Country is Malaysia')"
      ],
      "metadata": {
        "colab": {
          "base_uri": "https://localhost:8080/"
        },
        "id": "jckHnmJBVXbB",
        "outputId": "372dcd4c-faec-4733-939e-b210b46f55d7"
      },
      "execution_count": null,
      "outputs": [
        {
          "output_type": "stream",
          "name": "stdout",
          "text": [
            "Country is unknown\n"
          ]
        }
      ]
    },
    {
      "cell_type": "markdown",
      "source": [
        "<img src=\"https://s3-api.us-geo.objectstorage.softlayer.net/cf-courses-data/CognitiveClass/PY0101EN/Chapter%203/Images/CondsTable.png\" width=\"650\" />"
      ],
      "metadata": {
        "id": "YXHAjWy_Wjrv"
      }
    },
    {
      "cell_type": "code",
      "source": [
        "country = 'Malaysia'\n",
        "year = 2024\n",
        "\n",
        "if country == 'Malaysia' and year == 2020:#false\n",
        "  print('Country is Malaysia and year is 2020')"
      ],
      "metadata": {
        "id": "1jjod9DVV-1I"
      },
      "execution_count": null,
      "outputs": []
    },
    {
      "cell_type": "code",
      "source": [
        "country = 'Malaysia'\n",
        "year = 2024\n",
        "\n",
        "if country == 'Malaysia' or year == 2020:#false\n",
        "  print('Country is Malaysia and year is 2020')"
      ],
      "metadata": {
        "colab": {
          "base_uri": "https://localhost:8080/"
        },
        "id": "4rg2tfGrXK4I",
        "outputId": "9bd934a5-4853-4910-dd7e-9852731d5c2d"
      },
      "execution_count": null,
      "outputs": [
        {
          "output_type": "stream",
          "name": "stdout",
          "text": [
            "Country is Malaysia and year is 2020\n"
          ]
        }
      ]
    },
    {
      "cell_type": "code",
      "source": [
        "country = 'Malaysia'\n",
        "year = 2024\n",
        "\n",
        "if country == 'Malaysia' and year == 2020:#False\n",
        "  print('Country is Malaysia and year is 2020')\n",
        "\n",
        "elif country == 'Malaysia' and year > 2020:#True\n",
        "  print('Country is Malaysia and year is earlier than 2020')"
      ],
      "metadata": {
        "colab": {
          "base_uri": "https://localhost:8080/"
        },
        "id": "izP9A30cXmAY",
        "outputId": "b5d24f97-3f15-4663-a534-7c5aa99e104c"
      },
      "execution_count": null,
      "outputs": [
        {
          "output_type": "stream",
          "name": "stdout",
          "text": [
            "Country is Malaysia and year is earlier than 2020\n"
          ]
        }
      ]
    },
    {
      "cell_type": "code",
      "source": [
        "#write a code for finding the even and odd numbers\n",
        "\n",
        "even = [1,2,3,5,6,7,9]\n",
        "odd = [1,3,5,7,9]\n",
        "\n",
        "if even == [1,2,3,5,6,7,9] and odd == [1,3,5,7,9]:\n",
        "  print('even and odd are equal')"
      ],
      "metadata": {
        "id": "Kdh2QfLLfbRN",
        "colab": {
          "base_uri": "https://localhost:8080/"
        },
        "outputId": "ba9bf267-6aff-4f8a-d6dd-20ec94f6b141"
      },
      "execution_count": null,
      "outputs": [
        {
          "output_type": "stream",
          "name": "stdout",
          "text": [
            "even and odd are equal\n"
          ]
        }
      ]
    },
    {
      "cell_type": "code",
      "source": [
        "#write a code for finding the even and odd numbers\n",
        "\n",
        "n1 = 10%2\n",
        "n2 = 5%3\n",
        "\n",
        "if n1 == 0:\n",
        "  print('n1 is even')\n",
        "else:\n",
        "  print('n1 is odd')\n",
        "\n",
        "if n2 == 0:\n",
        "  print('n2 is even')\n",
        "else:\n",
        "  print('n2 is odd')"
      ],
      "metadata": {
        "colab": {
          "base_uri": "https://localhost:8080/"
        },
        "id": "yF4VPVT0g8P0",
        "outputId": "ba256e31-627c-436c-f900-0a91c457f4ab"
      },
      "execution_count": null,
      "outputs": [
        {
          "output_type": "stream",
          "name": "stdout",
          "text": [
            "n1 is even\n",
            "n2 is odd\n"
          ]
        }
      ]
    },
    {
      "cell_type": "code",
      "source": [
        "num = 11\n",
        "if num%2 == 0:\n",
        "  print('num is even')\n",
        "\n",
        "else:\n",
        "  print('num is odd')"
      ],
      "metadata": {
        "colab": {
          "base_uri": "https://localhost:8080/"
        },
        "id": "8s73r7Rihfmr",
        "outputId": "e0ba74df-da1d-4aa4-c431-bf17c2cfb725"
      },
      "execution_count": null,
      "outputs": [
        {
          "output_type": "stream",
          "name": "stdout",
          "text": [
            "num is odd\n"
          ]
        }
      ]
    },
    {
      "cell_type": "code",
      "source": [
        "input_num = input('Enter a number')\n",
        "\n",
        "input_num = int(input_num)\n",
        "\n",
        "if input_num%2 == 0:\n",
        "  print('The number is even')\n",
        "\n",
        "else:\n",
        "  print('The number is odd')"
      ],
      "metadata": {
        "colab": {
          "base_uri": "https://localhost:8080/"
        },
        "id": "NfZiMKkmiJuF",
        "outputId": "f4ca21dd-2017-45f8-a575-277a686c07e6"
      },
      "execution_count": null,
      "outputs": [
        {
          "output_type": "stream",
          "name": "stdout",
          "text": [
            "Enter a number6\n",
            "The number is even\n"
          ]
        }
      ]
    },
    {
      "cell_type": "code",
      "source": [
        "#nested if,elif, else\n",
        "\n",
        "price = 1000\n",
        "car = 'Proton'\n",
        "\n",
        "if price > 500:#True\n",
        "  if price == 700:#False\n",
        "    print('The price is more than 700')\n",
        "\n",
        "  else:\n",
        "    if price == 100 or car == 'Proton':\n",
        "      print('Car is Proton')\n",
        "\n",
        "    else:\n",
        "      print('Price and Car are unknown')"
      ],
      "metadata": {
        "colab": {
          "base_uri": "https://localhost:8080/"
        },
        "id": "ceF8SMHHixKR",
        "outputId": "361f8ef7-997a-4d82-ac36-3b3237e2f1e4"
      },
      "execution_count": null,
      "outputs": [
        {
          "output_type": "stream",
          "name": "stdout",
          "text": [
            "Car is Proton\n"
          ]
        }
      ]
    },
    {
      "cell_type": "code",
      "source": [
        "#nested if,elif, else\n",
        "\n",
        "price = 1000\n",
        "car = 'Proton'\n",
        "\n",
        "if price > 500:\n",
        "  if price == 700:\n",
        "    print('The price is more than 700')\n",
        "\n",
        "  else:\n",
        "    if price == 100 or car == 'Proton':\n",
        "      print('Car is Proton')\n",
        "\n",
        "    else:\n",
        "      print('Price and Car are unknown')"
      ],
      "metadata": {
        "colab": {
          "base_uri": "https://localhost:8080/"
        },
        "id": "SsUSY138kET1",
        "outputId": "6bf8a1e6-fa97-4411-ee16-1cc30389cdd8"
      },
      "execution_count": null,
      "outputs": [
        {
          "output_type": "stream",
          "name": "stdout",
          "text": [
            "Car is Proton\n"
          ]
        }
      ]
    },
    {
      "cell_type": "code",
      "source": [
        "price = 200\n",
        "house = 'bungalow'\n",
        "\n",
        "if price > 500:#false\n",
        "  if price == 200:#true\n",
        "    print('Price is 200')\n",
        "\n",
        "  else:\n",
        "    if house != 'bungalow':\n",
        "      if house == 'bungalow':\n",
        "         print('House is bungalow')\n",
        "\n",
        "      elif house != 'villa':\n",
        "         print('House is villa')\n",
        "\n",
        "    else:\n",
        "      print('House is unknown')"
      ],
      "metadata": {
        "id": "UI6oOuoDlhdg"
      },
      "execution_count": null,
      "outputs": []
    },
    {
      "cell_type": "markdown",
      "source": [
        "**Loops and while loops**"
      ],
      "metadata": {
        "id": "3JPCVH6voivg"
      }
    },
    {
      "cell_type": "code",
      "source": [
        "list_num = [100, 200, 300, 400, 500]\n",
        "\n",
        "print (list_num[0])\n",
        "print (list_num[1])\n",
        "print (list_num[2])\n",
        "print (list_num[3])\n",
        "print (list_num[4])"
      ],
      "metadata": {
        "colab": {
          "base_uri": "https://localhost:8080/"
        },
        "id": "r0XpZssgoZ7K",
        "outputId": "b46d2928-7f3a-4ec8-a3e3-79096567ded8"
      },
      "execution_count": null,
      "outputs": [
        {
          "output_type": "stream",
          "name": "stdout",
          "text": [
            "100\n",
            "200\n",
            "300\n",
            "400\n",
            "500\n"
          ]
        }
      ]
    },
    {
      "cell_type": "markdown",
      "source": [
        "**For loop**"
      ],
      "metadata": {
        "id": "tgGsleqYpAP4"
      }
    },
    {
      "cell_type": "code",
      "source": [
        "list_num"
      ],
      "metadata": {
        "colab": {
          "base_uri": "https://localhost:8080/"
        },
        "id": "A396OHS9o-UM",
        "outputId": "5763f800-8af1-493c-ba4a-7b0c4c478cfc"
      },
      "execution_count": null,
      "outputs": [
        {
          "output_type": "execute_result",
          "data": {
            "text/plain": [
              "[100, 200, 300, 400, 500]"
            ]
          },
          "metadata": {},
          "execution_count": 73
        }
      ]
    },
    {
      "cell_type": "code",
      "source": [
        "for i in list_num:#100 #200\n",
        "  print(i)"
      ],
      "metadata": {
        "colab": {
          "base_uri": "https://localhost:8080/"
        },
        "id": "6YF3uU8WpFiX",
        "outputId": "2019f256-5943-4412-bfa4-0bf761535c4b"
      },
      "execution_count": null,
      "outputs": [
        {
          "output_type": "stream",
          "name": "stdout",
          "text": [
            "100\n",
            "200\n",
            "300\n",
            "400\n",
            "500\n"
          ]
        }
      ]
    },
    {
      "cell_type": "code",
      "source": [
        "for num in range(1,10):\n",
        "  print (num)"
      ],
      "metadata": {
        "colab": {
          "base_uri": "https://localhost:8080/"
        },
        "id": "D0BVpdRjpw2z",
        "outputId": "418510ed-da7b-4a43-c1ef-e17241588127"
      },
      "execution_count": null,
      "outputs": [
        {
          "output_type": "stream",
          "name": "stdout",
          "text": [
            "1\n",
            "2\n",
            "3\n",
            "4\n",
            "5\n",
            "6\n",
            "7\n",
            "8\n",
            "9\n"
          ]
        }
      ]
    },
    {
      "cell_type": "code",
      "source": [
        "numbers = [1,2,3,4,5,6]\n",
        "\n",
        "#write a code to print numbers below 5\n",
        "\n",
        "for num in numbers:\n",
        "  if num < 5:\n",
        "    print(num)\n"
      ],
      "metadata": {
        "colab": {
          "base_uri": "https://localhost:8080/"
        },
        "id": "q7G1cdCmqgtP",
        "outputId": "b868ca88-6ec4-4c3d-e7a0-1965b92df64a"
      },
      "execution_count": null,
      "outputs": [
        {
          "output_type": "stream",
          "name": "stdout",
          "text": [
            "1\n",
            "2\n",
            "3\n",
            "4\n"
          ]
        }
      ]
    },
    {
      "cell_type": "code",
      "source": [
        "for num in numbers:\n",
        "  if num > 5:\n",
        "    print(num)"
      ],
      "metadata": {
        "colab": {
          "base_uri": "https://localhost:8080/"
        },
        "id": "5j4MxweFrbyD",
        "outputId": "cf2e7444-6de5-44fc-ace8-b315fb0f954e"
      },
      "execution_count": null,
      "outputs": [
        {
          "output_type": "stream",
          "name": "stdout",
          "text": [
            "6\n"
          ]
        }
      ]
    },
    {
      "cell_type": "code",
      "source": [
        "numbers = (1,2,3,4,5,6)\n",
        "\n",
        "for num in numbers:\n",
        "  if num < 5:\n",
        "    print(num)"
      ],
      "metadata": {
        "colab": {
          "base_uri": "https://localhost:8080/"
        },
        "id": "r3N3Ugv8tDxi",
        "outputId": "3ef2a01c-3430-43b8-d068-27fba9e56fe8"
      },
      "execution_count": null,
      "outputs": [
        {
          "output_type": "stream",
          "name": "stdout",
          "text": [
            "1\n",
            "2\n",
            "3\n",
            "4\n"
          ]
        }
      ]
    },
    {
      "cell_type": "code",
      "source": [
        "numbers = {1:'a',2:'b',3:'c',4:'d',5:'e',6:'f'}\n",
        "\n",
        "for num in numbers:\n",
        "  if num < 5:\n",
        "    print(num)"
      ],
      "metadata": {
        "colab": {
          "base_uri": "https://localhost:8080/"
        },
        "id": "EiSY5SeIuNCH",
        "outputId": "a62fe42f-cd98-46b5-a47d-79db1a7d6f93"
      },
      "execution_count": null,
      "outputs": [
        {
          "output_type": "stream",
          "name": "stdout",
          "text": [
            "1\n",
            "2\n",
            "3\n",
            "4\n"
          ]
        }
      ]
    },
    {
      "cell_type": "code",
      "source": [
        "numbers1 = [-1,2,1,3,5,4,0]\n",
        "\n",
        "for num in numbers1:\n",
        "  if num < 5:\n",
        "    print(num)"
      ],
      "metadata": {
        "colab": {
          "base_uri": "https://localhost:8080/"
        },
        "id": "wlWQVG6mubFD",
        "outputId": "5b93260d-9f1b-4890-e517-62b6694d6bb8"
      },
      "execution_count": null,
      "outputs": [
        {
          "output_type": "stream",
          "name": "stdout",
          "text": [
            "-1\n",
            "2\n",
            "1\n",
            "3\n",
            "4\n",
            "0\n"
          ]
        }
      ]
    },
    {
      "cell_type": "code",
      "source": [
        "d1"
      ],
      "metadata": {
        "colab": {
          "base_uri": "https://localhost:8080/"
        },
        "id": "qj1A7K1_CE7i",
        "outputId": "7b48b756-aa88-4362-8fc8-3b5c38ecbae1"
      },
      "execution_count": null,
      "outputs": [
        {
          "output_type": "execute_result",
          "data": {
            "text/plain": [
              "{'AI': -10, 8.8: ['ML', 'DL']}"
            ]
          },
          "metadata": {},
          "execution_count": 86
        }
      ]
    },
    {
      "cell_type": "code",
      "source": [
        "for num in d1.values():\n",
        "    print(num)"
      ],
      "metadata": {
        "colab": {
          "base_uri": "https://localhost:8080/"
        },
        "id": "IM-vx8HLClnj",
        "outputId": "fca4ef34-0caf-4cfc-aecb-6874b0f860a2"
      },
      "execution_count": null,
      "outputs": [
        {
          "output_type": "stream",
          "name": "stdout",
          "text": [
            "-10\n",
            "['ML', 'DL']\n"
          ]
        }
      ]
    },
    {
      "cell_type": "code",
      "source": [
        "for num in d1.items():\n",
        "  print(num)"
      ],
      "metadata": {
        "colab": {
          "base_uri": "https://localhost:8080/"
        },
        "id": "A6InZJwNC-FG",
        "outputId": "951d9ba0-dbd7-4523-cca6-fc315702a8b9"
      },
      "execution_count": null,
      "outputs": [
        {
          "output_type": "stream",
          "name": "stdout",
          "text": [
            "('AI', -10)\n",
            "(8.8, ['ML', 'DL'])\n"
          ]
        }
      ]
    },
    {
      "cell_type": "code",
      "source": [
        "for num in d1.keys():\n",
        "  print(num)"
      ],
      "metadata": {
        "colab": {
          "base_uri": "https://localhost:8080/"
        },
        "id": "Y1yv78BeDocr",
        "outputId": "f288eeda-bedd-41e6-bc0f-62af31f5c75b"
      },
      "execution_count": null,
      "outputs": [
        {
          "output_type": "stream",
          "name": "stdout",
          "text": [
            "AI\n",
            "8.8\n"
          ]
        }
      ]
    },
    {
      "cell_type": "markdown",
      "source": [
        "**While Loop**"
      ],
      "metadata": {
        "id": "NVqLMergEQhQ"
      }
    },
    {
      "cell_type": "code",
      "source": [
        "numbers = (1,2,3,4,5,6)\n",
        "\n",
        "#write a code to print all numbers below 5 by using while loop\n",
        "\n",
        "i = 0 #1\n",
        "num = None #checking the condition #1 #2\n",
        "\n",
        "while(num!=5):#True\n",
        "  num = numbers [i]\n",
        "  i = i + 1\n",
        "  print(num)"
      ],
      "metadata": {
        "colab": {
          "base_uri": "https://localhost:8080/"
        },
        "id": "YKHot7IdD2FW",
        "outputId": "999fda81-a2d8-4642-c22f-c6cff3256b26"
      },
      "execution_count": null,
      "outputs": [
        {
          "output_type": "stream",
          "name": "stdout",
          "text": [
            "1\n",
            "2\n",
            "3\n",
            "4\n",
            "5\n"
          ]
        }
      ]
    },
    {
      "cell_type": "code",
      "source": [
        "numbers = (1,2,3,4,5,6)\n",
        "\n",
        "#write a code to print all numbers below 4 by using while loop\n",
        "\n",
        "i = 0 #1 #2 #3\n",
        "num = None #1 #2 #3\n",
        "\n",
        "while(num!=3):#True #True #True #False\n",
        "  num = numbers [i]\n",
        "  i = i + 1\n",
        "  print(num)"
      ],
      "metadata": {
        "colab": {
          "base_uri": "https://localhost:8080/"
        },
        "id": "YtnjpqHPFf10",
        "outputId": "e6e1040d-5f10-4acb-c545-72bce2915955"
      },
      "execution_count": null,
      "outputs": [
        {
          "output_type": "stream",
          "name": "stdout",
          "text": [
            "1\n",
            "2\n",
            "3\n"
          ]
        }
      ]
    },
    {
      "cell_type": "code",
      "source": [
        "#nested loops\n",
        "\n",
        "names = ['Mohammed', 'Noor', 'Chyrel']\n",
        "\n",
        "for a in names:\n",
        "  print(a)\n",
        "\n",
        "  for b in (a):\n",
        "    print(b)\n",
        "\n",
        "  print ('')"
      ],
      "metadata": {
        "colab": {
          "base_uri": "https://localhost:8080/"
        },
        "id": "TgMXNo0-Jrn1",
        "outputId": "697a514f-5392-4581-e5fe-33dbb787a713"
      },
      "execution_count": null,
      "outputs": [
        {
          "output_type": "stream",
          "name": "stdout",
          "text": [
            "Mohammed\n",
            "M\n",
            "o\n",
            "h\n",
            "a\n",
            "m\n",
            "m\n",
            "e\n",
            "d\n",
            "\n",
            "Noor\n",
            "N\n",
            "o\n",
            "o\n",
            "r\n",
            "\n",
            "Chyrel\n",
            "C\n",
            "h\n",
            "y\n",
            "r\n",
            "e\n",
            "l\n",
            "\n"
          ]
        }
      ]
    },
    {
      "cell_type": "code",
      "source": [
        "#write a code to print only the even numbers in range of numbers 20\n",
        "\n",
        "for i in range(21):\n",
        "  if i%2 == 0:\n",
        "    print(i)"
      ],
      "metadata": {
        "colab": {
          "base_uri": "https://localhost:8080/"
        },
        "id": "xmU8JHxFMadl",
        "outputId": "f75df24a-3ed1-482b-e2e1-fadd8f8df3c9"
      },
      "execution_count": null,
      "outputs": [
        {
          "output_type": "stream",
          "name": "stdout",
          "text": [
            "0\n",
            "2\n",
            "4\n",
            "6\n",
            "8\n",
            "10\n",
            "12\n",
            "14\n",
            "16\n",
            "18\n",
            "20\n"
          ]
        }
      ]
    },
    {
      "cell_type": "code",
      "source": [
        "#create a list of those even numbers\n",
        "\n",
        "for i in range(21):\n",
        "  if i%2 == 0:\n",
        "    print(i)\n"
      ],
      "metadata": {
        "colab": {
          "base_uri": "https://localhost:8080/"
        },
        "id": "Nl0uh8GLN2x2",
        "outputId": "c35fb999-f3ae-4f2a-d31a-88480bea3d92"
      },
      "execution_count": null,
      "outputs": [
        {
          "output_type": "stream",
          "name": "stdout",
          "text": [
            "0\n",
            "2\n",
            "4\n",
            "6\n",
            "8\n",
            "10\n",
            "12\n",
            "14\n",
            "16\n",
            "18\n",
            "20\n"
          ]
        }
      ]
    },
    {
      "cell_type": "code",
      "source": [
        "even_numbers = []\n",
        "for i in range(21):\n",
        "  if i%2 == 0:\n",
        "    print(i)\n",
        "\n",
        "    even_numbers.append(i)\n",
        "\n",
        "print(even_numbers)"
      ],
      "metadata": {
        "colab": {
          "base_uri": "https://localhost:8080/"
        },
        "id": "Oq46MOfBOVKH",
        "outputId": "36a2a68a-4f95-40ef-acff-e860f1e5cadb"
      },
      "execution_count": null,
      "outputs": [
        {
          "output_type": "stream",
          "name": "stdout",
          "text": [
            "0\n",
            "2\n",
            "4\n",
            "6\n",
            "8\n",
            "10\n",
            "12\n",
            "14\n",
            "16\n",
            "18\n",
            "20\n",
            "[0, 2, 4, 6, 8, 10, 12, 14, 16, 18, 20]\n"
          ]
        }
      ]
    },
    {
      "cell_type": "code",
      "source": [
        "list_even = []\n",
        "\n",
        "for i in range(21):\n",
        "  if i%2 == 0:\n",
        "    list_even.append(i)\n",
        "\n",
        "print(list_even) *when you use indentation, it will become loop"
      ],
      "metadata": {
        "colab": {
          "base_uri": "https://localhost:8080/"
        },
        "id": "nogBsiouPhUp",
        "outputId": "ba3da216-c935-4404-d628-7552ac26a87e"
      },
      "execution_count": null,
      "outputs": [
        {
          "output_type": "stream",
          "name": "stdout",
          "text": [
            "[0, 2, 4, 6, 8, 10, 12, 14, 16, 18, 20]\n"
          ]
        }
      ]
    },
    {
      "cell_type": "markdown",
      "source": [
        "**Give a list of numbers, write a code to calculate the sum of even numbers in that list**"
      ],
      "metadata": {
        "id": "0bWlNUatQ4k3"
      }
    },
    {
      "cell_type": "code",
      "source": [
        "list_num = range(10)\n",
        "\n",
        "sum_even = 0\n",
        "\n",
        "for i in list_num:\n",
        "  if i%2 == 0:\n",
        "    sum_even = sum_even + i\n",
        "\n",
        "print('The sum of all even numbers are: ', sum_even)\n"
      ],
      "metadata": {
        "colab": {
          "base_uri": "https://localhost:8080/"
        },
        "id": "RZzoWm2nTBMh",
        "outputId": "3567faab-671e-4005-fd5e-2fedccc6cf00"
      },
      "execution_count": null,
      "outputs": [
        {
          "output_type": "stream",
          "name": "stdout",
          "text": [
            "The sum of all even numbers are:  20\n"
          ]
        }
      ]
    },
    {
      "cell_type": "code",
      "source": [
        "list_even = []\n",
        "\n",
        "for i in range(21):\n",
        "  if i%2 == 0:\n",
        "    list_even.append(i)\n",
        "\n",
        "  print(sum)"
      ],
      "metadata": {
        "colab": {
          "base_uri": "https://localhost:8080/"
        },
        "id": "CiPwII-FQD1_",
        "outputId": "ffea04c9-5548-449f-f33d-8083c21c5e1a"
      },
      "execution_count": null,
      "outputs": [
        {
          "output_type": "stream",
          "name": "stdout",
          "text": [
            "0\n",
            "0\n",
            "2\n",
            "2\n",
            "6\n",
            "6\n",
            "12\n",
            "12\n",
            "20\n",
            "20\n",
            "30\n",
            "30\n",
            "42\n",
            "42\n",
            "56\n",
            "56\n",
            "72\n",
            "72\n",
            "90\n",
            "90\n",
            "110\n"
          ]
        }
      ]
    },
    {
      "cell_type": "code",
      "source": [
        "list_even = []\n",
        "\n",
        "for i in range(21):\n",
        "  if i%2 == 0:\n",
        "    list_even.append(i)\n",
        "\n",
        "print(sum(list_even))"
      ],
      "metadata": {
        "colab": {
          "base_uri": "https://localhost:8080/"
        },
        "id": "lXfU--HxRYDm",
        "outputId": "4f67eb78-729b-452c-e349-27fbfe833f91"
      },
      "execution_count": null,
      "outputs": [
        {
          "output_type": "stream",
          "name": "stdout",
          "text": [
            "110\n"
          ]
        }
      ]
    },
    {
      "cell_type": "code",
      "source": [
        "list_even = []\n",
        "\n",
        "for i in range(10):\n",
        "  if i%2 == 0:\n",
        "    list_even.append(i)\n",
        "\n",
        "print(sum(list_even))"
      ],
      "metadata": {
        "colab": {
          "base_uri": "https://localhost:8080/"
        },
        "id": "bmPT5FmuR_b4",
        "outputId": "46307411-3deb-4568-dac9-cf04a2e82fe0"
      },
      "execution_count": null,
      "outputs": [
        {
          "output_type": "stream",
          "name": "stdout",
          "text": [
            "20\n"
          ]
        }
      ]
    },
    {
      "cell_type": "markdown",
      "source": [
        "Given a string, write a code to calculate the number of vowles (a,e,i,o,u) in the string.\n",
        "\n",
        "the string is: 'Hello World'"
      ],
      "metadata": {
        "id": "XIqAPh8-UVKj"
      }
    },
    {
      "cell_type": "code",
      "source": [
        "list_vowels = ['a','e','i','o','u']\n",
        "str1 = 'Hello World'\n",
        "\n",
        "for i in str1:\n",
        "  if i in list_vowels:\n",
        "    print(i)"
      ],
      "metadata": {
        "colab": {
          "base_uri": "https://localhost:8080/"
        },
        "id": "kEY6vTgzVxKQ",
        "outputId": "a72a94e7-3ce1-4a5b-d13e-be0473713f32"
      },
      "execution_count": null,
      "outputs": [
        {
          "output_type": "stream",
          "name": "stdout",
          "text": [
            "e\n",
            "o\n",
            "o\n"
          ]
        }
      ]
    },
    {
      "cell_type": "code",
      "source": [
        "list_vowels = ['a','e','i','o','u']\n",
        "str1 = 'Hello World'\n",
        "\n",
        "for i in str1:\n",
        "  if i in list_vowels:\n",
        "    print(i)"
      ],
      "metadata": {
        "colab": {
          "base_uri": "https://localhost:8080/"
        },
        "id": "017au1exWLLf",
        "outputId": "4453a917-f21f-4075-ace1-ad0f3f5686ec"
      },
      "execution_count": null,
      "outputs": [
        {
          "output_type": "stream",
          "name": "stdout",
          "text": [
            "e\n",
            "o\n",
            "o\n"
          ]
        }
      ]
    },
    {
      "cell_type": "code",
      "source": [
        "str10 = 'Hello World'\n",
        "vowels = ['a','e','i','o','u']\n",
        "\n",
        "for i in str10:\n",
        "  if i in vowels:\n",
        "    print(i)"
      ],
      "metadata": {
        "colab": {
          "base_uri": "https://localhost:8080/"
        },
        "id": "JYsuGLLCTw0j",
        "outputId": "547213e1-4a03-4b92-d87e-94420081d769"
      },
      "execution_count": null,
      "outputs": [
        {
          "output_type": "stream",
          "name": "stdout",
          "text": [
            "e\n",
            "o\n",
            "o\n"
          ]
        }
      ]
    },
    {
      "cell_type": "code",
      "source": [
        "str10 = 'Hello World'\n",
        "vowels = ['a','e','i','o','u']\n",
        "\n",
        "count = 0\n",
        "\n",
        "for i in str10:\n",
        "  if i in vowels:\n",
        "    count += 1\n",
        "\n",
        "print(count)"
      ],
      "metadata": {
        "colab": {
          "base_uri": "https://localhost:8080/"
        },
        "id": "C3K4dUaDaUtE",
        "outputId": "1759228d-083e-4aba-fcb7-c607853ccf88"
      },
      "execution_count": null,
      "outputs": [
        {
          "output_type": "stream",
          "name": "stdout",
          "text": [
            "3\n"
          ]
        }
      ]
    },
    {
      "cell_type": "code",
      "source": [
        "string = 'Hello World'\n",
        "count_vowel = 0 #1 #2 #3\n",
        "\n",
        "for vow in string.lower(): #.lower() to make all of it into lowercase\n",
        "  if vow in 'a,e,i,o,u':\n",
        "    count_vowel += 1 #to keep counting the next letter/items\n",
        "\n",
        "print ('The number of vowels are:', count_vowel)\n"
      ],
      "metadata": {
        "colab": {
          "base_uri": "https://localhost:8080/"
        },
        "id": "Ekg6TNdCVZ77",
        "outputId": "cd8aa177-8a2f-4f6d-e6ea-63d6c5171657"
      },
      "execution_count": null,
      "outputs": [
        {
          "output_type": "stream",
          "name": "stdout",
          "text": [
            "The number of vowels are: 3\n"
          ]
        }
      ]
    },
    {
      "cell_type": "code",
      "source": [
        "str10 = 'Artificial Intelligence'\n",
        "vowels = ['a','e','i','o','u']\n",
        "\n",
        "count = 0\n",
        "\n",
        "for i in str10.lower():\n",
        "  if i in vowels:\n",
        "    count += 1 #boleh jugak tulis >> count_vowel = count_vowel + 1\n",
        "\n",
        "print(count)"
      ],
      "metadata": {
        "colab": {
          "base_uri": "https://localhost:8080/"
        },
        "id": "eFw4nF-iXOXg",
        "outputId": "d5548ffd-a1f5-4398-a6c3-bac909f806e8"
      },
      "execution_count": null,
      "outputs": [
        {
          "output_type": "stream",
          "name": "stdout",
          "text": [
            "10\n"
          ]
        }
      ]
    },
    {
      "cell_type": "code",
      "source": [
        "string = 'Hello World'\n",
        "count_vowel = 0 #1 #2 #3\n",
        "\n",
        "for vowel in string.lower(): #.lower() to make all of it into lowercase\n",
        "  if vowel in 'a,e,i,o,u':\n",
        "    count_vowel += 1 #to keep counting the next letter/items\n",
        "\n",
        "print ('The number of vowels are:', count_vowel)\n"
      ],
      "metadata": {
        "colab": {
          "base_uri": "https://localhost:8080/"
        },
        "id": "z6Agj6NHdZ8B",
        "outputId": "b0d4404e-5dfb-4a39-f50f-315096dcb99f"
      },
      "execution_count": null,
      "outputs": [
        {
          "output_type": "stream",
          "name": "stdout",
          "text": [
            "The number of vowels are: 3\n"
          ]
        }
      ]
    },
    {
      "cell_type": "markdown",
      "source": [
        "*Function*\n",
        "\n",
        "To define a function in Python, use the \"def\" keyword, followed by the function name, parentheses, and a colon. The body of the function is indented and contains the code to be executed when the function is called.\n",
        "\n",
        "def funname(arguments):"
      ],
      "metadata": {
        "id": "6XmQi8hnhtTw"
      }
    },
    {
      "cell_type": "code",
      "source": [
        "def first_fun():\n",
        " '''\n",
        " This is my first function\n",
        " '''\n",
        " print('This is my first function')"
      ],
      "metadata": {
        "id": "bCe30K1fgPb5"
      },
      "execution_count": null,
      "outputs": []
    },
    {
      "cell_type": "code",
      "source": [
        "first_fun()"
      ],
      "metadata": {
        "colab": {
          "base_uri": "https://localhost:8080/"
        },
        "id": "xB4Ce9WmjUxn",
        "outputId": "7d9273ba-0d6c-4545-9a90-3070654ee7d3"
      },
      "execution_count": null,
      "outputs": [
        {
          "output_type": "stream",
          "name": "stdout",
          "text": [
            "This is my first function\n"
          ]
        }
      ]
    },
    {
      "cell_type": "code",
      "source": [
        "def sum_num(a,b):\n",
        "  ''' this function is about summing two numbers'''\n",
        "\n",
        "  c = a + b\n",
        "  print(c)"
      ],
      "metadata": {
        "id": "FvsccMt_jfbe"
      },
      "execution_count": null,
      "outputs": []
    },
    {
      "cell_type": "code",
      "source": [
        "sum_num(10,5 )"
      ],
      "metadata": {
        "colab": {
          "base_uri": "https://localhost:8080/"
        },
        "id": "GwG5PNpIjx4v",
        "outputId": "899b1365-ad77-4815-b2fc-6163e482fc1c"
      },
      "execution_count": null,
      "outputs": [
        {
          "output_type": "stream",
          "name": "stdout",
          "text": [
            "15\n"
          ]
        }
      ]
    },
    {
      "cell_type": "code",
      "source": [
        "sum_num(10)"
      ],
      "metadata": {
        "colab": {
          "base_uri": "https://localhost:8080/",
          "height": 141
        },
        "id": "RywGo1ojj6NL",
        "outputId": "cbf857ea-cd83-4e15-b3b5-c1cf7687a6aa"
      },
      "execution_count": null,
      "outputs": [
        {
          "output_type": "error",
          "ename": "TypeError",
          "evalue": "sum_num() missing 1 required positional argument: 'b'",
          "traceback": [
            "\u001b[0;31m---------------------------------------------------------------------------\u001b[0m",
            "\u001b[0;31mTypeError\u001b[0m                                 Traceback (most recent call last)",
            "\u001b[0;32m<ipython-input-28-451b247b9ccf>\u001b[0m in \u001b[0;36m<cell line: 1>\u001b[0;34m()\u001b[0m\n\u001b[0;32m----> 1\u001b[0;31m \u001b[0msum_num\u001b[0m\u001b[0;34m(\u001b[0m\u001b[0;36m10\u001b[0m\u001b[0;34m)\u001b[0m\u001b[0;34m\u001b[0m\u001b[0;34m\u001b[0m\u001b[0m\n\u001b[0m",
            "\u001b[0;31mTypeError\u001b[0m: sum_num() missing 1 required positional argument: 'b'"
          ]
        }
      ]
    },
    {
      "cell_type": "markdown",
      "source": [
        "**Error!**\n",
        "\n",
        "When you want to use the sum_num function, you need to provide with 2 number like above cell"
      ],
      "metadata": {
        "id": "v4-TumtxFfaO"
      }
    },
    {
      "cell_type": "code",
      "source": [
        "sum_num('Big', ' Data')"
      ],
      "metadata": {
        "colab": {
          "base_uri": "https://localhost:8080/"
        },
        "id": "QAsH9aUOkJAa",
        "outputId": "d38f744c-f33d-4eb8-cc65-ff2409e2fe32"
      },
      "execution_count": null,
      "outputs": [
        {
          "output_type": "stream",
          "name": "stdout",
          "text": [
            "Big Data\n"
          ]
        }
      ]
    },
    {
      "cell_type": "code",
      "source": [
        "def sum_num(a,b):\n",
        "  ''' this function is about summing two numbers'''\n",
        "\n",
        "  c = int(a) + int(b)\n",
        "  print(c)"
      ],
      "metadata": {
        "id": "wQMa7bsrkQ21"
      },
      "execution_count": null,
      "outputs": []
    },
    {
      "cell_type": "code",
      "source": [
        "sum_num(2,4)"
      ],
      "metadata": {
        "colab": {
          "base_uri": "https://localhost:8080/"
        },
        "id": "FRikObLxkfqN",
        "outputId": "30aff9af-2136-4b39-9168-bba22a05a932"
      },
      "execution_count": null,
      "outputs": [
        {
          "output_type": "stream",
          "name": "stdout",
          "text": [
            "6\n"
          ]
        }
      ]
    },
    {
      "cell_type": "code",
      "source": [
        "def multiply_num(a,b,c):\n",
        "  d = a * b * c\n",
        "  return(d)"
      ],
      "metadata": {
        "id": "G7oPg0Eeknim"
      },
      "execution_count": null,
      "outputs": []
    },
    {
      "cell_type": "code",
      "source": [
        "multiply_num(10,1,2)"
      ],
      "metadata": {
        "colab": {
          "base_uri": "https://localhost:8080/"
        },
        "id": "IkrlWXV_k6m3",
        "outputId": "3e0d3a33-3eef-4168-881a-90d723fcf375"
      },
      "execution_count": null,
      "outputs": [
        {
          "output_type": "execute_result",
          "data": {
            "text/plain": [
              "20"
            ]
          },
          "metadata": {},
          "execution_count": 151
        }
      ]
    },
    {
      "cell_type": "markdown",
      "source": [
        "**print vs return**\n",
        "\n",
        "To summarize, \"print\" is used to output values to the console for debugging or informational purposes, while \"return\" is used to send a value back from a function to the calling code. If you want to use the result of a function in other parts of your code, you need to use \"return\" to make that value available outside the function.\n",
        "\n",
        "\n",
        "\n",
        "*print just shows the human user a string representing what is going on inside the computer. The computer cannot make use of that printing. return is how a function gives back a value. This value is often unseen by the human user, but it can be used by the computer in further functions.*"
      ],
      "metadata": {
        "id": "LWA-G_JIlWOk"
      }
    },
    {
      "cell_type": "code",
      "source": [
        "def even_num(a):\n",
        "  if a%2 == 0:\n",
        "    return(True)"
      ],
      "metadata": {
        "id": "kPVxWGDmk_0S"
      },
      "execution_count": null,
      "outputs": []
    },
    {
      "cell_type": "code",
      "source": [
        "even_num(2)"
      ],
      "metadata": {
        "colab": {
          "base_uri": "https://localhost:8080/"
        },
        "id": "Ue4w5bPzl3uz",
        "outputId": "31e4ddb5-324e-465a-c6a1-3e99949d1354"
      },
      "execution_count": null,
      "outputs": [
        {
          "output_type": "execute_result",
          "data": {
            "text/plain": [
              "True"
            ]
          },
          "metadata": {},
          "execution_count": 31
        }
      ]
    },
    {
      "cell_type": "code",
      "source": [
        "def odd_num(a):\n",
        "  if a%2 != 0:\n",
        "    return(True)"
      ],
      "metadata": {
        "id": "eWea1s2gl7bE"
      },
      "execution_count": null,
      "outputs": []
    },
    {
      "cell_type": "code",
      "source": [
        "odd_num(5)"
      ],
      "metadata": {
        "colab": {
          "base_uri": "https://localhost:8080/"
        },
        "id": "xo9pfyUDmZZA",
        "outputId": "f20ba073-e0ac-4c53-ee77-7af8f62c8afa"
      },
      "execution_count": null,
      "outputs": [
        {
          "output_type": "execute_result",
          "data": {
            "text/plain": [
              "True"
            ]
          },
          "metadata": {},
          "execution_count": 33
        }
      ]
    },
    {
      "cell_type": "code",
      "source": [
        "def ev_num(a):\n",
        "  if a%2 == 0:\n",
        "    return(Even)"
      ],
      "metadata": {
        "id": "G9WF-JXimdW4"
      },
      "execution_count": null,
      "outputs": []
    },
    {
      "cell_type": "code",
      "source": [
        "even_num(2)"
      ],
      "metadata": {
        "colab": {
          "base_uri": "https://localhost:8080/"
        },
        "id": "PaQlHI2smw84",
        "outputId": "239fbaf7-8cda-4529-c9de-802ea8cacc55"
      },
      "execution_count": null,
      "outputs": [
        {
          "output_type": "execute_result",
          "data": {
            "text/plain": [
              "True"
            ]
          },
          "metadata": {},
          "execution_count": 36
        }
      ]
    },
    {
      "cell_type": "code",
      "source": [
        "def odd_num(a):\n",
        "  if a%2 != 0:\n",
        "    return(True)\n",
        "\n",
        "  if a%2 == 0:\n",
        "    return(False)"
      ],
      "metadata": {
        "id": "ozzd7hHenI29"
      },
      "execution_count": null,
      "outputs": []
    },
    {
      "cell_type": "code",
      "source": [
        "odd_num(3)"
      ],
      "metadata": {
        "colab": {
          "base_uri": "https://localhost:8080/"
        },
        "id": "Yv25lajQoJaH",
        "outputId": "5b0f28a1-1ad8-430b-9aba-6c741f83548a"
      },
      "execution_count": null,
      "outputs": [
        {
          "output_type": "execute_result",
          "data": {
            "text/plain": [
              "True"
            ]
          },
          "metadata": {},
          "execution_count": 169
        }
      ]
    },
    {
      "cell_type": "code",
      "source": [
        "odd_num(2)"
      ],
      "metadata": {
        "colab": {
          "base_uri": "https://localhost:8080/"
        },
        "id": "bXEjee-goOie",
        "outputId": "f3da7b45-800e-4272-8ced-276790c3381e"
      },
      "execution_count": null,
      "outputs": [
        {
          "output_type": "execute_result",
          "data": {
            "text/plain": [
              "False"
            ]
          },
          "metadata": {},
          "execution_count": 170
        }
      ]
    },
    {
      "cell_type": "markdown",
      "source": [
        "**Write a function to find the highest value in a list of numbers without using other functions.**"
      ],
      "metadata": {
        "id": "HqxIJHE7oi0d"
      }
    },
    {
      "cell_type": "code",
      "source": [
        "list_num = [30,40,50,60]\n",
        "\n",
        "def max_num(list_num):\n",
        "  max_num = list_num[0]\n",
        "  for i in list_num:\n",
        "    if i > max_num:\n",
        "      max_num = i\n",
        "  return(max_num)"
      ],
      "metadata": {
        "id": "5ROueukpoTUx"
      },
      "execution_count": null,
      "outputs": []
    },
    {
      "cell_type": "code",
      "source": [
        "max_num(list_num)"
      ],
      "metadata": {
        "colab": {
          "base_uri": "https://localhost:8080/"
        },
        "id": "U_evmqwupiM4",
        "outputId": "11d253ca-5918-478c-e4de-f06ddc7e180e"
      },
      "execution_count": null,
      "outputs": [
        {
          "output_type": "execute_result",
          "data": {
            "text/plain": [
              "60"
            ]
          },
          "metadata": {},
          "execution_count": 173
        }
      ]
    },
    {
      "cell_type": "code",
      "source": [
        "list_num = [100,0,5,200,-20,8.8]\n",
        "\n",
        "highest = list_num[0] #100\n",
        "\n",
        "for i in list_num:\n",
        "  if i > highest:\n",
        "    highest = i\n",
        "\n",
        "print('The highest value in the list is:', highest)"
      ],
      "metadata": {
        "colab": {
          "base_uri": "https://localhost:8080/"
        },
        "id": "d9n-FYU8qKhl",
        "outputId": "a5d43dde-14c8-4bc6-fbc5-690ac1fcc99a"
      },
      "execution_count": null,
      "outputs": [
        {
          "output_type": "stream",
          "name": "stdout",
          "text": [
            "The highest value in the list is: 200\n"
          ]
        }
      ]
    },
    {
      "cell_type": "code",
      "source": [
        "list_num = [100,0,5,200,-20,8.8]\n",
        "\n",
        "highest = list_num[0] #100\n",
        "lowest = list_num[0]\n",
        "\n",
        "for i in list_num:\n",
        "  if i > highest:\n",
        "    highest = i\n",
        "  if i < lowest:\n",
        "    lowest = i\n",
        "\n",
        "print('The highest value in the list is:', highest)\n",
        "print('The lowest value in the list is:', lowest)"
      ],
      "metadata": {
        "colab": {
          "base_uri": "https://localhost:8080/"
        },
        "id": "8d_p7pusq1-6",
        "outputId": "23b1fd50-b8e2-4f05-b316-d5d1cc07b24a"
      },
      "execution_count": null,
      "outputs": [
        {
          "output_type": "stream",
          "name": "stdout",
          "text": [
            "The highest value in the list is: 200\n",
            "The lowest value in the list is: -20\n"
          ]
        }
      ]
    },
    {
      "cell_type": "code",
      "source": [
        "def high_low(list_num):\n",
        "  highest = list_num[0] #100\n",
        "  lowest = list_num[0]\n",
        "\n",
        "  for i in list_num:\n",
        "    if i > highest:\n",
        "      highest = i\n",
        "    if i < lowest:\n",
        "      lowest = i\n",
        "\n",
        "  print('The highest value in the list is:', highest)\n",
        "  print('The lowest value in the list is:', lowest)"
      ],
      "metadata": {
        "id": "iZYc9rtvsvkm"
      },
      "execution_count": null,
      "outputs": []
    },
    {
      "cell_type": "code",
      "source": [
        "list_num_1 = [300,111,400, -2, 0, 55, 8.8, -99,1.5,44]\n",
        "high_low(list_num_1)"
      ],
      "metadata": {
        "colab": {
          "base_uri": "https://localhost:8080/"
        },
        "id": "ku63p7QWurcg",
        "outputId": "9eb9ebf6-6bcc-4243-c4fd-8e24edc323fa"
      },
      "execution_count": null,
      "outputs": [
        {
          "output_type": "stream",
          "name": "stdout",
          "text": [
            "The highest value in the list is: 400\n",
            "The lowest value in the list is: -99\n"
          ]
        }
      ]
    },
    {
      "cell_type": "markdown",
      "source": [
        "**Write a function to sum the even numbers in a list of numbers**"
      ],
      "metadata": {
        "id": "zRmOVh4YwWSl"
      }
    },
    {
      "cell_type": "code",
      "source": [
        "def sum_num(list_num):\n",
        "\n",
        "  count_even = 0\n",
        "\n",
        "  for i in list_num:\n",
        "      if i%2 == 0:\n",
        "         count_even += i\n",
        "\n",
        "  print('The sum of even numbers in the list is:', count_even)"
      ],
      "metadata": {
        "id": "ABDu5LqAwAV-"
      },
      "execution_count": null,
      "outputs": []
    },
    {
      "cell_type": "code",
      "source": [
        "list_num_1 = [300,111,400, -2, 0, 55, 8.8, -99,1.5,44]"
      ],
      "metadata": {
        "id": "QvMv6v4rwX9y"
      },
      "execution_count": null,
      "outputs": []
    },
    {
      "cell_type": "code",
      "source": [
        "sum_num(list_num_1)"
      ],
      "metadata": {
        "colab": {
          "base_uri": "https://localhost:8080/"
        },
        "id": "uZINRTGKxg_n",
        "outputId": "0a6eec25-24fd-4ca7-ca6f-0d59e1be54b7"
      },
      "execution_count": null,
      "outputs": [
        {
          "output_type": "stream",
          "name": "stdout",
          "text": [
            "The sum of even numbers in the list is: 742\n"
          ]
        }
      ]
    },
    {
      "cell_type": "code",
      "source": [
        "#find the missing value in the list below\n",
        "\n",
        "list_missing = [1,4,3,2,5,8,7]\n",
        "list_missing.sort()\n",
        "list_missing"
      ],
      "metadata": {
        "id": "YNMEA9NhxtxS",
        "colab": {
          "base_uri": "https://localhost:8080/"
        },
        "outputId": "7667009a-5892-4ced-ca5e-ff4d786b7adf"
      },
      "execution_count": null,
      "outputs": [
        {
          "output_type": "execute_result",
          "data": {
            "text/plain": [
              "[1, 2, 3, 4, 5, 7, 8]"
            ]
          },
          "metadata": {},
          "execution_count": 17
        }
      ]
    },
    {
      "cell_type": "code",
      "source": [
        "list_missing = [1,4,3,2,5,8,7]\n",
        "\n",
        "def missing_value(list_missing_value):\n",
        "  list_missing_value.sort()\n",
        "\n",
        "  for i in range(1,len(list_missing_value)): #in the bracket is index, so #2 #3\n",
        "    if list_missing_value[i] - list_missing_value[i-1] != 1: #False #False #False #False #True\n",
        "\n",
        "      #print ('The missing value is:', (list_missing_value[i] - 1))\n",
        "      return list_missing_value[i] - 1\n",
        "\n",
        "  return None"
      ],
      "metadata": {
        "id": "R_6gFSQkvLG9"
      },
      "execution_count": null,
      "outputs": []
    },
    {
      "cell_type": "code",
      "source": [
        "missing_value(list_missing)"
      ],
      "metadata": {
        "id": "pFwuZthB7aD2",
        "colab": {
          "base_uri": "https://localhost:8080/"
        },
        "outputId": "7fdaa256-2446-47a6-c3b9-9172c2c009cd"
      },
      "execution_count": null,
      "outputs": [
        {
          "output_type": "execute_result",
          "data": {
            "text/plain": [
              "6"
            ]
          },
          "metadata": {},
          "execution_count": 12
        }
      ]
    },
    {
      "cell_type": "code",
      "source": [
        "#write a function to remove duplicate from a list of numbers\n",
        "list_num2 = [100,20,-30,100,20,0,-30]\n",
        "\n",
        "new_list = []\n",
        "\n",
        "def remove_duplicate(x):\n",
        "  for i in x: #100\n",
        "    if i not in new_list: #True\n",
        "      new_list.append(i) #the number will be added to the new list\n",
        "\n",
        "  return new_list"
      ],
      "metadata": {
        "id": "Xz19AygiSWHu"
      },
      "execution_count": null,
      "outputs": []
    },
    {
      "cell_type": "code",
      "source": [
        "remove_duplicate(list_num2)"
      ],
      "metadata": {
        "colab": {
          "base_uri": "https://localhost:8080/"
        },
        "id": "19eCR5baWlDu",
        "outputId": "3d2ab4aa-8d7c-4f2f-c55b-1e83118cd2f2"
      },
      "execution_count": null,
      "outputs": [
        {
          "output_type": "execute_result",
          "data": {
            "text/plain": [
              "[100, 20, -30, 0]"
            ]
          },
          "metadata": {},
          "execution_count": 94
        }
      ]
    },
    {
      "cell_type": "code",
      "source": [
        "list_12 = [2,4,5,2,3,6,7]\n",
        "\n",
        "remove_duplicate(list_12)"
      ],
      "metadata": {
        "colab": {
          "base_uri": "https://localhost:8080/"
        },
        "id": "uYLc6Wubgeeo",
        "outputId": "2f2241dc-ee12-4055-df9a-7ec340192a88"
      },
      "execution_count": null,
      "outputs": [
        {
          "output_type": "execute_result",
          "data": {
            "text/plain": [
              "[2, 4, 5, 3, 6, 7]"
            ]
          },
          "metadata": {},
          "execution_count": 97
        }
      ]
    },
    {
      "cell_type": "code",
      "source": [
        "def remove_dup(x):\n",
        "\n",
        "  for i in x:\n",
        "    if x.count(i) > 1:\n",
        "      x.remove(i)\n",
        "\n",
        "      return x"
      ],
      "metadata": {
        "id": "Hr7jWBNqc3Nc"
      },
      "execution_count": null,
      "outputs": []
    },
    {
      "cell_type": "code",
      "source": [
        "list_R = [20,23,25,20,27,29]\n",
        "remove_dup(list_R)"
      ],
      "metadata": {
        "colab": {
          "base_uri": "https://localhost:8080/"
        },
        "id": "FK2an0T7gskH",
        "outputId": "8b08d41e-fd3b-415d-b39f-13476fc35096"
      },
      "execution_count": null,
      "outputs": [
        {
          "output_type": "execute_result",
          "data": {
            "text/plain": [
              "[23, 25, 20, 27, 29]"
            ]
          },
          "metadata": {},
          "execution_count": 98
        }
      ]
    }
  ]
}